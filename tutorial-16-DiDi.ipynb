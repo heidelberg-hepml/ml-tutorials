{
 "cells": [
  {
   "cell_type": "markdown",
   "id": "6ea00b9f",
   "metadata": {},
   "source": [
    "## Generating full off-shell kinematics\n",
    "\n",
    "#### Background\n",
    "\n",
    "Simulations for LHC physics is a major computational task at the experiment, and will become more computationally intensive in the coming years, so if ML techniques can speed up some aspects of this then it would be very useful. The process we are studying is a leptonic $t\\bar{t}$-decay: $t \\bar{t} \\rightarrow W^- \\;\\bar{b}\\; W^+ \\;b \\rightarrow (\\ell \\bar{\\nu}) \\; \\bar{b} \\; (\\bar{\\ell} \\nu) \\; b$<br>\n",
    "Here, the computational difficulty lays in accuratly modeling full off-shell effects. ML could help there, however the phase space containing on + off-shell effects is a multiresonant phase space in 24 dimensions. Instead of learning this phase space from scratch we make use of a CFM model mapping unpaired samples from on-shell (here on) to on+off-shell (here off) i.e. using our physics knowledge to make an educated guess of our latent space."
   ]
  },
  {
   "cell_type": "markdown",
   "id": "ad70aafa",
   "metadata": {},
   "source": [
    "#### Interesting papers\n",
    "\n",
    "- Kicking it Off(-shell) with Direct Diffusion<br>\n",
    "    *Anja Butter, Tomas Jezo, Michael Klasen, Mathias Kuschick, Sofia Palacios Schweitzer, Tilman Plehn*<br>\n",
    "    https://arxiv.org/pdf/2311.17175.pdf\n",
    "- Flow Matching for Generative Modeling<br>\n",
    "  *Yaron Lipman, Ricky T. Q. Chen, Heli Ben-Hamu, Maximilian Nickel, Matt Le*<br>\n",
    "  https://arxiv.org/pdf/2210.02747.pdf\n",
    "\n",
    "#### Outline\n",
    "\n",
    "- Imports\n",
    "- Loading the data\n",
    "- Study the data\n",
    "- Preprocessing\n",
    "- Defining the diffusion model\n",
    "- Training the model\n",
    "- Study the results\n"
   ]
  },
  {
   "cell_type": "code",
   "execution_count": 7,
   "id": "77a2c903",
   "metadata": {},
   "outputs": [],
   "source": [
    "import math\n",
    "import sys\n",
    "import torch\n",
    "import torch.nn as nn\n",
    "import numpy as np\n",
    "import matplotlib.pyplot as plt\n",
    "import time\n",
    "from torchdiffeq import odeint\n",
    "import matplotlib\n",
    "from torch.utils.data import TensorDataset\n",
    "from torch.utils.data import DataLoader"
   ]
  },
  {
   "cell_type": "code",
   "execution_count": 8,
   "id": "2773a984",
   "metadata": {},
   "outputs": [],
   "source": [
    "# Load off-shell and on-shell data\n",
    "train_data_off = np.load(\"offshell_trn_data.npy\")\n",
    "val_data_off = np.load(\"offshell_val_data.npy\")\n",
    "test_data_off = np.load(\"offshell_tst_data.npy\")\n",
    "\n",
    "train_data_on = np.load(\"onshell_trn_data.npy\")\n",
    "val_data_on = np.load(\"onshell_val_data.npy\")\n",
    "test_data_on = np.load(\"onshell_tst_data.npy\")"
   ]
  },
  {
   "cell_type": "code",
   "execution_count": 9,
   "id": "0064899b",
   "metadata": {},
   "outputs": [],
   "source": [
    "if torch.cuda.is_available():\n",
    "    torch.set_default_device(\"cuda\")\n",
    "    device = torch.device(\"cuda\")\n",
    "else:\n",
    "    device = torch.device(\"cpu\")"
   ]
  },
  {
   "cell_type": "code",
   "execution_count": 10,
   "id": "1c690790",
   "metadata": {},
   "outputs": [
    {
     "name": "stdout",
     "output_type": "stream",
     "text": [
      "cpu\n"
     ]
    }
   ],
   "source": [
    "print(device)"
   ]
  },
  {
   "cell_type": "code",
   "execution_count": 11,
   "id": "d7f8b70d",
   "metadata": {},
   "outputs": [
    {
     "data": {
      "text/plain": [
       "((500000, 12), (250000, 12), (250000, 12))"
      ]
     },
     "execution_count": 11,
     "metadata": {},
     "output_type": "execute_result"
    }
   ],
   "source": [
    "train_data_off.shape, val_data_off.shape, test_data_off.shape"
   ]
  },
  {
   "cell_type": "code",
   "execution_count": 12,
   "id": "2158d9e8",
   "metadata": {},
   "outputs": [
    {
     "data": {
      "text/plain": [
       "((500000, 12), (250000, 12), (250000, 12))"
      ]
     },
     "execution_count": 12,
     "metadata": {},
     "output_type": "execute_result"
    }
   ],
   "source": [
    "train_data_on.shape, val_data_on.shape, test_data_on.shape"
   ]
  },
  {
   "cell_type": "markdown",
   "id": "526e35ef",
   "metadata": {},
   "source": [
    "We focus on half of the physics phase space, i.e. we only look at the $t$-decay. Hence, each element of the data has 12 entries, corresponding to the 4-momenta of the $\\bar{\\nu}$, $\\ell$ and $\\bar{b}$ respectively.\n",
    "\n",
    "Each entry has the form $[E_\\bar{\\nu}, p_{x,\\bar{\\nu}}, p_{y,\\bar{\\nu}}, p_{z,\\bar{\\nu}}, E_\\ell, p_{x,\\ell}, p_{y,\\ell}, p_{z,\\ell},E_\\bar{b}, p_{x,\\bar{b}}, p_{y,\\bar{b}}, p_{z,\\bar{b}} ]$."
   ]
  },
  {
   "cell_type": "markdown",
   "id": "a22b0c64",
   "metadata": {},
   "source": [
    "The most intersting and difficult correlations are the resonance masses form the $W$-Boson decay and the $t$-quark decay. "
   ]
  },
  {
   "cell_type": "code",
   "execution_count": 13,
   "id": "bdfe0f83",
   "metadata": {},
   "outputs": [],
   "source": [
    "def get_obs(events):\n",
    "    nu_4m = events[...,0:4]\n",
    "    l_4m = events[...,4:8]\n",
    "    b_4m = events[...,8:]\n",
    "    t_4m = nu_4m + l_4m + b_4m\n",
    "\n",
    "    t_im = np.sqrt(t_4m[...,0]**2 - t_4m[...,1]**2 - t_4m[...,2]**2 - t_4m[...,3]**2)\n",
    "    t_pt = np.sqrt(t_4m[...,1]**2 + t_4m[...,2]**2)\n",
    "    \n",
    "    W_4m = nu_4m + l_4m\n",
    "    W_im = np.sqrt(W_4m[...,0]**2 - W_4m[...,1]**2 - W_4m[...,2]**2 - W_4m[...,3]**2)\n",
    "    W_pt = np.sqrt(W_4m[...,1]**2 + W_4m[...,2]**2)\n",
    "\n",
    "\n",
    "    return t_im, t_pt, W_im, W_pt"
   ]
  },
  {
   "cell_type": "markdown",
   "id": "f31b67b8",
   "metadata": {},
   "source": [
    "Let's get the invariant mass and the transverse momentum of the $t$-quark and the $W$-Boson for the off- and on-shell test dataset"
   ]
  },
  {
   "cell_type": "code",
   "execution_count": 14,
   "id": "95640871",
   "metadata": {},
   "outputs": [],
   "source": [
    "test_t_ims_off, test_t_pts_off, test_W_im_off, test_W_pts_off = get_obs(test_data_off)\n",
    "test_t_ims_on, test_t_pts_on, test_W_im_on, test_W_pts_on = get_obs(test_data_on)"
   ]
  },
  {
   "cell_type": "markdown",
   "id": "006165c7",
   "metadata": {},
   "source": [
    "Let's plot the invariant mass of the $t$-decay for off- and on-shell data."
   ]
  },
  {
   "cell_type": "code",
   "execution_count": 15,
   "id": "8a65dc3e",
   "metadata": {},
   "outputs": [
    {
     "data": {
      "image/png": "[encoded data removed]",
      "text/plain": [
       "<Figure size 640x480 with 1 Axes>"
      ]
     },
     "metadata": {},
     "output_type": "display_data"
    }
   ],
   "source": [
    "fig, axs = plt.subplots()\n",
    "axs.hist(test_t_ims_off, density=True, bins=50, histtype=\"step\", range=[0,1000], label=\"off\")\n",
    "axs.hist(test_t_ims_on, density=True, bins=50, histtype=\"step\", range=[0,1000], label=\"on\")\n",
    "axs.set_xlabel(r\"$m_{\\nu \\ell b}$ (GeV)\")\n",
    "axs.set_ylabel(\"normalized\")\n",
    "axs.set_yscale(\"log\")\n",
    "axs.legend()\n",
    "plt.show()"
   ]
  },
  {
   "cell_type": "markdown",
   "id": "41029951",
   "metadata": {},
   "source": [
    "Whereas the resonsant structure of both datasets is identical (peak at $m_t =172.5$GeV), we can clearly observe off-shell effects in the right tail of the mass distribution. "
   ]
  },
  {
   "cell_type": "markdown",
   "id": "7bb5738d",
   "metadata": {},
   "source": [
    "Now, concerning our physical degrees of freedom:<br>\n",
    "Neutrinos are assumed to be massless, reducing the degrees of freedom to 11.<br>\n",
    "Furthermore, the lepton's mass (can be muon or electron) will be of a much lower energy scale than the $t \\bar{t}$ decay. Hence, it's a valid approximation to set $m_\\ell \\approx 0$.<br>\n",
    "Next, we are on parton level which implies that $m_b =4.75$ GeV holds for the $b$-quark. We can therefore, remove an additional degree of freedom.<br>\n",
    "This leaves us in total with 9 d.o.f."
   ]
  },
  {
   "cell_type": "markdown",
   "id": "af33e11c",
   "metadata": {},
   "source": [
    "We can choose a more suitable representation that takes into account the symmetries of our data:\n",
    "- $p_{T,i} = \\sqrt{p_{x,i}^2+p_{y,i}^2}$\n",
    "- $\\eta_i = \\text{arctanh}\\left(\\frac{p_{z,i}}{\\sqrt{p_{x,i}^2+p_{y,i}^2+p_{z,i}^2}}\\right)$\n",
    "- $\\phi_i = \\text{arctan2}(p_{y,i}, p_{x,i})$<br> <br>\n",
    "where i runs over all three particles."
   ]
  },
  {
   "cell_type": "markdown",
   "id": "0f63b76b",
   "metadata": {},
   "source": [
    "We know from experience that ML models work best when the input is distributed approximately Gaussian. $\\phi_i$ follows a uniform distribution, so we can transform it into something closer to a Gaussian by applying $\\text{arctanh}$. We also apply a component-wise normalization step such that the data has a mean of $0$ and a standard deviation of $1$.\n",
    "\n",
    "Let's write some functions to apply the preprocessing to the training data and invert it for the generated data:"
   ]
  },
  {
   "cell_type": "code",
   "execution_count": 16,
   "id": "53d904c2",
   "metadata": {},
   "outputs": [],
   "source": [
    "def apply_preprocessing(data_full):\n",
    "    # neutrino\n",
    "    pt_nu = np.sqrt(data_full[...,1]**2 + data_full[...,2]**2)\n",
    "    eta_nu = np.arctanh(data_full[...,3] / np.sqrt(data_full[...,1]**2 + data_full[...,2]**2 + data_full[...,3]**2))\n",
    "    phi_nu = np.arctanh(np.arctan2(data_full[...,2], data_full[...,1]) / np.pi)\n",
    "    # lepton\n",
    "    pt_l = np.sqrt(data_full[...,5]**2 + data_full[...,6]**2)\n",
    "    eta_l = np.arctanh(data_full[...,7] / np.sqrt(data_full[...,5]**2 + data_full[...,6]**2 + data_full[...,7]**2))\n",
    "    phi_l = np.arctanh(np.arctan2(data_full[...,6], data_full[...,5]) / np.pi)\n",
    "    # b-quark\n",
    "    pt_b = np.sqrt(data_full[...,9]**2 + data_full[...,10]**2)\n",
    "    eta_b = np.arctanh(data_full[...,11] / np.sqrt(data_full[...,9]**2 + data_full[...,10]**2 + data_full[...,11]**2))\n",
    "    phi_b = np.arctanh(np.arctan2(data_full[...,10], data_full[...,9]) / np.pi)\n",
    "    \n",
    "    \n",
    "    #Standardize\n",
    "    data_new = np.stack((pt_nu, eta_nu, phi_nu, pt_l, eta_l, phi_l, pt_b, eta_b, phi_b), axis=-1)\n",
    "    mean = data_new.mean(0)\n",
    "    std = data_new.std(0)\n",
    "    \n",
    "    data_new = (data_new - mean)/std\n",
    "    \n",
    "    return data_new, mean, std\n",
    "\n",
    "def invert_preprocessing(data_red, mean, std):\n",
    "    # Undo standardize\n",
    "    data_red = data_red*std + mean\n",
    "    #neutrino\n",
    "    pt_nu = data_red[...,0]\n",
    "    eta_nu = data_red[...,1]\n",
    "    phi_nu = np.arctan(data_red[...,2]) * np.pi\n",
    "    px_nu = pt_nu * np.cos(phi_nu)\n",
    "    py_nu = pt_nu * np.sin(phi_nu)\n",
    "    pz_nu = pt_nu * np.sinh(eta_nu)\n",
    "    E_nu = np.sqrt(px_nu**2 + py_nu**2 + pz_nu**2)\n",
    "    \n",
    "    #lepton\n",
    "    pt_l = data_red[...,3]\n",
    "    eta_l = data_red[...,4]\n",
    "    phi_l = np.arctan(data_red[...,5]) * np.pi\n",
    "    px_l = pt_l * np.cos(phi_l)\n",
    "    py_l = pt_l * np.sin(phi_l)\n",
    "    pz_l = pt_l * np.sinh(eta_l)\n",
    "    E_l = np.sqrt(px_l**2 + py_l**2 + pz_l**2)\n",
    "    \n",
    "    #b-quark\n",
    "    pt_b = data_red[...,6]\n",
    "    eta_b = data_red[...,7]\n",
    "    phi_b = np.arctan(data_red[...,8]) * np.pi\n",
    "    px_b = pt_b * np.cos(phi_b)\n",
    "    py_b = pt_b * np.sin(phi_b)\n",
    "    pz_b = pt_b * np.sinh(eta_b)\n",
    "    E_b = np.sqrt(px_b**2 + py_b**2 + pz_b**2 + 4.75**2)\n",
    "    \n",
    "    return np.stack((E_nu, px_nu, py_nu, pz_nu, E_l, px_l, py_l, pz_l, E_b, px_b, py_b, pz_b), axis=-1)"
   ]
  },
  {
   "cell_type": "markdown",
   "id": "70091a9d",
   "metadata": {},
   "source": [
    "Now we can apply them to the training data and val data"
   ]
  },
  {
   "cell_type": "code",
   "execution_count": 17,
   "id": "ca4d73bb",
   "metadata": {},
   "outputs": [],
   "source": [
    "train_data_off, mean, std = apply_preprocessing(train_data_off)\n",
    "val_data_off, _ , _ = apply_preprocessing(val_data_off)\n",
    "\n",
    "train_data_on, _, _ = apply_preprocessing(train_data_on)\n",
    "val_data_on, _ , _ = apply_preprocessing(val_data_on)"
   ]
  },
  {
   "cell_type": "markdown",
   "id": "a50ce6ca",
   "metadata": {},
   "source": [
    "As mentioned in the introduction, our ML network of choice for this tasks is a Conditional Flow Matching (CFM) network. It describes the process of a point $x_0 \\sim p(x_\\text{on})$ diffusing directly (DiDi) into a point $x_1 \\sim p(x_\\text{off})$ goverend by a velocity field \n",
    "\\begin{align}\n",
    "\\frac{dx}{dt} = v(x,t).\n",
    "\\end{align}\n",
    "In principle we could learn this veloctiy field as a regression task using a MSE loss. However, how can we define it? We start by describing the diffusion process by a linear trajectory\n",
    "\\begin{align}\n",
    "    x (t | x_0, x_1) = (1-t)x_0 + tx_1.\n",
    "\\end{align}\n",
    "The corresponding veloctiy field yields to\n",
    "\\begin{align}\n",
    "    v(x,t | x_0, x_1) = x_1 - x_0.\n",
    "\\end{align}\n",
    "Why is this useful? We want to generate $x_1$, so why are we interested in learning a quantitiy, which is only defined once $x_1$ is known? Well luckily, it can be shown that\n",
    "\\begin{align}\n",
    "\\mathrm{argmin}_\\theta \\left< (v_\\theta(x_t,t) - v(x,t))^2\\right>_{x,t \\sim p(x,t)} = \\mathrm{argmin}_\\theta \\left< (v_\\theta(x,t) - v(x,t|x_0,x_1))^2 \\right>_{x_0\\sim p(x_0), x_1\\sim p(x_1), t\\sim U(0,1)},\n",
    "\\end{align}\n",
    "where $v_\\theta(x_t,t)$ is the network output. <br>\n",
    "Hence, we have all ingredients to cook a tractable loss function. Once we are finished training we can simply solve\n",
    "\\begin{align}\n",
    "    x_1 = x_0 + \\int_0^1 v_\\theta(x,t) dt\n",
    "\\end{align}\n",
    "using a fast ODE-sampler. We can now define the DiDi network class. "
   ]
  },
  {
   "cell_type": "code",
   "execution_count": 20,
   "id": "11d4b551",
   "metadata": {},
   "outputs": [],
   "source": [
    "class Didi(nn.Module):\n",
    "    def __init__(self, \n",
    "                 dims,\n",
    "                 params,\n",
    "                 data_off,\n",
    "                 data_on,\n",
    "                ):\n",
    "        super().__init__()\n",
    "        self.dims = dims\n",
    "        self.params = params       \n",
    "        \n",
    "        self.train_data_off = data_off[0]\n",
    "        self.train_data_on = data_on[0]\n",
    "        \n",
    "        self.val_data_off =  data_off[1]\n",
    "        self.val_data_on =  data_on[1]\n",
    "        \n",
    "        \n",
    "    def init_network(self):\n",
    "        layers = []\n",
    "        layers.append(nn.Linear(self.dims+1, self.params[\"internal_size\"]))\n",
    "        layers.append(nn.ReLU())\n",
    "        for _ in range(self.params[\"hidden_layers\"]):\n",
    "            layers.append(nn.Linear(self.params[\"internal_size\"], self.params[\"internal_size\"]))\n",
    "            layers.append(nn.ReLU())\n",
    "        layers.append(nn.Linear(self.params[\"internal_size\"], self.dims))\n",
    "        self.net = nn.Sequential(*layers)\n",
    "        \n",
    "        \n",
    "    def sample(self, x_0):\n",
    "        self.net.eval()\n",
    "        batch_size = x_0.size(0)\n",
    "        dtype = x_0.dtype\n",
    "        device = x_0.device\n",
    "        def net_wrapper(t, x_t):\n",
    "            t = t * torch.ones_like(x_t[:, [0]], dtype=dtype, device=device)\n",
    "            nn_out = self.net(torch.cat([t, x_t], dim=-1))\n",
    "            return nn_out\n",
    "            \n",
    "        \n",
    "        x_t = odeint(net_wrapper,\n",
    "                     x_0,\n",
    "                     torch.tensor([0,1], dtype=dtype, device=device),\n",
    "                             atol = 1.e-6,\n",
    "                             rtol = 1.e-5,\n",
    "                             method = 'rk4',\n",
    "                             options= {\"step_size\": 0.01}\n",
    "                             )\n",
    "        \n",
    "        return x_t[-1]\n",
    "\n",
    "    \n",
    "    def train(self, trainloader_off,  trainloader_on, valloader_off, valloader_on):\n",
    "        n_epochs = self.params[\"n_epochs\"]\n",
    "        lr = self.params[\"lr\"]\n",
    "        \n",
    "        optimizer = torch.optim.Adam(self.net.parameters(), lr=lr)\n",
    "        scheduler = torch.optim.lr_scheduler.CosineAnnealingLR(optimizer, len(trainloader_on)*n_epochs)\n",
    "        \n",
    "        t0 = time.time()\n",
    "        print(f\"Training CFM for {n_epochs} epochs with lr {lr}\")\n",
    "        \n",
    "        self.best_state = self.net.state_dict()\n",
    "        best_val_loss = 999\n",
    "        \n",
    "        for epoch in range(n_epochs):\n",
    "            losses = []\n",
    "            val_losses = []\n",
    "            for batch in zip(trainloader_on, trainloader_off):\n",
    "                on, off = batch\n",
    "                optimizer.zero_grad()\n",
    "                loss = self.batch_loss(on, off)\n",
    "                if loss < 250:\n",
    "                    loss.backward()\n",
    "                    optimizer.step()\n",
    "                    losses.append(loss.item())\n",
    "                    scheduler.step()\n",
    "                else:\n",
    "                    print(\"Skipped update, loss is\", loss.item())                \n",
    "              \n",
    "            with torch.no_grad():\n",
    "                for batch in zip(valloader_on, valloader_off): \n",
    "                    on, off = batch\n",
    "                    optimizer.zero_grad()\n",
    "                    loss = self.batch_loss(on, off)\n",
    "                    val_losses.append(loss.item())\n",
    "                    \n",
    "            val_loss = np.array(val_losses).mean()\n",
    "            if val_loss < best_val_loss:\n",
    "                best_val_loss = val_loss\n",
    "                self.best_state = self.net.state_dict()\n",
    "            if epoch % int(n_epochs/10) == 0:\n",
    "                print(f\"Finished epoch {epoch} with average loss {np.array(losses).mean()} and val loss {val_loss}\")\n",
    "\n",
    "\n",
    "    def batch_loss(self, x_0, x_1):\n",
    "        t = torch.rand((x_0.size(0), 1), dtype=x_0.dtype)\n",
    "\n",
    "        x_t = (1.-t)*x_1 + t*x_0\n",
    "\n",
    "        \n",
    "        nn_out = self.net(torch.cat([t.float(), x_t.float()], dim=-1))\n",
    "        target = (x_1 - x_0)\n",
    "        loss = ((nn_out - target.float())**2).mean()\n",
    "        return loss\n",
    "    \n",
    "    \n",
    "    def run(self):\n",
    "\n",
    "        self.init_network()\n",
    "\n",
    "        print(\"Starting training\")\n",
    "        \n",
    "        train_loader_off = torch.utils.data.DataLoader(torch.Tensor(self.train_data_off),batch_size=self.params[\"batch_size\"], shuffle=True)\n",
    "        val_loader_off = torch.utils.data.DataLoader(torch.Tensor(self.val_data_off),batch_size=self.params[\"batch_size\"], shuffle=True)\n",
    "        train_loader_on = torch.utils.data.DataLoader(torch.Tensor(self.train_data_on), batch_size=self.params[\"batch_size\"], shuffle=True)\n",
    "        val_loader_on = torch.utils.data.DataLoader(torch.Tensor(self.val_data_on), batch_size=self.params[\"batch_size\"], shuffle=False)\n",
    "        \n",
    "        self.train(train_loader_off,train_loader_on, val_loader_off, val_loader_on)\n",
    "        print(\"----------------------------\")\n",
    "        print(\"Finished\")"
   ]
  },
  {
   "cell_type": "markdown",
   "id": "c4981854",
   "metadata": {},
   "source": [
    "Now, let's try to run it. Feel free to play around with the training parameters."
   ]
  },
  {
   "cell_type": "code",
   "execution_count": 31,
   "id": "f063285f",
   "metadata": {
    "scrolled": true
   },
   "outputs": [
    {
     "name": "stdout",
     "output_type": "stream",
     "text": [
      "Starting training\n",
      "Training CFM for 50 epochs with lr 0.001\n",
      "Finished epoch 0 with average loss 1.9869048357009889 and val loss 1.9288740682601928\n",
      "Finished epoch 5 with average loss 1.587568266391754 and val loss 1.5882935953140258\n",
      "Finished epoch 10 with average loss 1.576415798664093 and val loss 1.5700378608703613\n",
      "Finished epoch 15 with average loss 1.567520558834076 and val loss 1.5665053844451904\n",
      "Finished epoch 20 with average loss 1.565499839782715 and val loss 1.5637325048446655\n",
      "Finished epoch 25 with average loss 1.5594058656692504 and val loss 1.5612066221237182\n",
      "Finished epoch 30 with average loss 1.5620375108718871 and val loss 1.5594921016693115\n",
      "Finished epoch 35 with average loss 1.5577653098106383 and val loss 1.5578157091140747\n",
      "Finished epoch 40 with average loss 1.5600835585594177 and val loss 1.5598763561248778\n",
      "Finished epoch 45 with average loss 1.5578156733512878 and val loss 1.558553466796875\n",
      "----------------------------\n",
      "Finished\n"
     ]
    }
   ],
   "source": [
    "train_params = {\"internal_size\": 64, \"hidden_layers\": 3, \"n_epochs\": 50, \"lr\": 1.e-3, \"batch_size\": 10000}\n",
    "\n",
    "\n",
    "\n",
    "didi = Didi(  9, \n",
    "            train_params,\n",
    "            [train_data_off, val_data_off],\n",
    "            [train_data_on, val_data_on],\n",
    "                )\n",
    "\n",
    "didi.run()"
   ]
  },
  {
   "cell_type": "markdown",
   "id": "7595e146",
   "metadata": {},
   "source": [
    "We finished training and are now ready to sample. For that purpose we feed our network our test on-shell data and hope it will output a sample resembling the distribution of our test off-shell data"
   ]
  },
  {
   "cell_type": "code",
   "execution_count": 22,
   "id": "a0ae553a",
   "metadata": {
    "scrolled": true
   },
   "outputs": [],
   "source": [
    "with torch.no_grad():\n",
    "    samples = []\n",
    "    test_data_on_pp, _ , _ = apply_preprocessing(test_data_on)\n",
    "    for batch in torch.split(torch.Tensor(test_data_on_pp), 1000):\n",
    "        sample = didi.sample(batch).cpu().numpy()\n",
    "        samples.append(sample)\n",
    "        \n",
    "samples = np.concatenate(samples, axis=0)\n",
    "samples = invert_preprocessing(samples, mean, std)\n",
    "didi_t_im, didi_t_pt, didi_w_im, didi_w_pt = get_obs(samples)"
   ]
  },
  {
   "cell_type": "markdown",
   "id": "7f30fa1e",
   "metadata": {},
   "source": [
    "We start by looking at a trivial distribution $E_\\nu$. "
   ]
  },
  {
   "cell_type": "code",
   "execution_count": 28,
   "id": "b0153547",
   "metadata": {
    "scrolled": true
   },
   "outputs": [
    {
     "data": {
      "image/png": "[encoded data removed]",
      "text/plain": [
       "<Figure size 640x480 with 1 Axes>"
      ]
     },
     "metadata": {},
     "output_type": "display_data"
    }
   ],
   "source": [
    "fig, axs = plt.subplots()\n",
    "\n",
    "bins = np.linspace(60, 700, 50)\n",
    "\n",
    "\n",
    "axs.hist(test_data_off[:,0], bins=bins, density=True, histtype=\"step\", label=\"off\")\n",
    "axs.hist(test_data_on[:,0], bins=bins, density=True, histtype=\"step\", label=\"on\")\n",
    "axs.hist(samples[:,0], bins=bins, density=True, histtype=\"step\", label=\"didi\")\n",
    "\n",
    "axs.set_xlabel(r\"$E_{\\nu}$ (GeV)\")\n",
    "axs.set_ylabel(\"normalized\")\n",
    "axs.legend()\n",
    "axs.set_yscale(\"log\")\n",
    "plt.show()"
   ]
  },
  {
   "cell_type": "markdown",
   "id": "8feb5fe2",
   "metadata": {},
   "source": [
    "There's no visible difference between the on and the off-shell distribution and our model should learn an identiy map."
   ]
  },
  {
   "cell_type": "markdown",
   "id": "948d050d",
   "metadata": {},
   "source": [
    "The hardest possible correlation to learn is the reconstructed top mass as it is a 9 dimensional correlation. Let's see, how our network performs"
   ]
  },
  {
   "cell_type": "code",
   "execution_count": 29,
   "id": "79768fca",
   "metadata": {},
   "outputs": [
    {
     "data": {
      "image/png": "[encoded data removed]",
      "text/plain": [
       "<Figure size 640x480 with 1 Axes>"
      ]
     },
     "metadata": {},
     "output_type": "display_data"
    }
   ],
   "source": [
    "fig, axs = plt.subplots()\n",
    "\n",
    "bins = np.linspace(60, 700, 50)\n",
    "\n",
    "\n",
    "axs.hist(test_t_ims_off, bins=bins, density=True, histtype=\"step\", label=\"off\")\n",
    "axs.hist(test_t_ims_on, bins=bins, density=True, histtype=\"step\", label=\"on\")\n",
    "axs.hist(didi_t_im, bins=bins, density=True, histtype=\"step\", label=\"didi\")\n",
    "\n",
    "axs.set_xlabel(r\"$m_{\\nu l b}$ (GeV)\")\n",
    "axs.set_ylabel(\"normalized\")\n",
    "axs.legend()\n",
    "axs.set_yscale(\"log\")\n",
    "plt.show()"
   ]
  },
  {
   "cell_type": "markdown",
   "id": "c73f27df",
   "metadata": {},
   "source": [
    "We see, that the network has not learned yet to keep the resonant structure of the on-shell input. Given the limited training data, time and network size this is to be expected. However, we can observe that the characteristic off-shell tails are already reproduced nicely."
   ]
  },
  {
   "cell_type": "markdown",
   "id": "ff8e5ee9",
   "metadata": {},
   "source": [
    "It is also intersting to look into event-migration: For a given on-shell event in a given dimension, where will it end up in off-shell phase space. Therefore, we additionally plot migration-plots, plotting essentially the input and the output of our network."
   ]
  },
  {
   "cell_type": "code",
   "execution_count": 30,
   "id": "8436352c",
   "metadata": {},
   "outputs": [
    {
     "data": {
      "text/plain": [
       "Text(0.5, 1.0, 'Didi migration')"
      ]
     },
     "execution_count": 30,
     "metadata": {},
     "output_type": "execute_result"
    },
    {
     "data": {
      "image/png": "[encoded data removed]",
      "text/plain": [
       "<Figure size 640x480 with 1 Axes>"
      ]
     },
     "metadata": {},
     "output_type": "display_data"
    }
   ],
   "source": [
    "fig, axs = plt.subplots()         \n",
    "bins = np.linspace(100, 250, 50)\n",
    "\n",
    "axs.hist2d(test_t_ims_on, didi_t_im, density=True, bins=bins,norm=matplotlib.colors.LogNorm())\n",
    "axs.set_title(f\"Didi migration\")"
   ]
  },
  {
   "cell_type": "code",
   "execution_count": null,
   "id": "c21788c4",
   "metadata": {},
   "outputs": [],
   "source": []
  }
 ],
 "metadata": {
  "kernelspec": {
   "display_name": "Python 3 (ipykernel)",
   "language": "python",
   "name": "python3"
  },
  "language_info": {
   "codemirror_mode": {
    "name": "ipython",
    "version": 3
   },
   "file_extension": ".py",
   "mimetype": "text/x-python",
   "name": "python",
   "nbconvert_exporter": "python",
   "pygments_lexer": "ipython3",
   "version": "3.9.6"
  }
 },
 "nbformat": 4,
 "nbformat_minor": 5
}
