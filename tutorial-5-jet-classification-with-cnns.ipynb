{
 "cells": [
  {
   "cell_type": "markdown",
   "metadata": {},
   "source": [
    "# Jet classification with CNNs"
   ]
  },
  {
   "cell_type": "markdown",
   "metadata": {},
   "source": [
    "For this tutorial you should use a combination of your lecture notes and the pytorch tutorial at:\n",
    "\n",
    "https://pytorch.org/tutorials/beginner/blitz/cifar10_tutorial.html?highlight=convolutional"
   ]
  },
  {
   "cell_type": "markdown",
   "metadata": {},
   "source": [
    "Outline:\n",
    " - Imports and plotting set-up\n",
    " - Preprocessing jet images\n",
    " - Visualising the data\n",
    " - Datasets and dataloaders\n",
    " - Building the CNN\n",
    " - Training the CNN\n",
    " - Plot train and validation losses\n",
    " - Study the results\n",
    " - CNNs and translation invariance\n",
    " - Why are CNNs better than fully connected networks here?\n",
    "     - how many trainable parameters does the CNN have?\n",
    "     - if you like, build a fully connected network with approximately the same number of parameters as your CNN, train it, and compare the performance to the CNN.\n",
    " - How could we improve the results we have here?"
   ]
  },
  {
   "cell_type": "markdown",
   "metadata": {},
   "source": [
    "### Loading the data"
   ]
  },
  {
   "cell_type": "markdown",
   "metadata": {},
   "source": [
    "For this tutorial we will use a public dataset, the download procedure is described below. Alternatively, you can directly download the reduced-size dataset from the ITP website with the following command"
   ]
  },
  {
   "cell_type": "code",
   "execution_count": 1,
   "metadata": {},
   "outputs": [
    {
     "name": "stdout",
     "output_type": "stream",
     "text": [
      "Trying to download dataset 2 ('top tagging', used in tutorials [5, 6, 7, 8, 9]) from https://www.thphys.uni-heidelberg.de/~plehn/pics/toptagging-short.zip to toptagging-short.zip\n",
      "100%|█████████████████████████████████████████████| 7/7 [00:03<00:00,  1.86it/s]\n",
      "Successfully extracted files from toptagging-short.zip\n",
      "data\n",
      "README.md\n",
      "simple-graph-image.png\n",
      "tutorial-10-cwola.ipynb\n",
      "tutorial-11-gans.ipynb\n",
      "tutorial-12-flows.ipynb\n",
      "tutorial-13-uncertainties-with-flows.ipynb\n",
      "tutorial-2-amplitude-regression.ipynb\n",
      "tutorial-3-reg-and-prep.ipynb\n",
      "tutorial-4-bayesian-regression.ipynb\n",
      "tutorial-5-jet-classification-with-cnns.ipynb\n",
      "tutorial-6-bayesian-cnns.ipynb\n",
      "tutorial-7-dynamical-graph-convolutional-neural-nets.ipynb\n",
      "tutorial-8-transformers.ipynb\n",
      "tutorial-9-autoencoders.ipynb\n"
     ]
    }
   ],
   "source": [
    "!python3 data/get_data.py 2 data\n",
    "!ls data"
   ]
  },
  {
   "cell_type": "markdown",
   "metadata": {},
   "source": [
    "To load the data we'll use the erum-data framework outline is this paper:\n",
    "\n",
    "https://arxiv.org/pdf/2107.00656.pdf\n",
    "\n",
    "The erum data python package can be installed using the command below:\n",
    "\n",
    "`python3 -m pip install git+https://github.com/erum-data-idt/pd4ml`\n",
    "\n",
    "A notebook showing how to load the top-tagging data using this package can be found here:\n",
    "\n",
    "https://github.com/erum-data-idt/pd4ml/blob/main/examples/1_top_plots.ipynb"
   ]
  },
  {
   "cell_type": "code",
   "execution_count": null,
   "metadata": {},
   "outputs": [],
   "source": [
    "from pd4ml import TopTagging"
   ]
  },
  {
   "cell_type": "markdown",
   "metadata": {},
   "source": [
    "Erum data includes a desription of the dataset:"
   ]
  },
  {
   "cell_type": "code",
   "execution_count": 4,
   "metadata": {},
   "outputs": [
    {
     "name": "stdout",
     "output_type": "stream",
     "text": [
      "\n",
      "    Top tagging dataset.\n",
      "\n",
      "    Description:\n",
      "    14 TeV, hadronic tops for signal, QCD djets background, Delphes ATLAS detector card with Pythia. No MPI/pile-up included\n",
      "    Particle-flow entries (produced by Delphes E-flow) have been clustered into anti-kT 0.8 jets in the pT range [550,650].\n",
      "    All top jets are matched to a parton-level top within ∆R = 0.8, and to all top decay partons within 0.8. Also,|eta|_jet < 2 has been required.\n",
      "\n",
      "    Ref:\n",
      "    Deep-learned Top Tagging with a Lorentz Layer by A Butter, G Kasieczka, T and M Russell (arXiv: 1707.08966)\n",
      "\n",
      "    Dataset shape:\n",
      "    ~2M events have been stored divided between training (~1.6M) and test (~400k)) and the shape of the dataset is (# of events, 200, 4).\n",
      "    The feature represent the leading 200 jet constituent four-momenta, with zero-padding for jets that have less than 200.\n",
      "    Constituents are sorted by pT, with the highest pT one first.\n",
      "\n",
      "    The second dataset that is included is just a flag \"ttv\" to identify what the event was before the reshaping operated by us. Here a legenda:\n",
      "        0 = training event;\n",
      "        1 = test event;\n",
      "        2 = validation event;\n",
      "\n",
      "    Note that in the current splitting of the dataset, training and validation events have been merged together as a unique training dataset. So for most intents and purposes one should just train the model on the first dataset and omit the second 'ttv' dataset altogether.\n",
      "\n",
      "    The set label are 0 for QCD and 1 for top.\n",
      "    \n"
     ]
    }
   ],
   "source": [
    "TopTagging.print_description()"
   ]
  },
  {
   "cell_type": "markdown",
   "metadata": {},
   "source": [
    "The command below loads the dataset, downloading it if it is not already there.\n",
    "\n",
    "Warning: these files are large ($\\simeq1.5$gb) and downloading them takes some time."
   ]
  },
  {
   "cell_type": "code",
   "execution_count": 4,
   "metadata": {},
   "outputs": [],
   "source": [
    "X_train_f, y_train_f = TopTagging.load('train', path = 'tutorial-3-data')\n",
    "X_test_f, y_test_f = TopTagging.load('test', path = 'tutorial-3-data')"
   ]
  },
  {
   "cell_type": "code",
   "execution_count": 5,
   "metadata": {},
   "outputs": [],
   "source": [
    "X_train_f = X_train_f[0]\n",
    "X_test_f = X_test_f[0]"
   ]
  },
  {
   "cell_type": "code",
   "execution_count": 6,
   "metadata": {},
   "outputs": [
    {
     "name": "stdout",
     "output_type": "stream",
     "text": [
      "shapes:\n",
      "X_train - (1614000, 200, 4)\n",
      "y_train - (1614000,)\n",
      "X_test  - (404000, 200, 4)\n",
      "y_test  - (404000,)\n"
     ]
    }
   ],
   "source": [
    "print( \"shapes:\" )\n",
    "print( \"X_train - \" + str( np.shape( X_train_f ) ) )\n",
    "print( \"y_train - \" + str( np.shape( y_train_f ) ) )\n",
    "print( \"X_test  - \" + str( np.shape( X_test_f ) ) )\n",
    "print( \"y_test  - \" + str( np.shape( y_test_f ) ) )"
   ]
  },
  {
   "cell_type": "markdown",
   "metadata": {},
   "source": [
    "This is too much for us, let's cut it down."
   ]
  },
  {
   "cell_type": "code",
   "execution_count": 7,
   "metadata": {},
   "outputs": [],
   "source": [
    "nj = 30000\n",
    "X_train = X_train_f[ 0:nj ]\n",
    "y_train = y_train_f[ 0:nj ]\n",
    "X_test = X_test_f[ 0:nj ]\n",
    "y_test = y_test_f[ 0:nj ]\n",
    "X_val = X_train_f[ -nj: ]\n",
    "y_val = y_train_f[ -nj: ]"
   ]
  },
  {
   "cell_type": "code",
   "execution_count": 8,
   "metadata": {},
   "outputs": [
    {
     "name": "stdout",
     "output_type": "stream",
     "text": [
      "shapes:\n",
      "X_train - (30000, 200, 4)\n",
      "y_train - (30000,)\n",
      "X_test  - (30000, 200, 4)\n",
      "y_test  - (30000,)\n",
      "X_val  - (30000, 200, 4)\n",
      "y_val  - (30000,)\n"
     ]
    }
   ],
   "source": [
    "print( \"shapes:\" )\n",
    "print( \"X_train - \" + str( np.shape( X_train ) ) )\n",
    "print( \"y_train - \" + str( np.shape( y_train ) ) )\n",
    "print( \"X_test  - \" + str( np.shape( X_test ) ) )\n",
    "print( \"y_test  - \" + str( np.shape( y_test ) ) )\n",
    "print( \"X_val  - \" + str( np.shape( X_val ) ) )\n",
    "print( \"y_val  - \" + str( np.shape( y_val ) ) )"
   ]
  },
  {
   "cell_type": "markdown",
   "metadata": {},
   "source": [
    "Let's save this out so we have the shorter versions in future."
   ]
  },
  {
   "cell_type": "code",
   "execution_count": 9,
   "metadata": {},
   "outputs": [],
   "source": [
    "np.save( \"data/toptagging-short/x_train_short.npy\", X_train )\n",
    "np.save( \"data/toptagging-short/y_train_short.npy\", y_train )\n",
    "np.save( \"data/toptagging-short/x_test_short.npy\", X_test )\n",
    "np.save( \"data/toptagging-short/y_test_short.npy\", y_test )\n",
    "np.save( \"data/toptagging-short/x_val_short.npy\", X_val )\n",
    "np.save( \"data/toptagging-short/y_val_short.npy\", y_val )"
   ]
  },
  {
   "cell_type": "markdown",
   "metadata": {},
   "source": [
    "### Imports"
   ]
  },
  {
   "cell_type": "code",
   "execution_count": 3,
   "metadata": {},
   "outputs": [],
   "source": [
    "import os\n",
    "import sys\n",
    "import random\n",
    "import time\n",
    "import numpy as np\n",
    "import torch\n",
    "from torch.utils.data import Dataset\n",
    "from torch.utils.data import DataLoader\n",
    "from torch import nn"
   ]
  },
  {
   "cell_type": "markdown",
   "metadata": {},
   "source": [
    "#### Plotting set-up"
   ]
  },
  {
   "cell_type": "code",
   "execution_count": 4,
   "metadata": {},
   "outputs": [],
   "source": [
    "from matplotlib import pyplot as plt\n",
    "import matplotlib\n",
    "import warnings\n",
    "warnings.filterwarnings(\"ignore\")\n",
    "from matplotlib.lines import Line2D\n",
    "from matplotlib.font_manager import FontProperties\n",
    "import matplotlib.colors as mcolors\n",
    "import colorsys\n",
    "\n",
    "labelfont = FontProperties()\n",
    "labelfont.set_family('serif')\n",
    "labelfont.set_name('Times New Roman')\n",
    "labelfont.set_size(14)\n",
    "\n",
    "axislabelfont = FontProperties()\n",
    "axislabelfont.set_family('serif')\n",
    "axislabelfont.set_name('Times New Roman')\n",
    "axislabelfont.set_size(22)\n",
    "\n",
    "tickfont = FontProperties()\n",
    "tickfont.set_family('serif')\n",
    "tickfont.set_name('Times New Roman')\n",
    "tickfont.set_size(16)\n",
    "\n",
    "axisfontsize = 16\n",
    "labelfontsize = 16\n",
    "\n",
    "plt.rcParams[\"font.family\"] = \"Times New Roman\"\n",
    "plt.rcParams[\"mathtext.default\"] = \"rm\"\n",
    "plt.rcParams['text.usetex'] = True"
   ]
  },
  {
   "cell_type": "markdown",
   "metadata": {},
   "source": [
    "### Loading the (already collected) data"
   ]
  },
  {
   "cell_type": "code",
   "execution_count": 5,
   "metadata": {},
   "outputs": [],
   "source": [
    "X_train = np.load( \"data/toptagging-short/x_train_short.npy\")\n",
    "y_train = np.load( \"data/toptagging-short/y_train_short.npy\")\n",
    "X_test = np.load( \"data/toptagging-short/x_test_short.npy\")\n",
    "y_test = np.load( \"data/toptagging-short/y_test_short.npy\")\n",
    "X_val = np.load( \"data/toptagging-short/x_val_short.npy\")\n",
    "y_val = np.load( \"data/toptagging-short/y_val_short.npy\")"
   ]
  },
  {
   "cell_type": "markdown",
   "metadata": {},
   "source": [
    "## Preprocessing jet images"
   ]
  },
  {
   "cell_type": "markdown",
   "metadata": {},
   "source": [
    "We need to convert the jets to $(p_T,\\eta,\\phi)$ format, preprocessing them with rotations and translations, and convert them to an image format.\n",
    "\n",
    "We will preprocess the data such that:\n",
    "- the jets are centred at $(\\eta,\\phi)=(0.0,0.0)$\n",
    "- the principle axis of each jet points in the same direction\n",
    "- the quadrant of the jets with the most $p_T$ is the same for each jet\n",
    "- the jet $p_T$'s are normalised.\n",
    "\n",
    "We need some functions for that."
   ]
  },
  {
   "cell_type": "code",
   "execution_count": 5,
   "metadata": {},
   "outputs": [],
   "source": [
    "# Some initial settings\n",
    "__n_warning__ = 0.7\n",
    "n_shift_phi, n_shift_eta = 0, 0\n",
    "\n",
    "# Grid settings\n",
    "xpixels = np.arange(-2.6, 2.6, 0.029)\n",
    "ypixels = np.arange(-np.pi, np.pi, 0.035)\n",
    "\n",
    "# Calculate the pseudorapidity of pixel entries\n",
    "def eta (pT, pz):\n",
    "    small = 1e-10\n",
    "    small_pT = (np.abs(pT) < small)\n",
    "    small_pz = (np.abs(pz) < small)\n",
    "    not_small = ~(small_pT | small_pz)\n",
    "    theta = np.arctan(pT[not_small]/pz[not_small])\n",
    "    theta[theta < 0] += np.pi\n",
    "    etas = np.zeros_like(pT)\n",
    "    etas[small_pz] = 0\n",
    "    etas[small_pT] = 1e-10\n",
    "    etas[not_small] = np.log(np.tan(theta/2))\n",
    "    return etas\n",
    "\n",
    "# Calculate the azimuthal angle of pixel entries\n",
    "def phi (px, py):\n",
    "    \"\"\"\n",
    "    phis are returned in rad., np.arctan(0,0)=0 -> zero constituents set to -np.pi\n",
    "    \"\"\"\n",
    "    phis = np.arctan2(py,px)\n",
    "    phis[phis < 0] += 2*np.pi\n",
    "    phis[phis > 2*np.pi] -= 2*np.pi\n",
    "    phis = phis - np.pi \n",
    "    return phis\n",
    "\n",
    "# function to calculate masses\n",
    "def mass (E,px,py,pz):\n",
    "    mass = np.sqrt(np.maximum(0.,E**2-px**2-py**2-pz**2))\n",
    "    return mass\n",
    "\n",
    "# function to return the image momenta for centroid and principal axis\n",
    "def img_mom (x, y, weights, x_power, y_power):\n",
    "    return ((x**x_power)*(y**y_power)*weights).sum()\n",
    "\n",
    "# returns the jet image\n",
    "def orig_image (etas, phis, es):\n",
    "    \"\"\"\n",
    "    Gives the value on grid with minimal distance,\n",
    "    eg. for xpixel = (0,1,2,3,..) eta=1.3 -> xpixel=1, eta=1.6 ->xpixel=2\n",
    "    \"\"\"\n",
    "    z = np.zeros((etas.shape[0],len(xpixels),len(ypixels)))\n",
    "    in_grid = ~((etas < xpixels[0]) | (etas > xpixels[-1]) | (phis < ypixels[0]) | (phis > ypixels[-1]))\n",
    "    xcoords = np.argmin(np.abs(etas[:,None,:] - xpixels[None,:,None]),axis=1)\n",
    "    ycoords = np.argmin(np.abs(phis[:,None,:] - ypixels[None,:,None]),axis=1)\n",
    "    ncoords = np.repeat(np.arange(etas.shape[0])[:,None],etas.shape[1],axis=1)\n",
    "    z[ncoords[in_grid],ycoords[in_grid],xcoords[in_grid]] = es[in_grid]\n",
    "    return z\n",
    "\n",
    "# preprocess the jet\n",
    "def preprocessing( x ,y, weights, rotate=True, flip=True ):\n",
    "    \"\"\"\n",
    "    (x,y) are the coordinates and weights the corresponding values, shifts\n",
    "    centroid to origin, rotates image, so that principal axis is vertical,\n",
    "    flips image, so that most weights lay in (x<0, y>0)-plane.\n",
    "    Method for calculating principal axis (similar to tensor of inertia):\n",
    "    https://en.wikipedia.org/wiki/Image_moment\n",
    "    here: y=phi, phi has modulo 2*np.pi but it's not been taken care of hear,\n",
    "    so possible issues with calculating the centroid\n",
    "    -> pre-shifting of events outside of this function solves the problem\n",
    "    for iamge-data with Delta_phi < 2*np.pi\n",
    "    \"\"\"\n",
    "\n",
    "    # Shift\n",
    "    x_centroid = img_mom(x, y, weights, 1, 0) / weights.sum()\n",
    "    y_centroid = img_mom(x, y, weights, 0, 1)/ weights.sum()\n",
    "    x = x - x_centroid\n",
    "    y = y - y_centroid\n",
    "\n",
    "    # Check if shifting worked, there can be problems with modulo variables like phi (y)\n",
    "    # x and y are sorted after highest weight, 0-comp. gives hottest event\n",
    "    # for Jet-like Images Centroid should be close to hottest constituen (pT-sorted arrays)  \n",
    "    global n_shift_phi\n",
    "    global n_shift_eta\n",
    "    if np.abs(x[0]) > __n_warning__:\n",
    "        n_shift_eta += 1  \n",
    "    if np.abs(y[0]) > __n_warning__:\n",
    "        n_shift_phi += 1       \n",
    "\n",
    "    if rotate:\n",
    "        #Ccovariant matrix, eigenvectors corr. to principal axis\n",
    "        u11 = img_mom(x, y, weights, 1, 1) / weights.sum()\n",
    "        u20 = img_mom(x, y, weights, 2, 0) / weights.sum()\n",
    "        u02 = img_mom(x, y, weights, 0, 2) / weights.sum()\n",
    "        cov = np.array([[u20, u11], [u11, u02]])\n",
    "\n",
    "        # Eigenvalues and eigenvectors of covariant matrix\n",
    "        evals, evecs = np.linalg.eig(cov)\n",
    "\n",
    "        # Sorts the eigenvalues, v1, [::-1] turns array around, \n",
    "        sort_indices = np.argsort(evals)[::-1]\n",
    "        e_1 = evecs[:, sort_indices[0]]  # Eigenvector with largest eigenvalue\n",
    "        e_2 = evecs[:, sort_indices[1]]\n",
    "\n",
    "        # Theta to x_asix, arctan2 gives correct angle\n",
    "        theta = np.arctan2(e_1[0], e_1[1])\n",
    "  \n",
    "        # Rotation, so that princple axis is vertical\n",
    "        # anti-clockwise rotation matrix\n",
    "        rotation = np.matrix([[np.cos(theta), -np.sin(theta)], [np.sin(theta), np.cos(theta)]])\n",
    "        transformed_mat = rotation * np.stack([x,y])\n",
    "        x_rot, y_rot = transformed_mat.A\n",
    "    else: \n",
    "        x_rot, y_rot = x, y\n",
    "  \n",
    "    # Flipping\n",
    "    n_flips = 0\n",
    "    if flip:\n",
    "        if weights[x_rot<0.].sum() < weights[x_rot>0.].sum():\n",
    "            x_rot = -x_rot\n",
    "            n_flips  += 1\n",
    "        if weights[y_rot<0.].sum() > weights[y_rot>0.].sum():\n",
    "            y_rot = -y_rot\n",
    "            n_flips += 1\n",
    "            \n",
    "    return x_rot, y_rot\n",
    "\n",
    "\n",
    "# function to convert the jet to an image\n",
    "def constit_to_img( jets, n_constit, norm, rotate, flip ):\n",
    "    \n",
    "    print( \"Crop constituents\" )\n",
    "    jets = jets[:,0:n_constit,:]\n",
    "    \n",
    "    print( \"Calculating pT\" )\n",
    "    E     = jets[:,:,0]\n",
    "    pxs   = jets[:,:,1]\n",
    "    pys   = jets[:,:,2]\n",
    "    pzs   = jets[:,:,3]\n",
    "    pT    = np.sqrt(pxs**2+pys**2)\n",
    "    \n",
    "    print( \"Calculating eta\" )\n",
    "    etas  = eta(pT,pzs)\n",
    "    \n",
    "    print( \"Calculating phi\" )\n",
    "    phis  = phi(pxs,pys)\n",
    "    \n",
    "    print( \"Calculating the mass\" )\n",
    "    E_tot = E.sum(axis=1)\n",
    "    px_tot = pxs.sum(axis=1)\n",
    "    py_tot = pys.sum(axis=1)\n",
    "    pz_tot = pzs.sum(axis=1)\n",
    "    j_mass = mass(E_tot, px_tot, py_tot, pz_tot)\n",
    "    \n",
    "    print( \"Pre-shifting the phis\" )\n",
    "    phis = (phis.T - phis[:,0]).T\n",
    "    phis[phis < -np.pi] += 2*np.pi\n",
    "    phis[phis > np.pi] -= 2*np.pi\n",
    "    \n",
    "    print( \"Using pT as weight\" )\n",
    "    weights = pT\n",
    "    \n",
    "    print( \"Preprocessing\" )\n",
    "    \n",
    "    for i in range( np.shape(etas)[0] ):\n",
    "        etas[i,:], phis[i,:] = preprocessing( etas[i,:], phis[i,:], weights[i,:], rotate, flip )\n",
    "    \n",
    "    print( \"Creating images\" )\n",
    "    z_ori = orig_image(etas, phis, weights)\n",
    "    \n",
    "    #return z_ori\n",
    "        \n",
    "    print( \"Cropping and normalising\" )\n",
    "    n_crop = 40\n",
    "    z_new = np.zeros( (z_ori.shape[0],n_crop, n_crop) )\n",
    "    for i in range(z_ori.shape[0]):\n",
    "        Npix = z_ori[i,:,:].shape\n",
    "        z_new[i,:,:] = z_ori[i, int(Npix[0]/2-n_crop/2) : int(Npix[0]/2+n_crop/2), int(Npix[1]/2-n_crop/2) : int(Npix[1]/2+n_crop/2) ]\n",
    "        if norm:\n",
    "            z_sum = z_new[i,:,:].sum()\n",
    "            if z_sum != 0.:\n",
    "                z_new[i,:,:] = z_new[i,:,:]/z_sum\n",
    "    \n",
    "    print( \"Reshaping\" )\n",
    "    z_out = z_new.reshape( (z_new.shape[0],-1) )\n",
    "    \n",
    "    return z_out"
   ]
  },
  {
   "cell_type": "markdown",
   "metadata": {},
   "source": [
    "Now let's run the preprocessing:"
   ]
  },
  {
   "cell_type": "code",
   "execution_count": 6,
   "metadata": {},
   "outputs": [
    {
     "name": "stdout",
     "output_type": "stream",
     "text": [
      "Crop constituents\n",
      "Calculating pT\n",
      "Calculating eta\n",
      "Calculating phi\n",
      "Calculating the mass\n",
      "Pre-shifting the phis\n",
      "Using pT as weight\n",
      "Preprocessing\n",
      "Creating images\n",
      "Cropping and normalising\n",
      "Reshaping\n"
     ]
    }
   ],
   "source": [
    "z_train = constit_to_img( X_train, 50, True, True, True )"
   ]
  },
  {
   "cell_type": "code",
   "execution_count": 7,
   "metadata": {},
   "outputs": [
    {
     "data": {
      "text/plain": [
       "(30000, 1600)"
      ]
     },
     "execution_count": 7,
     "metadata": {},
     "output_type": "execute_result"
    }
   ],
   "source": [
    "np.shape( z_train )"
   ]
  },
  {
   "cell_type": "code",
   "execution_count": 8,
   "metadata": {},
   "outputs": [
    {
     "data": {
      "text/plain": [
       "1.0"
      ]
     },
     "execution_count": 8,
     "metadata": {},
     "output_type": "execute_result"
    }
   ],
   "source": [
    "z_train[0].sum()"
   ]
  },
  {
   "cell_type": "code",
   "execution_count": 9,
   "metadata": {},
   "outputs": [
    {
     "data": {
      "text/plain": [
       "29999.999999999964"
      ]
     },
     "execution_count": 9,
     "metadata": {},
     "output_type": "execute_result"
    }
   ],
   "source": [
    "z_train.sum()"
   ]
  },
  {
   "cell_type": "code",
   "execution_count": 10,
   "metadata": {},
   "outputs": [
    {
     "name": "stdout",
     "output_type": "stream",
     "text": [
      "Crop constituents\n",
      "Calculating pT\n",
      "Calculating eta\n",
      "Calculating phi\n",
      "Calculating the mass\n",
      "Pre-shifting the phis\n",
      "Using pT as weight\n",
      "Preprocessing\n",
      "Creating images\n",
      "Cropping and normalising\n",
      "Reshaping\n"
     ]
    }
   ],
   "source": [
    "z_test = constit_to_img( X_test, 50, True, True, True )"
   ]
  },
  {
   "cell_type": "code",
   "execution_count": 11,
   "metadata": {},
   "outputs": [
    {
     "data": {
      "text/plain": [
       "(30000, 1600)"
      ]
     },
     "execution_count": 11,
     "metadata": {},
     "output_type": "execute_result"
    }
   ],
   "source": [
    "np.shape( z_test )"
   ]
  },
  {
   "cell_type": "code",
   "execution_count": 12,
   "metadata": {},
   "outputs": [
    {
     "data": {
      "text/plain": [
       "1.0"
      ]
     },
     "execution_count": 12,
     "metadata": {},
     "output_type": "execute_result"
    }
   ],
   "source": [
    "z_test[0].sum()"
   ]
  },
  {
   "cell_type": "code",
   "execution_count": 13,
   "metadata": {},
   "outputs": [
    {
     "data": {
      "text/plain": [
       "30000.000000000065"
      ]
     },
     "execution_count": 13,
     "metadata": {},
     "output_type": "execute_result"
    }
   ],
   "source": [
    "z_test.sum()"
   ]
  },
  {
   "cell_type": "code",
   "execution_count": 14,
   "metadata": {},
   "outputs": [
    {
     "name": "stdout",
     "output_type": "stream",
     "text": [
      "Crop constituents\n",
      "Calculating pT\n",
      "Calculating eta\n",
      "Calculating phi\n",
      "Calculating the mass\n",
      "Pre-shifting the phis\n",
      "Using pT as weight\n",
      "Preprocessing\n",
      "Creating images\n",
      "Cropping and normalising\n",
      "Reshaping\n"
     ]
    }
   ],
   "source": [
    "z_val = constit_to_img( X_val, 50, True, True, True )"
   ]
  },
  {
   "cell_type": "markdown",
   "metadata": {},
   "source": [
    "## Visualising the data"
   ]
  },
  {
   "cell_type": "markdown",
   "metadata": {},
   "source": [
    "Now let's plot these jet images."
   ]
  },
  {
   "cell_type": "code",
   "execution_count": 102,
   "metadata": {},
   "outputs": [],
   "source": [
    "sig = z_train[ np.where(y_train==1) ]\n",
    "bkg = z_train[ np.where(y_train==0) ]"
   ]
  },
  {
   "cell_type": "code",
   "execution_count": 105,
   "metadata": {},
   "outputs": [
    {
     "data": {
      "text/plain": [
       "<matplotlib.image.AxesImage at 0x1453ecd30>"
      ]
     },
     "execution_count": 105,
     "metadata": {},
     "output_type": "execute_result"
    },
    {
     "data": {
      "image/png": "[encoded data removed]",
      "text/plain": [
       "<Figure size 432x288 with 1 Axes>"
      ]
     },
     "metadata": {
      "needs_background": "light"
     },
     "output_type": "display_data"
    }
   ],
   "source": [
    "plt.imshow( sig[0].reshape( (40,40) ), cmap=\"gist_heat_r\" )"
   ]
  },
  {
   "cell_type": "code",
   "execution_count": 125,
   "metadata": {},
   "outputs": [
    {
     "data": {
      "image/png": "[encoded data removed]",
      "text/plain": [
       "<Figure size 648x360 with 2 Axes>"
      ]
     },
     "metadata": {
      "needs_background": "light"
     },
     "output_type": "display_data"
    }
   ],
   "source": [
    "fig, axs = plt.subplots( 1, 2, figsize=(9,5) )\n",
    "\n",
    "axs[0].imshow( sig[0].reshape( (40,40) ), cmap=\"gist_heat_r\" )\n",
    "axs[0].set_xlabel( \"$\\eta$\", fontproperties=axislabelfont )\n",
    "axs[0].set_ylabel( \"$\\phi$\", fontproperties=axislabelfont )\n",
    "ticks0 = [ int(x) for x in axs[0].get_yticks() ]\n",
    "axs[0].set_yticklabels( ticks0, fontproperties=tickfont )\n",
    "axs[0].set_xticklabels( ticks0, fontproperties=tickfont )\n",
    "\n",
    "axs[1].imshow( bkg[0].reshape( (40,40) ), cmap=\"gist_heat_r\" )\n",
    "axs[1].set_xlabel( \"$\\eta$\", fontproperties=axislabelfont )\n",
    "axs[1].set_ylabel( \"$\\phi$\", fontproperties=axislabelfont )\n",
    "ticks1 = [ int(x) for x in axs[1].get_yticks() ]\n",
    "axs[1].set_yticklabels( ticks1, fontproperties=tickfont )\n",
    "axs[1].set_xticklabels( ticks1, fontproperties=tickfont )\n",
    "\n",
    "fig.tight_layout()\n",
    "\n",
    "fig.show()"
   ]
  },
  {
   "cell_type": "code",
   "execution_count": 128,
   "metadata": {},
   "outputs": [
    {
     "data": {
      "image/png": "[encoded data removed]",
      "text/plain": [
       "<Figure size 648x360 with 2 Axes>"
      ]
     },
     "metadata": {
      "needs_background": "light"
     },
     "output_type": "display_data"
    }
   ],
   "source": [
    "fig, axs = plt.subplots( 1, 2, figsize=(9,5) )\n",
    "\n",
    "axs[0].imshow( sig.mean(0).reshape( (40,40) ), cmap=\"gist_heat_r\" )\n",
    "axs[0].set_xlabel( \"$\\eta$\", fontproperties=axislabelfont )\n",
    "axs[0].set_ylabel( \"$\\phi$\", fontproperties=axislabelfont )\n",
    "ticks0 = [ int(x) for x in axs[0].get_yticks() ]\n",
    "axs[0].set_yticklabels( ticks0, fontproperties=tickfont )\n",
    "axs[0].set_xticklabels( ticks0, fontproperties=tickfont )\n",
    "\n",
    "axs[1].imshow( bkg.mean(0).reshape( (40,40) ), cmap=\"gist_heat_r\" )\n",
    "axs[1].set_xlabel( \"$\\eta$\", fontproperties=axislabelfont )\n",
    "axs[1].set_ylabel( \"$\\phi$\", fontproperties=axislabelfont )\n",
    "ticks1 = [ int(x) for x in axs[1].get_yticks() ]\n",
    "axs[1].set_yticklabels( ticks1, fontproperties=tickfont )\n",
    "axs[1].set_xticklabels( ticks1, fontproperties=tickfont )\n",
    "\n",
    "fig.tight_layout()\n",
    "\n",
    "fig.show()"
   ]
  },
  {
   "cell_type": "markdown",
   "metadata": {},
   "source": [
    "## Datasets and dataloaders"
   ]
  },
  {
   "cell_type": "markdown",
   "metadata": {},
   "source": [
    "Let's define a minimal dataset similar to the last we have seen."
   ]
  },
  {
   "cell_type": "code",
   "execution_count": 15,
   "metadata": {},
   "outputs": [],
   "source": [
    "class cnn_data( Dataset ):\n",
    "    \n",
    "    def __init__( self, imgs, labels ):\n",
    "        self.imgs = imgs\n",
    "        self.labels = labels\n",
    "\n",
    "    def __len__(self):\n",
    "        return len(self.labels)\n",
    "\n",
    "    def __getitem__(self, idx):\n",
    "        return self.imgs[idx], self.labels[idx]"
   ]
  },
  {
   "cell_type": "markdown",
   "metadata": {},
   "source": [
    "Define images and labels as pytorch Tensors, we'll need to call them later."
   ]
  },
  {
   "cell_type": "code",
   "execution_count": 16,
   "metadata": {},
   "outputs": [],
   "source": [
    "z_train = torch.Tensor(z_train.reshape(-1, 1, 40,40).astype('float32'))\n",
    "z_test = torch.Tensor(z_test.reshape(-1, 1, 40,40).astype('float32'))\n",
    "z_val = torch.Tensor(z_val.reshape(-1, 1, 40,40).astype('float32'))"
   ]
  },
  {
   "cell_type": "code",
   "execution_count": 39,
   "metadata": {},
   "outputs": [],
   "source": [
    "y_train = torch.Tensor(y_train).unsqueeze(-1)\n",
    "y_test = torch.Tensor(y_test).unsqueeze(-1)\n",
    "y_val = torch.Tensor(y_val).unsqueeze(-1)"
   ]
  },
  {
   "cell_type": "markdown",
   "metadata": {},
   "source": [
    "Finally, create the datasets and the dataloaders:"
   ]
  },
  {
   "cell_type": "code",
   "execution_count": 40,
   "metadata": {},
   "outputs": [],
   "source": [
    "train_cnn_dataset = cnn_data(z_train, y_train.float())\n",
    "test_cnn_dataset = cnn_data(z_test, y_test.float())\n",
    "val_cnn_dataset = cnn_data(z_val, y_val.float())"
   ]
  },
  {
   "cell_type": "code",
   "execution_count": 41,
   "metadata": {},
   "outputs": [],
   "source": [
    "train_cnn_dataloader = DataLoader( train_cnn_dataset, batch_size=64, shuffle=True )\n",
    "test_cnn_dataloader = DataLoader( test_cnn_dataset, batch_size=64, shuffle=True )\n",
    "val_cnn_dataloader = DataLoader( val_cnn_dataset, batch_size=64, shuffle=True)"
   ]
  },
  {
   "cell_type": "markdown",
   "metadata": {},
   "source": [
    "## Building the CNN"
   ]
  },
  {
   "cell_type": "markdown",
   "metadata": {},
   "source": [
    "Let's build a simple CNN. We'll use two convolutions with a small number of channels. Two max-pooling layers are introduced to reduce the dimensionality of the images and the parameters of the linear layer."
   ]
  },
  {
   "cell_type": "code",
   "execution_count": 20,
   "metadata": {},
   "outputs": [],
   "source": [
    "class ConvNet2D(nn.Module):\n",
    "    \n",
    "    def __init__(self, in_ch=1, ch=4, out_dim=1, img_sz=40):\n",
    "        super().__init__()\n",
    "        self.conv1 = nn.Conv2d(in_ch, ch, kernel_size=5, bias=True, stride=1, padding=2)\n",
    "        self.conv2 = nn.Conv2d(ch, 1, kernel_size=5, bias=True, stride=1, padding=2)\n",
    "        self.max = nn.MaxPool2d(kernel_size=2)\n",
    "        self.flatten = nn.Flatten()\n",
    "        self.out = nn.Linear(int(img_sz*img_sz/16), out_dim, bias=True)\n",
    "        \n",
    "    def forward(self, x):\n",
    "        self.net = nn.Sequential(\n",
    "            self.conv1,\n",
    "            nn.ReLU(),\n",
    "            self.max,\n",
    "            nn.ReLU(),\n",
    "            self.conv2,\n",
    "            self.max,\n",
    "            self.flatten,\n",
    "            self.out,\n",
    "            nn.Sigmoid()\n",
    "        )\n",
    "        return self.net(x)\n",
    "    "
   ]
  },
  {
   "cell_type": "markdown",
   "metadata": {},
   "source": [
    "Check available device, use GPU if possible:"
   ]
  },
  {
   "cell_type": "code",
   "execution_count": 21,
   "metadata": {},
   "outputs": [
    {
     "name": "stdout",
     "output_type": "stream",
     "text": [
      "Using cpu device\n"
     ]
    }
   ],
   "source": [
    "device = \"cuda\" if torch.cuda.is_available() else \"cpu\"\n",
    "print(f\"Using {device} device\")"
   ]
  },
  {
   "cell_type": "markdown",
   "metadata": {},
   "source": [
    "## Training the CNN"
   ]
  },
  {
   "cell_type": "markdown",
   "metadata": {},
   "source": [
    "Since our problem is two-class classification problem, we can use the Binary Cross-Entropy as a loss function:\n",
    "\n",
    "- BCE = $y_i \\log p(y_i) + (1-y_i) \\log (1-p(y_i)) $\n",
    "\n",
    "where $y_i$ is the true label, and $p(y_i)$ is the predicted probability of the event being a top jet.\n",
    "\n",
    "In the loss function we add the log-probability for the correct class. Therefore, increasing the fidelity of a pediction lowers the loss function as desired for an optimization problem."
   ]
  },
  {
   "cell_type": "code",
   "execution_count": 22,
   "metadata": {},
   "outputs": [],
   "source": [
    "loss_fn = nn.BCELoss()"
   ]
  },
  {
   "cell_type": "code",
   "execution_count": 23,
   "metadata": {},
   "outputs": [],
   "source": [
    "def train_epoch( dataloader, model, loss_fn, optimizer ):\n",
    "    \n",
    "    size = len( dataloader.dataset )\n",
    "    \n",
    "    for batch, (X, y) in enumerate(dataloader):\n",
    "\n",
    "        # pass data through network\n",
    "        pred = model(X)\n",
    "        \n",
    "        # compute loss\n",
    "        loss = loss_fn( pred, y )\n",
    "\n",
    "        # reset gradients in optimizer\n",
    "        optimizer.zero_grad()\n",
    "        \n",
    "        # compute gradients\n",
    "        loss.backward()\n",
    "        \n",
    "        # update weights with optimizer\n",
    "        optimizer.step()\n",
    "        \n",
    "        # print the training loss every 100 updates\n",
    "        if batch % 100 == 0:\n",
    "            loss, current = loss.item(), batch * len(X)\n",
    "            print( f\"current batch loss: {loss:>7f}  [{current:>5d}/{size:>5d}]\" )"
   ]
  },
  {
   "cell_type": "code",
   "execution_count": 24,
   "metadata": {},
   "outputs": [],
   "source": [
    "def val_pass( dataloader, model, loss_fn ):\n",
    "    \n",
    "    size = len( dataloader.dataset )\n",
    "    num_batches = len( dataloader )\n",
    "    vl = 0.0\n",
    "\n",
    "    # we don't need gradients here since we only use the forward pass\n",
    "    with torch.no_grad():\n",
    "        for X, y in dataloader:\n",
    "            pred = model( X )\n",
    "            vl += loss_fn( pred, y ).item()\n",
    "\n",
    "    vl /= num_batches\n",
    "    print( f\"avg val loss per batch: {vl:>8f}\" )\n",
    "    \n",
    "    return vl\n",
    "\n",
    "def trn_pass( dataloader, model, loss_fn ):\n",
    "    \n",
    "    size = len( dataloader.dataset )\n",
    "    num_batches = len( dataloader )\n",
    "    tl = 0.0\n",
    "\n",
    "    # we don't need gradients here since we only use the forward pass\n",
    "    with torch.no_grad():\n",
    "        for X, y in dataloader:\n",
    "            pred = model( X )\n",
    "            tl += loss_fn( pred, y ).item()\n",
    "\n",
    "    tl /= num_batches\n",
    "    print( f\"avg trn loss per batch: {tl:>8f}\" )\n",
    "    \n",
    "    return tl"
   ]
  },
  {
   "cell_type": "code",
   "execution_count": null,
   "metadata": {
    "scrolled": true
   },
   "outputs": [
    {
     "name": "stdout",
     "output_type": "stream",
     "text": [
      "-----------------------------------------------\n",
      "model architecture \n",
      "-----------------------------------------------\n",
      "ConvNet2D(\n",
      "  (conv1): Conv2d(1, 4, kernel_size=(5, 5), stride=(1, 1), padding=(2, 2))\n",
      "  (conv2): Conv2d(4, 1, kernel_size=(5, 5), stride=(1, 1), padding=(2, 2))\n",
      "  (max): MaxPool2d(kernel_size=2, stride=2, padding=0, dilation=1, ceil_mode=False)\n",
      "  (flatten): Flatten(start_dim=1, end_dim=-1)\n",
      "  (out): Linear(in_features=100, out_features=1, bias=True)\n",
      ")\n",
      "-----------------------------------------------\n",
      "Epoch 1\n",
      "-----------------------------------------------\n",
      "current batch loss: 0.695243  [    0/30000]\n",
      "current batch loss: 0.672724  [ 6400/30000]\n",
      "current batch loss: 0.489160  [12800/30000]\n",
      "current batch loss: 0.331076  [19200/30000]\n",
      "current batch loss: 0.405648  [25600/30000]\n",
      "-----------------------------------------------\n",
      "avg trn loss per batch: 0.376601\n",
      "-----------------------------------------------\n",
      "avg val loss per batch: 0.372348\n",
      "-----------------------------------------------\n",
      "|\n",
      "-----------------------------------------------\n",
      "Epoch 2\n",
      "-----------------------------------------------\n",
      "current batch loss: 0.327058  [    0/30000]\n",
      "current batch loss: 0.345435  [ 6400/30000]\n",
      "current batch loss: 0.360855  [12800/30000]\n",
      "current batch loss: 0.347693  [19200/30000]\n",
      "current batch loss: 0.228377  [25600/30000]\n",
      "-----------------------------------------------\n",
      "avg trn loss per batch: 0.366308\n",
      "-----------------------------------------------\n",
      "avg val loss per batch: 0.362703\n",
      "-----------------------------------------------\n",
      "|\n",
      "-----------------------------------------------\n",
      "Epoch 3\n",
      "-----------------------------------------------\n",
      "current batch loss: 0.314880  [    0/30000]\n",
      "current batch loss: 0.380774  [ 6400/30000]\n",
      "current batch loss: 0.368533  [12800/30000]\n",
      "current batch loss: 0.383757  [19200/30000]\n",
      "current batch loss: 0.368283  [25600/30000]\n",
      "-----------------------------------------------\n",
      "avg trn loss per batch: 0.361056\n",
      "-----------------------------------------------\n",
      "avg val loss per batch: 0.357297\n",
      "-----------------------------------------------\n",
      "|\n",
      "-----------------------------------------------\n",
      "Epoch 4\n",
      "-----------------------------------------------\n",
      "current batch loss: 0.446082  [    0/30000]\n",
      "current batch loss: 0.338378  [ 6400/30000]\n",
      "current batch loss: 0.436985  [12800/30000]\n",
      "current batch loss: 0.321613  [19200/30000]\n",
      "current batch loss: 0.339689  [25600/30000]\n",
      "-----------------------------------------------\n",
      "avg trn loss per batch: 0.357864\n",
      "-----------------------------------------------\n",
      "avg val loss per batch: 0.354591\n",
      "-----------------------------------------------\n",
      "|\n",
      "-----------------------------------------------\n",
      "Epoch 5\n",
      "-----------------------------------------------\n",
      "current batch loss: 0.397848  [    0/30000]\n",
      "current batch loss: 0.483225  [ 6400/30000]\n",
      "current batch loss: 0.378444  [12800/30000]\n",
      "current batch loss: 0.331674  [19200/30000]\n",
      "current batch loss: 0.331144  [25600/30000]\n",
      "-----------------------------------------------\n",
      "avg trn loss per batch: 0.355059\n",
      "-----------------------------------------------\n",
      "avg val loss per batch: 0.350282\n",
      "-----------------------------------------------\n",
      "|\n",
      "-----------------------------------------------\n",
      "Epoch 6\n",
      "-----------------------------------------------\n",
      "current batch loss: 0.525848  [    0/30000]\n",
      "current batch loss: 0.421601  [ 6400/30000]\n",
      "current batch loss: 0.311799  [12800/30000]\n",
      "current batch loss: 0.393470  [19200/30000]\n",
      "current batch loss: 0.319346  [25600/30000]\n",
      "-----------------------------------------------\n",
      "avg trn loss per batch: 0.351374\n",
      "-----------------------------------------------\n",
      "avg val loss per batch: 0.347771\n",
      "-----------------------------------------------\n",
      "|\n",
      "-----------------------------------------------\n",
      "Epoch 7\n",
      "-----------------------------------------------\n",
      "current batch loss: 0.386772  [    0/30000]\n",
      "current batch loss: 0.421336  [ 6400/30000]\n",
      "current batch loss: 0.310090  [12800/30000]\n",
      "current batch loss: 0.396873  [19200/30000]\n",
      "current batch loss: 0.238479  [25600/30000]\n",
      "-----------------------------------------------\n",
      "avg trn loss per batch: 0.348804\n",
      "-----------------------------------------------\n",
      "avg val loss per batch: 0.346235\n",
      "-----------------------------------------------\n",
      "|\n",
      "-----------------------------------------------\n",
      "Epoch 8\n",
      "-----------------------------------------------\n",
      "current batch loss: 0.370216  [    0/30000]\n",
      "current batch loss: 0.231758  [ 6400/30000]\n",
      "current batch loss: 0.401726  [12800/30000]\n",
      "current batch loss: 0.320951  [19200/30000]\n",
      "current batch loss: 0.356692  [25600/30000]\n",
      "-----------------------------------------------\n",
      "avg trn loss per batch: 0.346773\n",
      "-----------------------------------------------\n",
      "avg val loss per batch: 0.345027\n",
      "-----------------------------------------------\n",
      "|\n",
      "-----------------------------------------------\n",
      "Epoch 9\n",
      "-----------------------------------------------\n",
      "current batch loss: 0.177992  [    0/30000]\n",
      "current batch loss: 0.356903  [ 6400/30000]\n",
      "current batch loss: 0.256013  [12800/30000]\n",
      "current batch loss: 0.260376  [19200/30000]\n",
      "current batch loss: 0.348430  [25600/30000]\n",
      "-----------------------------------------------\n",
      "avg trn loss per batch: 0.344736\n",
      "-----------------------------------------------\n",
      "avg val loss per batch: 0.341272\n",
      "-----------------------------------------------\n",
      "|\n",
      "-----------------------------------------------\n",
      "Epoch 10\n",
      "-----------------------------------------------\n",
      "current batch loss: 0.272287  [    0/30000]\n",
      "current batch loss: 0.296259  [ 6400/30000]\n",
      "current batch loss: 0.305685  [12800/30000]\n",
      "current batch loss: 0.431602  [19200/30000]\n",
      "current batch loss: 0.506795  [25600/30000]\n",
      "-----------------------------------------------\n",
      "avg trn loss per batch: 0.341702\n",
      "-----------------------------------------------\n",
      "avg val loss per batch: 0.339481\n",
      "-----------------------------------------------\n",
      "|\n",
      "-----------------------------------------------\n",
      "Epoch 11\n",
      "-----------------------------------------------\n",
      "current batch loss: 0.231972  [    0/30000]\n",
      "current batch loss: 0.427093  [ 6400/30000]\n",
      "current batch loss: 0.243034  [12800/30000]\n",
      "current batch loss: 0.481643  [19200/30000]\n",
      "current batch loss: 0.287839  [25600/30000]\n",
      "-----------------------------------------------\n",
      "avg trn loss per batch: 0.342161\n",
      "-----------------------------------------------\n",
      "avg val loss per batch: 0.341856\n",
      "-----------------------------------------------\n",
      "|\n",
      "-----------------------------------------------\n",
      "Epoch 12\n",
      "-----------------------------------------------\n",
      "current batch loss: 0.373169  [    0/30000]\n",
      "current batch loss: 0.226086  [ 6400/30000]\n",
      "current batch loss: 0.267045  [12800/30000]\n",
      "current batch loss: 0.360704  [19200/30000]\n",
      "current batch loss: 0.325686  [25600/30000]\n",
      "-----------------------------------------------\n",
      "avg trn loss per batch: 0.338497\n",
      "-----------------------------------------------\n",
      "avg val loss per batch: 0.336057\n",
      "-----------------------------------------------\n",
      "|\n",
      "-----------------------------------------------\n",
      "Epoch 13\n",
      "-----------------------------------------------\n",
      "current batch loss: 0.432112  [    0/30000]\n",
      "current batch loss: 0.357131  [ 6400/30000]\n",
      "current batch loss: 0.218137  [12800/30000]\n",
      "current batch loss: 0.249661  [19200/30000]\n",
      "current batch loss: 0.452068  [25600/30000]\n",
      "-----------------------------------------------\n",
      "avg trn loss per batch: 0.336124\n",
      "-----------------------------------------------\n",
      "avg val loss per batch: 0.334636\n",
      "-----------------------------------------------\n",
      "|\n",
      "-----------------------------------------------\n",
      "Epoch 14\n",
      "-----------------------------------------------\n",
      "current batch loss: 0.234071  [    0/30000]\n",
      "current batch loss: 0.284272  [ 6400/30000]\n",
      "current batch loss: 0.332047  [12800/30000]\n",
      "current batch loss: 0.465740  [19200/30000]\n",
      "current batch loss: 0.313288  [25600/30000]\n",
      "-----------------------------------------------\n",
      "avg trn loss per batch: 0.336135\n",
      "-----------------------------------------------\n",
      "avg val loss per batch: 0.335839\n",
      "-----------------------------------------------\n",
      "|\n",
      "-----------------------------------------------\n",
      "Epoch 15\n",
      "-----------------------------------------------\n",
      "current batch loss: 0.230572  [    0/30000]\n",
      "current batch loss: 0.319564  [ 6400/30000]\n",
      "current batch loss: 0.427866  [12800/30000]\n"
     ]
    },
    {
     "name": "stdout",
     "output_type": "stream",
     "text": [
      "current batch loss: 0.283122  [19200/30000]\n",
      "current batch loss: 0.310117  [25600/30000]\n",
      "-----------------------------------------------\n",
      "avg trn loss per batch: 0.333396\n",
      "-----------------------------------------------\n",
      "avg val loss per batch: 0.332139\n",
      "-----------------------------------------------\n",
      "|\n",
      "-----------------------------------------------\n",
      "Epoch 16\n",
      "-----------------------------------------------\n",
      "current batch loss: 0.333100  [    0/30000]\n",
      "current batch loss: 0.482911  [ 6400/30000]\n",
      "current batch loss: 0.423123  [12800/30000]\n",
      "current batch loss: 0.271572  [19200/30000]\n",
      "current batch loss: 0.212228  [25600/30000]\n",
      "-----------------------------------------------\n",
      "avg trn loss per batch: 0.333054\n",
      "-----------------------------------------------\n",
      "avg val loss per batch: 0.331039\n",
      "-----------------------------------------------\n",
      "|\n",
      "-----------------------------------------------\n",
      "Epoch 17\n",
      "-----------------------------------------------\n",
      "current batch loss: 0.402889  [    0/30000]\n",
      "current batch loss: 0.252676  [ 6400/30000]\n",
      "current batch loss: 0.327822  [12800/30000]\n",
      "current batch loss: 0.244846  [19200/30000]\n",
      "current batch loss: 0.376313  [25600/30000]\n",
      "-----------------------------------------------\n",
      "avg trn loss per batch: 0.334977\n",
      "-----------------------------------------------\n",
      "avg val loss per batch: 0.331981\n",
      "-----------------------------------------------\n",
      "|\n",
      "-----------------------------------------------\n",
      "Epoch 18\n",
      "-----------------------------------------------\n",
      "current batch loss: 0.366992  [    0/30000]\n",
      "current batch loss: 0.330373  [ 6400/30000]\n",
      "current batch loss: 0.369281  [12800/30000]\n",
      "current batch loss: 0.212881  [19200/30000]\n",
      "current batch loss: 0.363193  [25600/30000]\n",
      "-----------------------------------------------\n",
      "avg trn loss per batch: 0.330657\n",
      "-----------------------------------------------\n",
      "avg val loss per batch: 0.329185\n",
      "-----------------------------------------------\n",
      "|\n",
      "-----------------------------------------------\n",
      "Epoch 19\n",
      "-----------------------------------------------\n",
      "current batch loss: 0.197535  [    0/30000]\n",
      "current batch loss: 0.357906  [ 6400/30000]\n",
      "current batch loss: 0.308414  [12800/30000]\n",
      "current batch loss: 0.237891  [19200/30000]\n",
      "current batch loss: 0.415197  [25600/30000]\n",
      "-----------------------------------------------\n",
      "avg trn loss per batch: 0.328642\n",
      "-----------------------------------------------\n",
      "avg val loss per batch: 0.328009\n",
      "-----------------------------------------------\n",
      "|\n",
      "-----------------------------------------------\n",
      "Epoch 20\n",
      "-----------------------------------------------\n",
      "current batch loss: 0.378469  [    0/30000]\n",
      "current batch loss: 0.374331  [ 6400/30000]\n",
      "current batch loss: 0.269741  [12800/30000]\n",
      "current batch loss: 0.352051  [19200/30000]\n",
      "current batch loss: 0.453563  [25600/30000]\n",
      "-----------------------------------------------\n",
      "avg trn loss per batch: 0.327727\n",
      "-----------------------------------------------\n",
      "avg val loss per batch: 0.327236\n",
      "-----------------------------------------------\n",
      "|\n",
      "-----------------------------------------------\n",
      "Epoch 21\n",
      "-----------------------------------------------\n",
      "current batch loss: 0.403125  [    0/30000]\n",
      "current batch loss: 0.273426  [ 6400/30000]\n",
      "current batch loss: 0.211757  [12800/30000]\n",
      "current batch loss: 0.267450  [19200/30000]\n",
      "current batch loss: 0.465515  [25600/30000]\n",
      "-----------------------------------------------\n",
      "avg trn loss per batch: 0.327704\n",
      "-----------------------------------------------\n",
      "avg val loss per batch: 0.327473\n",
      "-----------------------------------------------\n",
      "|\n",
      "-----------------------------------------------\n",
      "Epoch 22\n",
      "-----------------------------------------------\n",
      "current batch loss: 0.255399  [    0/30000]\n",
      "current batch loss: 0.382178  [ 6400/30000]\n",
      "current batch loss: 0.397896  [12800/30000]\n",
      "current batch loss: 0.238731  [19200/30000]\n",
      "current batch loss: 0.406675  [25600/30000]\n",
      "-----------------------------------------------\n",
      "avg trn loss per batch: 0.327069\n",
      "-----------------------------------------------\n",
      "avg val loss per batch: 0.325694\n",
      "-----------------------------------------------\n",
      "|\n",
      "-----------------------------------------------\n",
      "Epoch 23\n",
      "-----------------------------------------------\n",
      "current batch loss: 0.311239  [    0/30000]\n",
      "current batch loss: 0.279217  [ 6400/30000]\n",
      "current batch loss: 0.226866  [12800/30000]\n",
      "current batch loss: 0.302596  [19200/30000]\n",
      "current batch loss: 0.165658  [25600/30000]\n",
      "-----------------------------------------------\n",
      "avg trn loss per batch: 0.323911\n",
      "-----------------------------------------------\n",
      "avg val loss per batch: 0.323444\n",
      "-----------------------------------------------\n",
      "|\n",
      "-----------------------------------------------\n",
      "Epoch 24\n",
      "-----------------------------------------------\n",
      "current batch loss: 0.321670  [    0/30000]\n",
      "current batch loss: 0.254680  [ 6400/30000]\n",
      "current batch loss: 0.354600  [12800/30000]\n",
      "current batch loss: 0.240654  [19200/30000]\n",
      "current batch loss: 0.336653  [25600/30000]\n",
      "-----------------------------------------------\n",
      "avg trn loss per batch: 0.322875\n",
      "-----------------------------------------------\n",
      "avg val loss per batch: 0.323861\n",
      "-----------------------------------------------\n",
      "|\n",
      "-----------------------------------------------\n",
      "Epoch 25\n",
      "-----------------------------------------------\n",
      "current batch loss: 0.297305  [    0/30000]\n"
     ]
    }
   ],
   "source": [
    "# a useful function to present things clearer\n",
    "def separator():\n",
    "    print( \"-----------------------------------------------\" )\n",
    "\n",
    "epochs = 25\n",
    "\n",
    "# re-initialise the model and the optimizer\n",
    "model = ConvNet2D(ch=4).to(device)\n",
    "learning_rate = 0.001\n",
    "optimizer = torch.optim.Adam( model.parameters(), lr=learning_rate )\n",
    "separator()\n",
    "print( \"model architecture \")\n",
    "separator()\n",
    "print( model )\n",
    "\n",
    "# track train and val losses\n",
    "trn_losses = []\n",
    "val_losses = []\n",
    "\n",
    "for t in range(epochs):\n",
    "    separator()\n",
    "    print( f\"Epoch {t+1}\" )\n",
    "    separator()\n",
    "    train_epoch( train_cnn_dataloader, model, loss_fn, optimizer )\n",
    "    separator()\n",
    "    trn_loss = trn_pass( train_cnn_dataloader, model, loss_fn )\n",
    "    trn_losses.append( trn_loss )\n",
    "    separator()\n",
    "    val_loss = val_pass( val_cnn_dataloader, model, loss_fn )\n",
    "    val_losses.append( val_loss )\n",
    "    separator()\n",
    "    print( \"|\" )\n",
    "    \n",
    "print(\"Done!\")"
   ]
  },
  {
   "cell_type": "markdown",
   "metadata": {},
   "source": [
    "## Plot train and validation losses"
   ]
  },
  {
   "cell_type": "markdown",
   "metadata": {},
   "source": [
    "To study the results let's start by looking at the loss functions."
   ]
  },
  {
   "cell_type": "code",
   "execution_count": 188,
   "metadata": {},
   "outputs": [
    {
     "data": {
      "image/png": "[encoded data removed]",
      "text/plain": [
       "<Figure size 504x360 with 1 Axes>"
      ]
     },
     "metadata": {
      "needs_background": "light"
     },
     "output_type": "display_data"
    }
   ],
   "source": [
    "fig, axs = plt.subplots( 1, 1, figsize=(7,5) )\n",
    "\n",
    "c1 = 'tab:red'\n",
    "c2 = 'tab:green'\n",
    "\n",
    "axs.plot( trn_losses, label=\"train loss\", color=c1 )\n",
    "axs.plot( val_losses, label=\"val   loss\", color=c2 )\n",
    "\n",
    "axs.set_yscale('log')\n",
    "\n",
    "axs.set_xlabel( \"epoch\", fontproperties=axislabelfont )\n",
    "axs.set_ylabel( \"Binary CE\", fontproperties=axislabelfont )\n",
    "\n",
    "xticks = [ int(x) for x in axs.get_xticks() ]\n",
    "axs.set_xticklabels( xticks, fontproperties=tickfont )\n",
    "\n",
    "yticks = axs.get_yticks()\n",
    "axs.set_yticklabels( yticks, fontproperties=tickfont )\n",
    "\n",
    "axs.legend( loc='best', prop=tickfont )\n",
    "\n",
    "fig.tight_layout()"
   ]
  },
  {
   "cell_type": "code",
   "execution_count": 189,
   "metadata": {},
   "outputs": [
    {
     "name": "stdout",
     "output_type": "stream",
     "text": [
      "avg trn loss per batch: 0.300907\n",
      "avg val loss per batch: 0.308134\n",
      "avg val loss per batch: 0.302643\n",
      "-----------------------------------------------\n",
      "Final evaluation of performance:\n",
      "MSE-loss on train dataset: 0.3009068388928737\n",
      "MSE-loss on validation dataset: 0.30813442901380533\n",
      "MSE-loss on test dataset: 0.3026433375789158\n",
      "-----------------------------------------------\n"
     ]
    }
   ],
   "source": [
    "trn_loss = trn_pass( train_cnn_dataloader, model, loss_fn )\n",
    "val_loss = val_pass( test_cnn_dataloader, model, loss_fn )\n",
    "test_loss = val_pass( val_cnn_dataloader, model, loss_fn )\n",
    "\n",
    "separator()\n",
    "print(\"Final evaluation of performance:\")\n",
    "print(\"MSE-loss on train dataset: {}\".format(trn_loss))\n",
    "print(\"MSE-loss on validation dataset: {}\".format(val_loss))\n",
    "print(\"MSE-loss on test dataset: {}\".format(test_loss))\n",
    "separator()"
   ]
  },
  {
   "cell_type": "markdown",
   "metadata": {},
   "source": [
    "However, these numbers don't show clearly what's the performance of our model.\n",
    "\n",
    "Let's try with the accuracy: $\\frac{\\mathbf{correct}}{\\mathbf{total}}\\cdot100$"
   ]
  },
  {
   "cell_type": "code",
   "execution_count": 48,
   "metadata": {},
   "outputs": [],
   "source": [
    "samp_size = 10000\n",
    "\n",
    "train_pred = model(z_train[:samp_size]).detach()\n",
    "test_pred = model(z_test[:samp_size]).detach()\n",
    "val_pred = model(z_val[:samp_size]).detach()\n",
    "\n",
    "train_pred_lab = torch.round(train_pred[:samp_size])\n",
    "test_pred_lab = torch.round(test_pred[:samp_size])\n",
    "val_pred_lab = torch.round(val_pred[:samp_size])\n",
    "\n",
    "train_correct = (train_pred_lab==y_train[:samp_size]).sum().item()\n",
    "test_correct = (test_pred_lab==y_test[:samp_size]).sum().item()\n",
    "val_correct = (val_pred_lab==y_val[:samp_size]).sum().item()"
   ]
  },
  {
   "cell_type": "code",
   "execution_count": 49,
   "metadata": {},
   "outputs": [
    {
     "name": "stdout",
     "output_type": "stream",
     "text": [
      "-----------------------------------------------\n",
      "Evaluation of accuracy: \n",
      "Accuracy on training dataset: 86.0 %\n",
      "Accuracy on validation dataset: 86.9 %\n",
      "Accuracy on test dataset: 86.3 %\n",
      "-----------------------------------------------\n"
     ]
    }
   ],
   "source": [
    "separator()\n",
    "print('Evaluation of accuracy: ')\n",
    "print('Accuracy on training dataset: {:.1f} %'.format(train_correct*100/len(train_pred)))\n",
    "print('Accuracy on validation dataset: {:.1f} %'.format(val_correct*100/len(val_pred)))\n",
    "print('Accuracy on test dataset: {:.1f} %'.format(test_correct*100/len(test_pred)))\n",
    "separator()"
   ]
  },
  {
   "cell_type": "markdown",
   "metadata": {},
   "source": [
    "Good accuracy for a really simple model!"
   ]
  },
  {
   "cell_type": "markdown",
   "metadata": {},
   "source": [
    "## Study the results - plot the ROC curve"
   ]
  },
  {
   "cell_type": "markdown",
   "metadata": {},
   "source": [
    "One possible way to study our results is to plot a ROC curve. This is created by plotting the True Positive Rate against the False Positive Rate at different thresholds.TPR and FPR are defined by:\n",
    "\n",
    "- TPR = $\\frac{TP}{TP+FN}$;\n",
    "- FPR = $\\frac{FP}{FP+TN}$,\n",
    "\n",
    "namely the probability of correctly identyfing a signal against the probability of falsely rejecting a background event.\n",
    "\n",
    "When dealing with a background/signal test, it's usual to call the TPR signal efficiency and the FPR background rejection.\n",
    "\n",
    "Once we plot the ROC curve, we would like to quantify the performance according to some criteria.\n",
    "Two indices are mainly used:\n",
    "- AUC score, which is the Area Under the Curve;\n",
    "- Inverse mistag at low efficiency (e.g. 0.3)\n",
    "\n",
    "The AUC represents the probability of a random signal sample to have higher score than a background event.\n",
    "The inverse mistag hasn't a probabilistic interpretation, but higher values denote a better sensitivity to signal events."
   ]
  },
  {
   "cell_type": "code",
   "execution_count": 87,
   "metadata": {},
   "outputs": [],
   "source": [
    "from sklearn.metrics import roc_curve, roc_auc_score\n",
    "\n",
    "def closest_point(array, tpr_p=0.3):\n",
    "    dist = ((array-tpr_p)**2)\n",
    "    return np.argmin(dist)"
   ]
  },
  {
   "cell_type": "code",
   "execution_count": 2,
   "metadata": {},
   "outputs": [
    {
     "ename": "NameError",
     "evalue": "name 'plt' is not defined",
     "output_type": "error",
     "traceback": [
      "\u001b[0;31m---------------------------------------------------------------------------\u001b[0m",
      "\u001b[0;31mNameError\u001b[0m                                 Traceback (most recent call last)",
      "\u001b[0;32m<ipython-input-2-2143ef090bd1>\u001b[0m in \u001b[0;36m<module>\u001b[0;34m\u001b[0m\n\u001b[0;32m----> 1\u001b[0;31m \u001b[0mfig\u001b[0m\u001b[0;34m,\u001b[0m \u001b[0max\u001b[0m \u001b[0;34m=\u001b[0m \u001b[0mplt\u001b[0m\u001b[0;34m.\u001b[0m\u001b[0msubplots\u001b[0m\u001b[0;34m(\u001b[0m\u001b[0;36m1\u001b[0m\u001b[0;34m,\u001b[0m \u001b[0;36m2\u001b[0m\u001b[0;34m,\u001b[0m \u001b[0mfigsize\u001b[0m\u001b[0;34m=\u001b[0m\u001b[0;34m(\u001b[0m\u001b[0;36m14\u001b[0m\u001b[0;34m,\u001b[0m\u001b[0;36m5\u001b[0m\u001b[0;34m)\u001b[0m\u001b[0;34m)\u001b[0m\u001b[0;34m\u001b[0m\u001b[0;34m\u001b[0m\u001b[0m\n\u001b[0m\u001b[1;32m      2\u001b[0m \u001b[0;34m\u001b[0m\u001b[0m\n\u001b[1;32m      3\u001b[0m \u001b[0mfpr\u001b[0m\u001b[0;34m,\u001b[0m \u001b[0mtpr\u001b[0m\u001b[0;34m,\u001b[0m \u001b[0mth\u001b[0m \u001b[0;34m=\u001b[0m \u001b[0mroc_curve\u001b[0m\u001b[0;34m(\u001b[0m\u001b[0my_test\u001b[0m\u001b[0;34m[\u001b[0m\u001b[0;34m:\u001b[0m\u001b[0msamp_size\u001b[0m\u001b[0;34m]\u001b[0m\u001b[0;34m,\u001b[0m \u001b[0mtest_pred\u001b[0m\u001b[0;34m[\u001b[0m\u001b[0;34m:\u001b[0m\u001b[0;34m,\u001b[0m\u001b[0;36m1\u001b[0m\u001b[0;34m]\u001b[0m\u001b[0;34m)\u001b[0m\u001b[0;34m\u001b[0m\u001b[0;34m\u001b[0m\u001b[0m\n\u001b[1;32m      4\u001b[0m \u001b[0mauc_score\u001b[0m \u001b[0;34m=\u001b[0m \u001b[0mroc_auc_score\u001b[0m\u001b[0;34m(\u001b[0m\u001b[0my_test\u001b[0m\u001b[0;34m[\u001b[0m\u001b[0;34m:\u001b[0m\u001b[0msamp_size\u001b[0m\u001b[0;34m]\u001b[0m\u001b[0;34m,\u001b[0m \u001b[0mtest_pred\u001b[0m\u001b[0;34m[\u001b[0m\u001b[0;34m:\u001b[0m\u001b[0;34m,\u001b[0m\u001b[0;36m1\u001b[0m\u001b[0;34m]\u001b[0m\u001b[0;34m)\u001b[0m\u001b[0;34m\u001b[0m\u001b[0;34m\u001b[0m\u001b[0m\n\u001b[1;32m      5\u001b[0m \u001b[0mrnd_class\u001b[0m \u001b[0;34m=\u001b[0m \u001b[0mnp\u001b[0m\u001b[0;34m.\u001b[0m\u001b[0mlinspace\u001b[0m\u001b[0;34m(\u001b[0m\u001b[0;36m0\u001b[0m\u001b[0;34m,\u001b[0m \u001b[0;36m1\u001b[0m\u001b[0;34m,\u001b[0m \u001b[0;36m100\u001b[0m\u001b[0;34m)\u001b[0m\u001b[0;34m\u001b[0m\u001b[0;34m\u001b[0m\u001b[0m\n",
      "\u001b[0;31mNameError\u001b[0m: name 'plt' is not defined"
     ]
    }
   ],
   "source": [
    "fig, ax = plt.subplots(1, 2, figsize=(14,5))\n",
    "\n",
    "fpr, tpr, th = roc_curve(test_true_lab, test_pred[:,1])\n",
    "auc_score = roc_auc_score(test_true_lab, test_pred[:,1])\n",
    "rnd_class = np.linspace(0, 1, 100)\n",
    "\n",
    "ax[0].plot(fpr, tpr, label='AUC = {:.2f}'.format(auc_score) )\n",
    "ax[0].plot(rnd_class, rnd_class, '--', label='Rnd classifier')\n",
    "ax[1].plot(tpr, 1/fpr, label='AUC = {:.2f}\\n $1/\\epsilon_{{bkg}}$(0.3) = {:.0f}'.format(auc_score, 1/fpr[closest_point(tpr, tpr_p=0.3)]))\n",
    "ax[1].plot(rnd_class, 1/rnd_class, '--', label='Rnd classifier')\n",
    "ax[1].set_yscale('log')\n",
    "\n",
    "ax[0].set_xlabel('$\\epsilon_{bkg}$ - FPR', fontproperties=axislabelfont)\n",
    "ax[0].set_ylabel('$\\epsilon_{s}$ - TPR', fontproperties=axislabelfont)\n",
    "\n",
    "ax[1].set_xlabel('$\\epsilon_{s}$ - TPR', fontproperties=axislabelfont)\n",
    "ax[1].set_ylabel('1/$\\epsilon_{bkg}$ - Inverse FPR', fontproperties=axislabelfont)\n",
    "for i in range(len(ax)):\n",
    "    ax[i].legend(prop=axislabelfont)\n",
    "    ax[i].tick_params(labelsize=axisfontsize)\n",
    "    ax[i].grid('on')"
   ]
  },
  {
   "cell_type": "code",
   "execution_count": 74,
   "metadata": {},
   "outputs": [
    {
     "data": {
      "image/png": "[encoded data removed]",
      "text/plain": [
       "<Figure size 504x360 with 1 Axes>"
      ]
     },
     "metadata": {
      "needs_background": "light"
     },
     "output_type": "display_data"
    }
   ],
   "source": [
    "fig, ax = plt.subplots(1,1, figsize=(7,5))\n",
    "ax.hist(test_pred[:,0].numpy())\n",
    "plt.show()"
   ]
  },
  {
   "cell_type": "markdown",
   "metadata": {},
   "source": [
    "## CNNs and translation invariance"
   ]
  },
  {
   "cell_type": "markdown",
   "metadata": {},
   "source": [
    "The convolution operation is <ins>**not**</ins> translation invariant but **equivariant**. what does that mean?\n",
    "Translation equivariant means that a translated input is mapped to the translated output, in formula:\n",
    "\n",
    "$f(x(t)) = y(t)$ &#10230; $f(x(t+s)) = y(t+s)$,\n",
    "\n",
    "while a translation invariant operation implies:\n",
    "\n",
    "$f(x(t)) = y(t)$ &#10230; $f(x(t+s)) = y(t)$.\n",
    "\n",
    "Nevertheless, we can check that the network is still invariant to small translation of the input datasets. Let's shift the test dataset in the vertical and horizontal axis:"
   ]
  },
  {
   "cell_type": "code",
   "execution_count": 116,
   "metadata": {},
   "outputs": [],
   "source": [
    "test_h = torch.roll(z_test, 3, dims=3)\n",
    "test_v = torch.roll(z_test, 3, dims=2)"
   ]
  },
  {
   "cell_type": "markdown",
   "metadata": {},
   "source": [
    "Now check the accuracy of the previously trained model:"
   ]
  },
  {
   "cell_type": "code",
   "execution_count": 118,
   "metadata": {},
   "outputs": [],
   "source": [
    "samp_size = 10000\n",
    "\n",
    "test_pred = model(z_test[:samp_size])\n",
    "test_pred_h = model(test_h[:samp_size])\n",
    "test_pred_v = model(test_v[:samp_size])\n",
    "\n",
    "test_pred_lab = torch.round(test_pred[:samp_size])\n",
    "test_pred_lab_h = torch.round(test_pred_h[:samp_size])\n",
    "test_pred_lab_v = torch.round(test_pred_v[:samp_size])\n",
    "\n",
    "test_cor = (test_pred_lab==y_test[:samp_size]).sum().item()\n",
    "test_cor_h = (test_pred_lab_h==y_test[:samp_size]).sum().item()\n",
    "test_cor_v = (test_pred_lab_v==y_test[:samp_size]).sum().item()"
   ]
  },
  {
   "cell_type": "code",
   "execution_count": 119,
   "metadata": {},
   "outputs": [
    {
     "name": "stdout",
     "output_type": "stream",
     "text": [
      "-----------------------------------------------\n",
      "Accuracy on shifted datasets:\n",
      "No-shifts: 86.3 %\n",
      "Vertical shift: 74.6 %\n",
      "Horizontal shift: 82.1 %\n",
      "-----------------------------------------------\n"
     ]
    }
   ],
   "source": [
    "separator()\n",
    "print('Accuracy on shifted datasets:')\n",
    "print('No-shifts: {:.1f} %'.format(test_cor*100/len(test_pred)))\n",
    "print('Vertical shift: {:.1f} %'.format(test_cor_h*100/len(test_pred_h)))\n",
    "print('Horizontal shift: {:.1f} %'.format(test_cor_v*100/len(test_pred_v)))\n",
    "separator()"
   ]
  },
  {
   "cell_type": "markdown",
   "metadata": {},
   "source": [
    "- #### Why there's some translation invariance? Why will it be broken at some point?\n",
    "\n",
    "max-pooling layer reduces the dependence on the spatial positioning. \n",
    "\n",
    "At large shifts we'll drastically change the physics of the jet (especially for tops), pooling doesn't help anymore, and linear layers are definitely not translation invariant.\n"
   ]
  },
  {
   "cell_type": "markdown",
   "metadata": {},
   "source": [
    "## CNNs vs FCNs"
   ]
  },
  {
   "cell_type": "markdown",
   "metadata": {},
   "source": [
    "How many parameters does a CNN have?\n",
    "\n",
    "*output_channels* * (*input_channels* * *kernel_width* * *kernel_height* + 1)\n",
    "\n",
    "How many parameters does a FCN have?\n",
    "\n",
    "*output_nodes* * (input_nodes + 1)\n",
    "\n",
    "In our case we have 104 parameters from the first convolution, 100 from the second one, and 101 from the linear layer (no learnable weights in max-pooling and flattening), thus:\n",
    "\n",
    "**CNN parameters**: ~300\n",
    "\n",
    "Let's try to build a FCN with similar number of weights. The simplest network has just one layer that maps the pixels into a probability output.\n",
    "So, in the simplest case, we already have a number of parameters equal to the number of pixels.\n",
    "\n",
    "**FCN parameters** (simplest case): ~1600\n",
    "\n",
    "Let's try to train this FCN."
   ]
  },
  {
   "cell_type": "code",
   "execution_count": 186,
   "metadata": {},
   "outputs": [],
   "source": [
    "#cnn parameters:  104, 100, 101 -> 300\n",
    "#smallest fcn has at least 1600 params\n",
    "\n",
    "class FullyConnected(nn.Module):\n",
    "    \n",
    "    def __init__(self, img_pixels=1600, out_dim=2):\n",
    "        super().__init__()\n",
    "        self.linear1 = nn.Linear(img_pixels, out_dim, bias=True)\n",
    "    \n",
    "    def forward(self, x):\n",
    "        self.net = nn.Sequential(\n",
    "            nn.Flatten(),\n",
    "            self.linear1,\n",
    "            nn.Softmax()\n",
    "        )\n",
    "        return self.net(x)"
   ]
  },
  {
   "cell_type": "code",
   "execution_count": 161,
   "metadata": {},
   "outputs": [
    {
     "name": "stdout",
     "output_type": "stream",
     "text": [
      "-----------------------------------------------\n",
      "model architecture \n",
      "-----------------------------------------------\n",
      "FullyConnected(\n",
      "  (linear1): Linear(in_features=1600, out_features=2, bias=True)\n",
      ")\n",
      "-----------------------------------------------\n",
      "Epoch 1\n",
      "-----------------------------------------------\n",
      "current batch loss: 0.695570  [    0/30000]\n",
      "current batch loss: 0.673624  [ 6400/30000]\n",
      "current batch loss: 0.631525  [12800/30000]\n",
      "current batch loss: 0.634810  [19200/30000]\n",
      "current batch loss: 0.577762  [25600/30000]\n",
      "-----------------------------------------------\n",
      "avg trn loss per batch: 0.580474\n",
      "-----------------------------------------------\n",
      "avg val loss per batch: 0.580014\n",
      "-----------------------------------------------\n",
      "|\n",
      "-----------------------------------------------\n",
      "Epoch 2\n",
      "-----------------------------------------------\n",
      "current batch loss: 0.577143  [    0/30000]\n",
      "current batch loss: 0.586362  [ 6400/30000]\n",
      "current batch loss: 0.536305  [12800/30000]\n",
      "current batch loss: 0.523053  [19200/30000]\n",
      "current batch loss: 0.479259  [25600/30000]\n",
      "-----------------------------------------------\n",
      "avg trn loss per batch: 0.508846\n",
      "-----------------------------------------------\n",
      "avg val loss per batch: 0.507725\n",
      "-----------------------------------------------\n",
      "|\n",
      "-----------------------------------------------\n",
      "Epoch 3\n",
      "-----------------------------------------------\n",
      "current batch loss: 0.475137  [    0/30000]\n",
      "current batch loss: 0.498484  [ 6400/30000]\n",
      "current batch loss: 0.520698  [12800/30000]\n",
      "current batch loss: 0.468436  [19200/30000]\n",
      "current batch loss: 0.438889  [25600/30000]\n",
      "-----------------------------------------------\n",
      "avg trn loss per batch: 0.461971\n",
      "-----------------------------------------------\n",
      "avg val loss per batch: 0.460850\n",
      "-----------------------------------------------\n",
      "|\n",
      "-----------------------------------------------\n",
      "Epoch 4\n",
      "-----------------------------------------------\n",
      "current batch loss: 0.454992  [    0/30000]\n",
      "current batch loss: 0.508426  [ 6400/30000]\n",
      "current batch loss: 0.427921  [12800/30000]\n",
      "current batch loss: 0.502904  [19200/30000]\n",
      "current batch loss: 0.435495  [25600/30000]\n",
      "-----------------------------------------------\n",
      "avg trn loss per batch: 0.430435\n",
      "-----------------------------------------------\n",
      "avg val loss per batch: 0.429105\n",
      "-----------------------------------------------\n",
      "|\n",
      "-----------------------------------------------\n",
      "Epoch 5\n",
      "-----------------------------------------------\n",
      "current batch loss: 0.439367  [    0/30000]\n",
      "current batch loss: 0.441485  [ 6400/30000]\n",
      "current batch loss: 0.379477  [12800/30000]\n",
      "current batch loss: 0.396214  [19200/30000]\n",
      "current batch loss: 0.488115  [25600/30000]\n",
      "-----------------------------------------------\n",
      "avg trn loss per batch: 0.408594\n",
      "-----------------------------------------------\n",
      "avg val loss per batch: 0.407187\n",
      "-----------------------------------------------\n",
      "|\n",
      "-----------------------------------------------\n",
      "Epoch 6\n",
      "-----------------------------------------------\n",
      "current batch loss: 0.424332  [    0/30000]\n",
      "current batch loss: 0.421743  [ 6400/30000]\n",
      "current batch loss: 0.401105  [12800/30000]\n",
      "current batch loss: 0.386007  [19200/30000]\n",
      "current batch loss: 0.370607  [25600/30000]\n",
      "-----------------------------------------------\n",
      "avg trn loss per batch: 0.393055\n",
      "-----------------------------------------------\n",
      "avg val loss per batch: 0.391777\n",
      "-----------------------------------------------\n",
      "|\n",
      "-----------------------------------------------\n",
      "Epoch 7\n",
      "-----------------------------------------------\n",
      "current batch loss: 0.440392  [    0/30000]\n",
      "current batch loss: 0.433327  [ 6400/30000]\n",
      "current batch loss: 0.356955  [12800/30000]\n",
      "current batch loss: 0.430123  [19200/30000]\n",
      "current batch loss: 0.287155  [25600/30000]\n",
      "-----------------------------------------------\n",
      "avg trn loss per batch: 0.381793\n",
      "-----------------------------------------------\n",
      "avg val loss per batch: 0.380641\n",
      "-----------------------------------------------\n",
      "|\n",
      "-----------------------------------------------\n",
      "Epoch 8\n",
      "-----------------------------------------------\n",
      "current batch loss: 0.327231  [    0/30000]\n",
      "current batch loss: 0.396989  [ 6400/30000]\n",
      "current batch loss: 0.396541  [12800/30000]\n",
      "current batch loss: 0.363274  [19200/30000]\n",
      "current batch loss: 0.317056  [25600/30000]\n",
      "-----------------------------------------------\n",
      "avg trn loss per batch: 0.373419\n",
      "-----------------------------------------------\n",
      "avg val loss per batch: 0.372345\n",
      "-----------------------------------------------\n",
      "|\n",
      "-----------------------------------------------\n",
      "Epoch 9\n",
      "-----------------------------------------------\n",
      "current batch loss: 0.359942  [    0/30000]\n",
      "current batch loss: 0.261191  [ 6400/30000]\n",
      "current batch loss: 0.281457  [12800/30000]\n",
      "current batch loss: 0.408467  [19200/30000]\n",
      "current batch loss: 0.344958  [25600/30000]\n",
      "-----------------------------------------------\n",
      "avg trn loss per batch: 0.366984\n",
      "-----------------------------------------------\n",
      "avg val loss per batch: 0.366234\n",
      "-----------------------------------------------\n",
      "|\n",
      "-----------------------------------------------\n",
      "Epoch 10\n",
      "-----------------------------------------------\n",
      "current batch loss: 0.401317  [    0/30000]\n",
      "current batch loss: 0.373006  [ 6400/30000]\n",
      "current batch loss: 0.335634  [12800/30000]\n",
      "current batch loss: 0.374721  [19200/30000]\n",
      "current batch loss: 0.253109  [25600/30000]\n",
      "-----------------------------------------------\n",
      "avg trn loss per batch: 0.362106\n",
      "-----------------------------------------------\n",
      "avg val loss per batch: 0.361535\n",
      "-----------------------------------------------\n",
      "|\n",
      "-----------------------------------------------\n",
      "Epoch 11\n",
      "-----------------------------------------------\n",
      "current batch loss: 0.370940  [    0/30000]\n",
      "current batch loss: 0.342877  [ 6400/30000]\n",
      "current batch loss: 0.395056  [12800/30000]\n",
      "current batch loss: 0.310973  [19200/30000]\n",
      "current batch loss: 0.379446  [25600/30000]\n",
      "-----------------------------------------------\n",
      "avg trn loss per batch: 0.358198\n",
      "-----------------------------------------------\n",
      "avg val loss per batch: 0.358014\n",
      "-----------------------------------------------\n",
      "|\n",
      "-----------------------------------------------\n",
      "Epoch 12\n",
      "-----------------------------------------------\n",
      "current batch loss: 0.348625  [    0/30000]\n",
      "current batch loss: 0.359794  [ 6400/30000]\n",
      "current batch loss: 0.302752  [12800/30000]\n",
      "current batch loss: 0.355077  [19200/30000]\n",
      "current batch loss: 0.413559  [25600/30000]\n",
      "-----------------------------------------------\n",
      "avg trn loss per batch: 0.355031\n",
      "-----------------------------------------------\n",
      "avg val loss per batch: 0.354846\n",
      "-----------------------------------------------\n",
      "|\n",
      "-----------------------------------------------\n",
      "Epoch 13\n",
      "-----------------------------------------------\n",
      "current batch loss: 0.479218  [    0/30000]\n",
      "current batch loss: 0.266426  [ 6400/30000]\n",
      "current batch loss: 0.288561  [12800/30000]\n",
      "current batch loss: 0.413728  [19200/30000]\n",
      "current batch loss: 0.395846  [25600/30000]\n",
      "-----------------------------------------------\n",
      "avg trn loss per batch: 0.352384\n",
      "-----------------------------------------------\n",
      "avg val loss per batch: 0.352328\n",
      "-----------------------------------------------\n",
      "|\n",
      "-----------------------------------------------\n",
      "Epoch 14\n",
      "-----------------------------------------------\n",
      "current batch loss: 0.367988  [    0/30000]\n",
      "current batch loss: 0.378130  [ 6400/30000]\n",
      "current batch loss: 0.348488  [12800/30000]\n",
      "current batch loss: 0.357140  [19200/30000]\n",
      "current batch loss: 0.352028  [25600/30000]\n",
      "-----------------------------------------------\n",
      "avg trn loss per batch: 0.350180\n",
      "-----------------------------------------------\n",
      "avg val loss per batch: 0.350591\n",
      "-----------------------------------------------\n",
      "|\n",
      "-----------------------------------------------\n",
      "Epoch 15\n",
      "-----------------------------------------------\n",
      "current batch loss: 0.270567  [    0/30000]\n",
      "current batch loss: 0.366578  [ 6400/30000]\n",
      "current batch loss: 0.348553  [12800/30000]\n",
      "current batch loss: 0.292770  [19200/30000]\n",
      "current batch loss: 0.405192  [25600/30000]\n",
      "-----------------------------------------------\n",
      "avg trn loss per batch: 0.348325\n",
      "-----------------------------------------------\n",
      "avg val loss per batch: 0.348813\n",
      "-----------------------------------------------\n",
      "|\n",
      "-----------------------------------------------\n",
      "Epoch 16\n",
      "-----------------------------------------------\n",
      "current batch loss: 0.403012  [    0/30000]\n",
      "current batch loss: 0.338875  [ 6400/30000]\n"
     ]
    },
    {
     "name": "stdout",
     "output_type": "stream",
     "text": [
      "current batch loss: 0.359884  [12800/30000]\n",
      "current batch loss: 0.240231  [19200/30000]\n",
      "current batch loss: 0.387258  [25600/30000]\n",
      "-----------------------------------------------\n",
      "avg trn loss per batch: 0.346696\n",
      "-----------------------------------------------\n",
      "avg val loss per batch: 0.347475\n",
      "-----------------------------------------------\n",
      "|\n",
      "-----------------------------------------------\n",
      "Epoch 17\n",
      "-----------------------------------------------\n",
      "current batch loss: 0.446387  [    0/30000]\n",
      "current batch loss: 0.270833  [ 6400/30000]\n",
      "current batch loss: 0.193101  [12800/30000]\n",
      "current batch loss: 0.333969  [19200/30000]\n",
      "current batch loss: 0.364099  [25600/30000]\n",
      "-----------------------------------------------\n",
      "avg trn loss per batch: 0.345264\n",
      "-----------------------------------------------\n",
      "avg val loss per batch: 0.346232\n",
      "-----------------------------------------------\n",
      "|\n",
      "-----------------------------------------------\n",
      "Epoch 18\n",
      "-----------------------------------------------\n",
      "current batch loss: 0.403643  [    0/30000]\n",
      "current batch loss: 0.503139  [ 6400/30000]\n",
      "current batch loss: 0.231527  [12800/30000]\n",
      "current batch loss: 0.408835  [19200/30000]\n",
      "current batch loss: 0.330589  [25600/30000]\n",
      "-----------------------------------------------\n",
      "avg trn loss per batch: 0.343941\n",
      "-----------------------------------------------\n",
      "avg val loss per batch: 0.345212\n",
      "-----------------------------------------------\n",
      "|\n",
      "-----------------------------------------------\n",
      "Epoch 19\n",
      "-----------------------------------------------\n",
      "current batch loss: 0.350717  [    0/30000]\n",
      "current batch loss: 0.253666  [ 6400/30000]\n",
      "current batch loss: 0.204749  [12800/30000]\n",
      "current batch loss: 0.340064  [19200/30000]\n",
      "current batch loss: 0.266900  [25600/30000]\n",
      "-----------------------------------------------\n",
      "avg trn loss per batch: 0.342786\n",
      "-----------------------------------------------\n",
      "avg val loss per batch: 0.344269\n",
      "-----------------------------------------------\n",
      "|\n",
      "-----------------------------------------------\n",
      "Epoch 20\n",
      "-----------------------------------------------\n",
      "current batch loss: 0.374784  [    0/30000]\n",
      "current batch loss: 0.351993  [ 6400/30000]\n",
      "current batch loss: 0.367487  [12800/30000]\n",
      "current batch loss: 0.312944  [19200/30000]\n",
      "current batch loss: 0.413003  [25600/30000]\n",
      "-----------------------------------------------\n",
      "avg trn loss per batch: 0.341818\n",
      "-----------------------------------------------\n",
      "avg val loss per batch: 0.343615\n",
      "-----------------------------------------------\n",
      "|\n",
      "-----------------------------------------------\n",
      "Epoch 21\n",
      "-----------------------------------------------\n",
      "current batch loss: 0.363181  [    0/30000]\n",
      "current batch loss: 0.230818  [ 6400/30000]\n",
      "current batch loss: 0.269949  [12800/30000]\n",
      "current batch loss: 0.355542  [19200/30000]\n",
      "current batch loss: 0.321614  [25600/30000]\n",
      "-----------------------------------------------\n",
      "avg trn loss per batch: 0.340804\n",
      "-----------------------------------------------\n",
      "avg val loss per batch: 0.342698\n",
      "-----------------------------------------------\n",
      "|\n",
      "-----------------------------------------------\n",
      "Epoch 22\n",
      "-----------------------------------------------\n",
      "current batch loss: 0.311246  [    0/30000]\n",
      "current batch loss: 0.357987  [ 6400/30000]\n",
      "current batch loss: 0.245773  [12800/30000]\n",
      "current batch loss: 0.335481  [19200/30000]\n",
      "current batch loss: 0.290733  [25600/30000]\n",
      "-----------------------------------------------\n",
      "avg trn loss per batch: 0.339856\n",
      "-----------------------------------------------\n",
      "avg val loss per batch: 0.342018\n",
      "-----------------------------------------------\n",
      "|\n",
      "-----------------------------------------------\n",
      "Epoch 23\n",
      "-----------------------------------------------\n",
      "current batch loss: 0.409824  [    0/30000]\n",
      "current batch loss: 0.314263  [ 6400/30000]\n",
      "current batch loss: 0.398738  [12800/30000]\n",
      "current batch loss: 0.371710  [19200/30000]\n",
      "current batch loss: 0.337953  [25600/30000]\n",
      "-----------------------------------------------\n",
      "avg trn loss per batch: 0.339029\n",
      "-----------------------------------------------\n",
      "avg val loss per batch: 0.341629\n",
      "-----------------------------------------------\n",
      "|\n",
      "-----------------------------------------------\n",
      "Epoch 24\n",
      "-----------------------------------------------\n",
      "current batch loss: 0.285962  [    0/30000]\n",
      "current batch loss: 0.341105  [ 6400/30000]\n",
      "current batch loss: 0.405412  [12800/30000]\n",
      "current batch loss: 0.331320  [19200/30000]\n",
      "current batch loss: 0.307366  [25600/30000]\n",
      "-----------------------------------------------\n",
      "avg trn loss per batch: 0.338235\n",
      "-----------------------------------------------\n",
      "avg val loss per batch: 0.341050\n",
      "-----------------------------------------------\n",
      "|\n",
      "-----------------------------------------------\n",
      "Epoch 25\n",
      "-----------------------------------------------\n",
      "current batch loss: 0.350060  [    0/30000]\n",
      "current batch loss: 0.241133  [ 6400/30000]\n",
      "current batch loss: 0.400928  [12800/30000]\n",
      "current batch loss: 0.294277  [19200/30000]\n",
      "current batch loss: 0.311071  [25600/30000]\n",
      "-----------------------------------------------\n",
      "avg trn loss per batch: 0.337473\n",
      "-----------------------------------------------\n",
      "avg val loss per batch: 0.340465\n",
      "-----------------------------------------------\n",
      "|\n",
      "-----------------------------------------------\n",
      "Epoch 26\n",
      "-----------------------------------------------\n",
      "current batch loss: 0.374545  [    0/30000]\n",
      "current batch loss: 0.255300  [ 6400/30000]\n",
      "current batch loss: 0.311416  [12800/30000]\n",
      "current batch loss: 0.278733  [19200/30000]\n",
      "current batch loss: 0.291111  [25600/30000]\n",
      "-----------------------------------------------\n",
      "avg trn loss per batch: 0.336756\n",
      "-----------------------------------------------\n",
      "avg val loss per batch: 0.340166\n",
      "-----------------------------------------------\n",
      "|\n",
      "-----------------------------------------------\n",
      "Epoch 27\n",
      "-----------------------------------------------\n",
      "current batch loss: 0.378406  [    0/30000]\n",
      "current batch loss: 0.404049  [ 6400/30000]\n",
      "current batch loss: 0.280226  [12800/30000]\n",
      "current batch loss: 0.413177  [19200/30000]\n",
      "current batch loss: 0.348715  [25600/30000]\n",
      "-----------------------------------------------\n",
      "avg trn loss per batch: 0.336032\n",
      "-----------------------------------------------\n",
      "avg val loss per batch: 0.339640\n",
      "-----------------------------------------------\n",
      "|\n",
      "-----------------------------------------------\n",
      "Epoch 28\n",
      "-----------------------------------------------\n",
      "current batch loss: 0.250442  [    0/30000]\n",
      "current batch loss: 0.233350  [ 6400/30000]\n",
      "current batch loss: 0.280817  [12800/30000]\n",
      "current batch loss: 0.329570  [19200/30000]\n",
      "current batch loss: 0.438524  [25600/30000]\n",
      "-----------------------------------------------\n",
      "avg trn loss per batch: 0.335459\n",
      "-----------------------------------------------\n",
      "avg val loss per batch: 0.339275\n",
      "-----------------------------------------------\n",
      "|\n",
      "-----------------------------------------------\n",
      "Epoch 29\n",
      "-----------------------------------------------\n",
      "current batch loss: 0.389746  [    0/30000]\n",
      "current batch loss: 0.317585  [ 6400/30000]\n",
      "current batch loss: 0.315060  [12800/30000]\n",
      "current batch loss: 0.244339  [19200/30000]\n",
      "current batch loss: 0.423586  [25600/30000]\n",
      "-----------------------------------------------\n",
      "avg trn loss per batch: 0.334853\n",
      "-----------------------------------------------\n",
      "avg val loss per batch: 0.338889\n",
      "-----------------------------------------------\n",
      "|\n",
      "-----------------------------------------------\n",
      "Epoch 30\n",
      "-----------------------------------------------\n",
      "current batch loss: 0.266142  [    0/30000]\n",
      "current batch loss: 0.422230  [ 6400/30000]\n",
      "current batch loss: 0.335501  [12800/30000]\n",
      "current batch loss: 0.381695  [19200/30000]\n",
      "current batch loss: 0.224469  [25600/30000]\n",
      "-----------------------------------------------\n",
      "avg trn loss per batch: 0.334244\n",
      "-----------------------------------------------\n",
      "avg val loss per batch: 0.338490\n",
      "-----------------------------------------------\n",
      "|\n",
      "-----------------------------------------------\n",
      "Epoch 31\n",
      "-----------------------------------------------\n",
      "current batch loss: 0.316032  [    0/30000]\n",
      "current batch loss: 0.209536  [ 6400/30000]\n",
      "current batch loss: 0.377659  [12800/30000]\n",
      "current batch loss: 0.290617  [19200/30000]\n",
      "current batch loss: 0.362337  [25600/30000]\n",
      "-----------------------------------------------\n"
     ]
    },
    {
     "name": "stdout",
     "output_type": "stream",
     "text": [
      "avg trn loss per batch: 0.333667\n",
      "-----------------------------------------------\n",
      "avg val loss per batch: 0.338280\n",
      "-----------------------------------------------\n",
      "|\n",
      "-----------------------------------------------\n",
      "Epoch 32\n",
      "-----------------------------------------------\n",
      "current batch loss: 0.387966  [    0/30000]\n",
      "current batch loss: 0.437692  [ 6400/30000]\n",
      "current batch loss: 0.253189  [12800/30000]\n",
      "current batch loss: 0.403831  [19200/30000]\n",
      "current batch loss: 0.409821  [25600/30000]\n",
      "-----------------------------------------------\n",
      "avg trn loss per batch: 0.333125\n",
      "-----------------------------------------------\n",
      "avg val loss per batch: 0.338044\n",
      "-----------------------------------------------\n",
      "|\n",
      "-----------------------------------------------\n",
      "Epoch 33\n",
      "-----------------------------------------------\n",
      "current batch loss: 0.283063  [    0/30000]\n",
      "current batch loss: 0.229793  [ 6400/30000]\n",
      "current batch loss: 0.303127  [12800/30000]\n",
      "current batch loss: 0.382762  [19200/30000]\n",
      "current batch loss: 0.262915  [25600/30000]\n",
      "-----------------------------------------------\n",
      "avg trn loss per batch: 0.332668\n",
      "-----------------------------------------------\n",
      "avg val loss per batch: 0.337611\n",
      "-----------------------------------------------\n",
      "|\n",
      "-----------------------------------------------\n",
      "Epoch 34\n",
      "-----------------------------------------------\n",
      "current batch loss: 0.285848  [    0/30000]\n",
      "current batch loss: 0.304517  [ 6400/30000]\n",
      "current batch loss: 0.414969  [12800/30000]\n",
      "current batch loss: 0.474801  [19200/30000]\n",
      "current batch loss: 0.376305  [25600/30000]\n",
      "-----------------------------------------------\n",
      "avg trn loss per batch: 0.332214\n",
      "-----------------------------------------------\n",
      "avg val loss per batch: 0.337560\n",
      "-----------------------------------------------\n",
      "|\n",
      "-----------------------------------------------\n",
      "Epoch 35\n",
      "-----------------------------------------------\n",
      "current batch loss: 0.363006  [    0/30000]\n",
      "current batch loss: 0.304513  [ 6400/30000]\n",
      "current batch loss: 0.364025  [12800/30000]\n",
      "current batch loss: 0.308497  [19200/30000]\n",
      "current batch loss: 0.341069  [25600/30000]\n",
      "-----------------------------------------------\n",
      "avg trn loss per batch: 0.331707\n",
      "-----------------------------------------------\n",
      "avg val loss per batch: 0.337078\n",
      "-----------------------------------------------\n",
      "|\n",
      "-----------------------------------------------\n",
      "Epoch 36\n",
      "-----------------------------------------------\n",
      "current batch loss: 0.286630  [    0/30000]\n",
      "current batch loss: 0.433164  [ 6400/30000]\n",
      "current batch loss: 0.293598  [12800/30000]\n",
      "current batch loss: 0.360600  [19200/30000]\n",
      "current batch loss: 0.457797  [25600/30000]\n",
      "-----------------------------------------------\n",
      "avg trn loss per batch: 0.331236\n",
      "-----------------------------------------------\n",
      "avg val loss per batch: 0.336933\n",
      "-----------------------------------------------\n",
      "|\n",
      "-----------------------------------------------\n",
      "Epoch 37\n",
      "-----------------------------------------------\n",
      "current batch loss: 0.285466  [    0/30000]\n",
      "current batch loss: 0.381854  [ 6400/30000]\n",
      "current batch loss: 0.323045  [12800/30000]\n",
      "current batch loss: 0.310508  [19200/30000]\n",
      "current batch loss: 0.391560  [25600/30000]\n",
      "-----------------------------------------------\n",
      "avg trn loss per batch: 0.330825\n",
      "-----------------------------------------------\n",
      "avg val loss per batch: 0.336823\n",
      "-----------------------------------------------\n",
      "|\n",
      "-----------------------------------------------\n",
      "Epoch 38\n",
      "-----------------------------------------------\n",
      "current batch loss: 0.290659  [    0/30000]\n",
      "current batch loss: 0.317957  [ 6400/30000]\n",
      "current batch loss: 0.213783  [12800/30000]\n",
      "current batch loss: 0.240265  [19200/30000]\n",
      "current batch loss: 0.211994  [25600/30000]\n",
      "-----------------------------------------------\n",
      "avg trn loss per batch: 0.330328\n",
      "-----------------------------------------------\n",
      "avg val loss per batch: 0.336238\n",
      "-----------------------------------------------\n",
      "|\n",
      "-----------------------------------------------\n",
      "Epoch 39\n",
      "-----------------------------------------------\n",
      "current batch loss: 0.341745  [    0/30000]\n",
      "current batch loss: 0.288213  [ 6400/30000]\n",
      "current batch loss: 0.414261  [12800/30000]\n",
      "current batch loss: 0.222041  [19200/30000]\n",
      "current batch loss: 0.319491  [25600/30000]\n",
      "-----------------------------------------------\n",
      "avg trn loss per batch: 0.329900\n",
      "-----------------------------------------------\n",
      "avg val loss per batch: 0.336267\n",
      "-----------------------------------------------\n",
      "|\n",
      "-----------------------------------------------\n",
      "Epoch 40\n",
      "-----------------------------------------------\n",
      "current batch loss: 0.319443  [    0/30000]\n",
      "current batch loss: 0.322182  [ 6400/30000]\n",
      "current batch loss: 0.299425  [12800/30000]\n",
      "current batch loss: 0.384012  [19200/30000]\n",
      "current batch loss: 0.291969  [25600/30000]\n",
      "-----------------------------------------------\n",
      "avg trn loss per batch: 0.329583\n",
      "-----------------------------------------------\n",
      "avg val loss per batch: 0.336160\n",
      "-----------------------------------------------\n",
      "|\n",
      "-----------------------------------------------\n",
      "Epoch 41\n",
      "-----------------------------------------------\n",
      "current batch loss: 0.392286  [    0/30000]\n",
      "current batch loss: 0.229925  [ 6400/30000]\n",
      "current batch loss: 0.362759  [12800/30000]\n",
      "current batch loss: 0.333419  [19200/30000]\n",
      "current batch loss: 0.273351  [25600/30000]\n",
      "-----------------------------------------------\n",
      "avg trn loss per batch: 0.329194\n",
      "-----------------------------------------------\n",
      "avg val loss per batch: 0.335846\n",
      "-----------------------------------------------\n",
      "|\n",
      "-----------------------------------------------\n",
      "Epoch 42\n",
      "-----------------------------------------------\n",
      "current batch loss: 0.331350  [    0/30000]\n",
      "current batch loss: 0.341287  [ 6400/30000]\n",
      "current batch loss: 0.351544  [12800/30000]\n",
      "current batch loss: 0.336237  [19200/30000]\n",
      "current batch loss: 0.331771  [25600/30000]\n",
      "-----------------------------------------------\n",
      "avg trn loss per batch: 0.328781\n",
      "-----------------------------------------------\n",
      "avg val loss per batch: 0.335917\n",
      "-----------------------------------------------\n",
      "|\n",
      "-----------------------------------------------\n",
      "Epoch 43\n",
      "-----------------------------------------------\n",
      "current batch loss: 0.321302  [    0/30000]\n",
      "current batch loss: 0.289248  [ 6400/30000]\n",
      "current batch loss: 0.301745  [12800/30000]\n",
      "current batch loss: 0.360537  [19200/30000]\n",
      "current batch loss: 0.252242  [25600/30000]\n",
      "-----------------------------------------------\n",
      "avg trn loss per batch: 0.328429\n",
      "-----------------------------------------------\n",
      "avg val loss per batch: 0.335425\n",
      "-----------------------------------------------\n",
      "|\n",
      "-----------------------------------------------\n",
      "Epoch 44\n",
      "-----------------------------------------------\n",
      "current batch loss: 0.380239  [    0/30000]\n",
      "current batch loss: 0.265365  [ 6400/30000]\n",
      "current batch loss: 0.225507  [12800/30000]\n",
      "current batch loss: 0.296031  [19200/30000]\n",
      "current batch loss: 0.407211  [25600/30000]\n",
      "-----------------------------------------------\n",
      "avg trn loss per batch: 0.328001\n",
      "-----------------------------------------------\n",
      "avg val loss per batch: 0.335291\n",
      "-----------------------------------------------\n",
      "|\n",
      "-----------------------------------------------\n",
      "Epoch 45\n",
      "-----------------------------------------------\n",
      "current batch loss: 0.288731  [    0/30000]\n",
      "current batch loss: 0.301025  [ 6400/30000]\n",
      "current batch loss: 0.374080  [12800/30000]\n",
      "current batch loss: 0.420967  [19200/30000]\n",
      "current batch loss: 0.288842  [25600/30000]\n",
      "-----------------------------------------------\n",
      "avg trn loss per batch: 0.327639\n",
      "-----------------------------------------------\n",
      "avg val loss per batch: 0.335257\n",
      "-----------------------------------------------\n",
      "|\n",
      "-----------------------------------------------\n",
      "Epoch 46\n",
      "-----------------------------------------------\n",
      "current batch loss: 0.343376  [    0/30000]\n",
      "current batch loss: 0.320661  [ 6400/30000]\n",
      "current batch loss: 0.283411  [12800/30000]\n",
      "current batch loss: 0.370065  [19200/30000]\n",
      "current batch loss: 0.266515  [25600/30000]\n",
      "-----------------------------------------------\n",
      "avg trn loss per batch: 0.327381\n",
      "-----------------------------------------------\n",
      "avg val loss per batch: 0.335288\n",
      "-----------------------------------------------\n",
      "|\n",
      "-----------------------------------------------\n",
      "Epoch 47\n",
      "-----------------------------------------------\n",
      "current batch loss: 0.296022  [    0/30000]\n",
      "current batch loss: 0.425522  [ 6400/30000]\n"
     ]
    },
    {
     "name": "stdout",
     "output_type": "stream",
     "text": [
      "current batch loss: 0.288686  [12800/30000]\n",
      "current batch loss: 0.338700  [19200/30000]\n",
      "current batch loss: 0.269714  [25600/30000]\n",
      "-----------------------------------------------\n",
      "avg trn loss per batch: 0.327043\n",
      "-----------------------------------------------\n",
      "avg val loss per batch: 0.335024\n",
      "-----------------------------------------------\n",
      "|\n",
      "-----------------------------------------------\n",
      "Epoch 48\n",
      "-----------------------------------------------\n",
      "current batch loss: 0.332966  [    0/30000]\n",
      "current batch loss: 0.338867  [ 6400/30000]\n",
      "current batch loss: 0.410062  [12800/30000]\n",
      "current batch loss: 0.375037  [19200/30000]\n",
      "current batch loss: 0.270178  [25600/30000]\n",
      "-----------------------------------------------\n",
      "avg trn loss per batch: 0.326688\n",
      "-----------------------------------------------\n",
      "avg val loss per batch: 0.334990\n",
      "-----------------------------------------------\n",
      "|\n",
      "-----------------------------------------------\n",
      "Epoch 49\n",
      "-----------------------------------------------\n",
      "current batch loss: 0.289543  [    0/30000]\n",
      "current batch loss: 0.325476  [ 6400/30000]\n",
      "current batch loss: 0.366948  [12800/30000]\n",
      "current batch loss: 0.289486  [19200/30000]\n",
      "current batch loss: 0.289261  [25600/30000]\n",
      "-----------------------------------------------\n",
      "avg trn loss per batch: 0.326412\n",
      "-----------------------------------------------\n",
      "avg val loss per batch: 0.334662\n",
      "-----------------------------------------------\n",
      "|\n",
      "-----------------------------------------------\n",
      "Epoch 50\n",
      "-----------------------------------------------\n",
      "current batch loss: 0.345608  [    0/30000]\n",
      "current batch loss: 0.292669  [ 6400/30000]\n",
      "current batch loss: 0.328589  [12800/30000]\n",
      "current batch loss: 0.524466  [19200/30000]\n",
      "current batch loss: 0.438748  [25600/30000]\n",
      "-----------------------------------------------\n",
      "avg trn loss per batch: 0.326064\n",
      "-----------------------------------------------\n",
      "avg val loss per batch: 0.334416\n",
      "-----------------------------------------------\n",
      "|\n",
      "Done!\n"
     ]
    }
   ],
   "source": [
    "epochs = 50\n",
    "loss_fn = nn.BCELoss()\n",
    "\n",
    "# re-initialise the model and the optimizer\n",
    "model = FullyConnected().to(device)\n",
    "learning_rate = 0.001\n",
    "optimizer = torch.optim.Adam( model.parameters(), lr=learning_rate )\n",
    "separator()\n",
    "print( \"model architecture \")\n",
    "separator()\n",
    "print( model )\n",
    "\n",
    "# track train and val losses\n",
    "trn_losses = []\n",
    "val_losses = []\n",
    "\n",
    "for t in range(epochs):\n",
    "    separator()\n",
    "    print( f\"Epoch {t+1}\" )\n",
    "    separator()\n",
    "    train_epoch( train_cnn_dataloader, model, loss_fn, optimizer )\n",
    "    separator()\n",
    "    trn_loss = trn_pass( train_cnn_dataloader, model, loss_fn )\n",
    "    trn_losses.append( trn_loss )\n",
    "    separator()\n",
    "    val_loss = val_pass( val_cnn_dataloader, model, loss_fn )\n",
    "    val_losses.append( val_loss )\n",
    "    separator()\n",
    "    print( \"|\" )\n",
    "    \n",
    "print(\"Done!\")"
   ]
  },
  {
   "cell_type": "code",
   "execution_count": 162,
   "metadata": {},
   "outputs": [
    {
     "data": {
      "image/png": "[encoded data removed]",
      "text/plain": [
       "<Figure size 504x360 with 1 Axes>"
      ]
     },
     "metadata": {
      "needs_background": "light"
     },
     "output_type": "display_data"
    }
   ],
   "source": [
    "fig, axs = plt.subplots( 1, 1, figsize=(7,5) )\n",
    "\n",
    "c1 = 'tab:red'\n",
    "c2 = 'tab:green'\n",
    "\n",
    "axs.plot( trn_losses, label=\"train loss\", color=c1 )\n",
    "axs.plot( val_losses, label=\"val   loss\", color=c2 )\n",
    "\n",
    "axs.set_yscale('log')\n",
    "\n",
    "axs.set_xlabel( \"epoch\", fontproperties=axislabelfont )\n",
    "axs.set_ylabel( \"Binary CE\", fontproperties=axislabelfont )\n",
    "\n",
    "xticks = [ int(x) for x in axs.get_xticks() ]\n",
    "axs.set_xticklabels( xticks, fontproperties=tickfont )\n",
    "\n",
    "yticks = axs.get_yticks()\n",
    "axs.set_yticklabels( yticks, fontproperties=tickfont )\n",
    "\n",
    "axs.legend( loc='best', prop=tickfont )\n",
    "\n",
    "fig.tight_layout()"
   ]
  },
  {
   "cell_type": "code",
   "execution_count": 163,
   "metadata": {},
   "outputs": [
    {
     "name": "stdout",
     "output_type": "stream",
     "text": [
      "avg trn loss per batch: 0.326076\n",
      "avg val loss per batch: 0.339978\n",
      "avg val loss per batch: 0.334433\n",
      "-----------------------------------------------\n",
      "Final evaluation of performance:\n",
      "MSE-loss on train dataset: 0.3260761338002138\n",
      "MSE-loss on validation dataset: 0.33997837830581135\n",
      "MSE-loss on test dataset: 0.33443318275627554\n",
      "-----------------------------------------------\n"
     ]
    }
   ],
   "source": [
    "trn_loss = trn_pass( train_cnn_dataloader, model, loss_fn )\n",
    "val_loss = val_pass( test_cnn_dataloader, model, loss_fn )\n",
    "test_loss = val_pass( val_cnn_dataloader, model, loss_fn )\n",
    "\n",
    "separator()\n",
    "print(\"Final evaluation of performance:\")\n",
    "print(\"MSE-loss on train dataset: {}\".format(trn_loss))\n",
    "print(\"MSE-loss on validation dataset: {}\".format(val_loss))\n",
    "print(\"MSE-loss on test dataset: {}\".format(test_loss))\n",
    "separator()"
   ]
  },
  {
   "cell_type": "code",
   "execution_count": 164,
   "metadata": {},
   "outputs": [],
   "source": [
    "samp_size = 10000\n",
    "\n",
    "train_pred = model(z_train[:samp_size]).detach()\n",
    "test_pred = model(z_test[:samp_size]).detach()\n",
    "val_pred = model(z_val[:samp_size]).detach()\n",
    "\n",
    "train_pred_lab = torch.round(train_pred[:samp_size])\n",
    "test_pred_lab = torch.round(test_pred[:samp_size])\n",
    "val_pred_lab = torch.round(val_pred[:samp_size])\n",
    "\n",
    "train_correct = (train_pred_lab==y_train[:samp_size]).sum().item()\n",
    "test_correct = (test_pred_lab==y_test[:samp_size]).sum().item()\n",
    "val_correct = (val_pred_lab==y_val[:samp_size]).sum().item()"
   ]
  },
  {
   "cell_type": "code",
   "execution_count": 165,
   "metadata": {},
   "outputs": [
    {
     "name": "stdout",
     "output_type": "stream",
     "text": [
      "-----------------------------------------------\n",
      "Evaluation of accuracy: \n",
      "Accuracy on training dataset: 86.1 %\n",
      "Accuracy on validation dataset: 85.8 %\n",
      "Accuracy on test dataset: 85.5 %\n",
      "-----------------------------------------------\n"
     ]
    }
   ],
   "source": [
    "separator()\n",
    "print('Evaluation of accuracy: ')\n",
    "print('Accuracy on training dataset: {:.1f} %'.format(train_correct*100/len(train_pred)))\n",
    "print('Accuracy on validation dataset: {:.1f} %'.format(val_correct*100/len(val_pred)))\n",
    "print('Accuracy on test dataset: {:.1f} %'.format(test_correct*100/len(test_pred)))\n",
    "separator()"
   ]
  },
  {
   "cell_type": "markdown",
   "metadata": {},
   "source": [
    "## Over-training?  Solutions?"
   ]
  },
  {
   "cell_type": "markdown",
   "metadata": {},
   "source": [
    "Did you mean over-fitting? \n",
    "\n",
    "Convolutions reduce over-fitting as we can see in the cnn vs fcn.  why? (weights sharing, invariance, less parameters)"
   ]
  },
  {
   "cell_type": "markdown",
   "metadata": {},
   "source": [
    "## How could we improve the results?"
   ]
  },
  {
   "cell_type": "markdown",
   "metadata": {},
   "source": [
    "with a larger model:\n",
    "- mora channels;\n",
    "- more convolutions;\n",
    "- smaller filters;\n",
    "\n",
    "with larger training dataset (at least 100000 imgs)\n",
    "\n",
    "... else?"
   ]
  },
  {
   "cell_type": "code",
   "execution_count": null,
   "metadata": {},
   "outputs": [],
   "source": []
  }
 ],
 "metadata": {
  "kernelspec": {
   "display_name": "Python 3",
   "language": "python",
   "name": "python3"
  },
  "language_info": {
   "codemirror_mode": {
    "name": "ipython",
    "version": 3
   },
   "file_extension": ".py",
   "mimetype": "text/x-python",
   "name": "python",
   "nbconvert_exporter": "python",
   "pygments_lexer": "ipython3",
   "version": "3.8.10"
  }
 },
 "nbformat": 4,
 "nbformat_minor": 4
}
