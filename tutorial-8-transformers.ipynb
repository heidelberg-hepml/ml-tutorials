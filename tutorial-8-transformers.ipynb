{
 "cells": [
  {
   "cell_type": "markdown",
   "metadata": {},
   "source": [
    "# Jet tagging with transformers"
   ]
  },
  {
   "cell_type": "markdown",
   "metadata": {},
   "source": [
    "This week we will build a transformer network for jet classification."
   ]
  },
  {
   "cell_type": "markdown",
   "metadata": {},
   "source": [
    "Some tips:\n",
    "- the preprocessing will be similar as done for the graph net\n",
    "- you should use the TransformerEncoder class in pytorch\n",
    "- the output from this will be permutation equivariant, so you will need to aggregate the output to make it permutation invariant\n",
    "- you should then feed the permutation invariant output to a dense net\n",
    "- do not use very many encoder layers or a larger model dimension, this will be very heavy to run\n",
    "- do some tests starting with small TransformerEncoders to find something suitable\n",
    "- getting the best performance is not the important thing here, we just want to understand the network\n",
    "- if you have questions/problems, check pytorch documentation and/or forums, or talk to each other\n",
    "- if there's still problems, we can discuss during the tutorial"
   ]
  },
  {
   "cell_type": "markdown",
   "metadata": {},
   "source": [
    "Some interesting papers:\n",
    "- Attention Is All You Need\n",
    "    - https://proceedings.neurips.cc/paper/2017/file/3f5ee243547dee91fbd053c1c4a845aa-Paper.pdf\n",
    "- Symmetries, Safety, and Self-Supervision\n",
    "    - https://arxiv.org/abs/2108.04253\n",
    "- Particle Transformer for Jet Tagging\n",
    "    - https://arxiv.org/abs/2202.03772"
   ]
  },
  {
   "cell_type": "markdown",
   "metadata": {},
   "source": [
    "Outline:\n",
    "- Imports and plotting set-up\n",
    "- Building the dataset\n",
    "    - Preprocessing\n",
    "    - Dataloaders\n",
    "- The self-attention mechanism\n",
    "- Jets and self-attention\n",
    "- The TransformerEncoder\n",
    "- Building a Transformer classifier\n",
    "- Optimising the Transformer classifier\n",
    "- Study the results"
   ]
  },
  {
   "cell_type": "markdown",
   "metadata": {},
   "source": [
    "### Imports"
   ]
  },
  {
   "cell_type": "code",
   "execution_count": 1,
   "metadata": {},
   "outputs": [],
   "source": [
    "import os\n",
    "import sys\n",
    "import random\n",
    "import time\n",
    "import numpy as np\n",
    "import torch\n",
    "from torch.utils.data import Dataset\n",
    "from torch.utils.data import DataLoader\n",
    "from torch import nn\n",
    "from torch.nn import functional as F\n",
    "from torch.nn import Sequential, Linear, ReLU"
   ]
  },
  {
   "cell_type": "markdown",
   "metadata": {},
   "source": [
    "#### Plotting set-up"
   ]
  },
  {
   "cell_type": "code",
   "execution_count": 2,
   "metadata": {},
   "outputs": [],
   "source": [
    "from matplotlib import pyplot as plt\n",
    "import matplotlib\n",
    "import warnings\n",
    "warnings.filterwarnings(\"ignore\")\n",
    "from matplotlib.lines import Line2D\n",
    "from matplotlib.font_manager import FontProperties\n",
    "import matplotlib.colors as mcolors\n",
    "import colorsys\n",
    "\n",
    "labelfont = FontProperties()\n",
    "labelfont.set_family('serif')\n",
    "labelfont.set_name('Times New Roman')\n",
    "labelfont.set_size(14)\n",
    "\n",
    "axislabelfont = FontProperties()\n",
    "axislabelfont.set_family('serif')\n",
    "axislabelfont.set_name('Times New Roman')\n",
    "axislabelfont.set_size(22)\n",
    "\n",
    "tickfont = FontProperties()\n",
    "tickfont.set_family('serif')\n",
    "tickfont.set_name('Times New Roman')\n",
    "tickfont.set_size(16)\n",
    "\n",
    "axisfontsize = 16\n",
    "labelfontsize = 16\n",
    "\n",
    "plt.rcParams[\"font.family\"] = \"Times New Roman\"\n",
    "plt.rcParams[\"mathtext.default\"] = \"rm\"\n",
    "plt.rcParams['text.usetex'] = True"
   ]
  },
  {
   "cell_type": "markdown",
   "metadata": {},
   "source": [
    "## Loading the data"
   ]
  },
  {
   "cell_type": "markdown",
   "metadata": {},
   "source": [
    "We'll be using the top-tagging data again, so let's just load what we saved out before."
   ]
  },
  {
   "cell_type": "code",
   "execution_count": 3,
   "metadata": {},
   "outputs": [],
   "source": [
    "X_train = np.load( \"data/toptagging-short/x_train_short.npy\")\n",
    "y_train = np.load( \"data/toptagging-short/y_train_short.npy\")\n",
    "X_test = np.load( \"data/toptagging-short/x_test_short.npy\")\n",
    "y_test = np.load( \"data/toptagging-short/y_test_short.npy\")\n",
    "X_val = np.load( \"data/toptagging-short/x_val_short.npy\")\n",
    "y_val = np.load( \"data/toptagging-short/y_val_short.npy\")"
   ]
  },
  {
   "cell_type": "markdown",
   "metadata": {},
   "source": [
    "## Building the dataset"
   ]
  },
  {
   "cell_type": "markdown",
   "metadata": {},
   "source": [
    "For each jet we'll keep the $50$ constituents with the highest $p_T$, with each constituent consisting of $(p_T,\\eta,\\phi)$.\n",
    "So each constituent in the jet has three features."
   ]
  },
  {
   "cell_type": "markdown",
   "metadata": {},
   "source": [
    "### Preprocessing"
   ]
  },
  {
   "cell_type": "markdown",
   "metadata": {},
   "source": [
    "We still need to preprocess the jets in much the same way as we did for the CNN study."
   ]
  },
  {
   "cell_type": "code",
   "execution_count": 4,
   "metadata": {},
   "outputs": [],
   "source": [
    "# Some initial settings\n",
    "__n_warning__ = 0.7\n",
    "n_shift_phi, n_shift_eta = 0, 0\n",
    "\n",
    "# Grid settings\n",
    "xpixels = np.arange(-2.6, 2.6, 0.029)\n",
    "ypixels = np.arange(-np.pi, np.pi, 0.035)\n",
    "\n",
    "# Calculate the pseudorapidity of pixel entries\n",
    "def eta (pT, pz):\n",
    "    small = 1e-10\n",
    "    small_pT = (np.abs(pT) < small)\n",
    "    small_pz = (np.abs(pz) < small)\n",
    "    not_small = ~(small_pT | small_pz)\n",
    "    theta = np.arctan(pT[not_small]/pz[not_small])\n",
    "    theta[theta < 0] += np.pi\n",
    "    etas = np.zeros_like(pT)\n",
    "    etas[small_pz] = 0\n",
    "    etas[small_pT] = 1e-10\n",
    "    etas[not_small] = np.log(np.tan(theta/2))\n",
    "    return etas\n",
    "\n",
    "# Calculate the azimuthal angle of pixel entries\n",
    "def phi (px, py):\n",
    "    \"\"\"\n",
    "    phis are returned in rad., np.arctan(0,0)=0 -> zero constituents set to -np.pi\n",
    "    \"\"\"\n",
    "    phis = np.arctan2(py,px)\n",
    "    phis[phis < 0] += 2*np.pi\n",
    "    phis[phis > 2*np.pi] -= 2*np.pi\n",
    "    phis = phis - np.pi \n",
    "    return phis\n",
    "\n",
    "# function to calculate masses\n",
    "def mass (E,px,py,pz):\n",
    "    mass = np.sqrt(np.maximum(0.,E**2-px**2-py**2-pz**2))\n",
    "    return mass\n",
    "\n",
    "# function to return the image momenta for centroid and principal axis\n",
    "def img_mom (x, y, weights, x_power, y_power):\n",
    "    return ((x**x_power)*(y**y_power)*weights).sum()\n",
    "\n",
    "# returns the jet image\n",
    "def orig_image (etas, phis, es):\n",
    "    \"\"\"\n",
    "    Gives the value on grid with minimal distance,\n",
    "    eg. for xpixel = (0,1,2,3,..) eta=1.3 -> xpixel=1, eta=1.6 ->xpixel=2\n",
    "    \"\"\"\n",
    "    z = np.zeros((etas.shape[0],len(xpixels),len(ypixels)))\n",
    "    in_grid = ~((etas < xpixels[0]) | (etas > xpixels[-1]) | (phis < ypixels[0]) | (phis > ypixels[-1]))\n",
    "    xcoords = np.argmin(np.abs(etas[:,None,:] - xpixels[None,:,None]),axis=1)\n",
    "    ycoords = np.argmin(np.abs(phis[:,None,:] - ypixels[None,:,None]),axis=1)\n",
    "    ncoords = np.repeat(np.arange(etas.shape[0])[:,None],etas.shape[1],axis=1)\n",
    "    z[ncoords[in_grid],ycoords[in_grid],xcoords[in_grid]] = es[in_grid]\n",
    "    return z\n",
    "\n",
    "# preprocess the jet\n",
    "def preprocessing( x ,y, weights, rotate=True, flip=True ):\n",
    "    \"\"\"\n",
    "    (x,y) are the coordinates and weights the corresponding values, shifts\n",
    "    centroid to origin, rotates image, so that principal axis is vertical,\n",
    "    flips image, so that most weights lay in (x<0, y>0)-plane.\n",
    "    Method for calculating principal axis (similar to tensor of inertia):\n",
    "    https://en.wikipedia.org/wiki/Image_moment\n",
    "    here: y=phi, phi has modulo 2*np.pi but it's not been taken care of hear,\n",
    "    so possible issues with calculating the centroid\n",
    "    -> pre-shifting of events outside of this function solves the problem\n",
    "    for iamge-data with Delta_phi < 2*np.pi\n",
    "    \"\"\"\n",
    "\n",
    "    # Shift\n",
    "    x_centroid = img_mom(x, y, weights, 1, 0) / weights.sum()\n",
    "    y_centroid = img_mom(x, y, weights, 0, 1)/ weights.sum()\n",
    "    x = x - x_centroid\n",
    "    y = y - y_centroid\n",
    "\n",
    "    # Check if shifting worked, there can be problems with modulo variables like phi (y)\n",
    "    # x and y are sorted after highest weight, 0-comp. gives hottest event\n",
    "    # for Jet-like Images Centroid should be close to hottest constituen (pT-sorted arrays)  \n",
    "    global n_shift_phi\n",
    "    global n_shift_eta\n",
    "    if np.abs(x[0]) > __n_warning__:\n",
    "        n_shift_eta += 1  \n",
    "    if np.abs(y[0]) > __n_warning__:\n",
    "        n_shift_phi += 1       \n",
    "\n",
    "    if rotate:\n",
    "        #Ccovariant matrix, eigenvectors corr. to principal axis\n",
    "        u11 = img_mom(x, y, weights, 1, 1) / weights.sum()\n",
    "        u20 = img_mom(x, y, weights, 2, 0) / weights.sum()\n",
    "        u02 = img_mom(x, y, weights, 0, 2) / weights.sum()\n",
    "        cov = np.array([[u20, u11], [u11, u02]])\n",
    "\n",
    "        # Eigenvalues and eigenvectors of covariant matrix\n",
    "        evals, evecs = np.linalg.eig(cov)\n",
    "\n",
    "        # Sorts the eigenvalues, v1, [::-1] turns array around, \n",
    "        sort_indices = np.argsort(evals)[::-1]\n",
    "        e_1 = evecs[:, sort_indices[0]]  # Eigenvector with largest eigenvalue\n",
    "        e_2 = evecs[:, sort_indices[1]]\n",
    "\n",
    "        # Theta to x_asix, arctan2 gives correct angle\n",
    "        theta = np.arctan2(e_1[0], e_1[1])\n",
    "  \n",
    "        # Rotation, so that princple axis is vertical\n",
    "        # anti-clockwise rotation matrix\n",
    "        rotation = np.matrix([[np.cos(theta), -np.sin(theta)], [np.sin(theta), np.cos(theta)]])\n",
    "        transformed_mat = rotation * np.stack([x,y])\n",
    "        x_rot, y_rot = transformed_mat.A\n",
    "    else: \n",
    "        x_rot, y_rot = x, y\n",
    "  \n",
    "    # Flipping\n",
    "    n_flips = 0\n",
    "    if flip:\n",
    "        if weights[x_rot<0.].sum() < weights[x_rot>0.].sum():\n",
    "            x_rot = -x_rot\n",
    "            n_flips  += 1\n",
    "        if weights[y_rot<0.].sum() > weights[y_rot>0.].sum():\n",
    "            y_rot = -y_rot\n",
    "            n_flips += 1\n",
    "            \n",
    "    return x_rot, y_rot"
   ]
  },
  {
   "cell_type": "code",
   "execution_count": 5,
   "metadata": {},
   "outputs": [],
   "source": [
    "# function to convert the jet to a particle cloud\n",
    "def constit_to_cloud( jets, n_constit, norm, rotate, flip ):\n",
    "    \n",
    "    print( \"Crop constituents\" )\n",
    "    jets = jets[:,0:n_constit,:]\n",
    "    \n",
    "    print( \"Calculating pT\" )\n",
    "    E     = jets[:,:,0]\n",
    "    pxs   = jets[:,:,1]\n",
    "    pys   = jets[:,:,2]\n",
    "    pzs   = jets[:,:,3]\n",
    "    pT    = np.sqrt( pxs**2+pys**2 )\n",
    "    \n",
    "    print( \"Calculating eta\" )\n",
    "    etas  = eta( pT, pzs )\n",
    "    \n",
    "    print( \"Calculating phi\" )\n",
    "    phis  = phi( pxs, pys )\n",
    "    \n",
    "    print( \"Calculating the mass\" )\n",
    "    E_tot = E.sum( axis=1 )\n",
    "    px_tot = pxs.sum( axis=1 )\n",
    "    py_tot = pys.sum( axis=1 )\n",
    "    pz_tot = pzs.sum( axis=1 )\n",
    "    j_mass = mass( E_tot, px_tot, py_tot, pz_tot )\n",
    "    \n",
    "    print( \"Pre-shifting the phis\" )\n",
    "    phis = ( phis.T - phis[:,0] ).T\n",
    "    phis[phis < -np.pi] += 2*np.pi\n",
    "    phis[phis > np.pi] -= 2*np.pi\n",
    "    \n",
    "    print( \"Using pT as weight\" )\n",
    "    weights = pT\n",
    "    \n",
    "    print( \"Preprocessing\" )\n",
    "    \n",
    "    for i in range( np.shape(etas)[0] ):\n",
    "        etas[i,:], phis[i,:] = preprocessing( etas[i,:], phis[i,:], weights[i,:], rotate, flip )\n",
    "    \n",
    "    cloud = np.stack( [ pT/np.mean(pT), etas, phis ], axis=2 )\n",
    "    \n",
    "    return cloud"
   ]
  },
  {
   "cell_type": "code",
   "execution_count": 6,
   "metadata": {
    "scrolled": false
   },
   "outputs": [
    {
     "name": "stdout",
     "output_type": "stream",
     "text": [
      "Crop constituents\n",
      "Calculating pT\n",
      "Calculating eta\n",
      "Calculating phi\n",
      "Calculating the mass\n",
      "Pre-shifting the phis\n",
      "Using pT as weight\n",
      "Preprocessing\n",
      "Crop constituents\n",
      "Calculating pT\n",
      "Calculating eta\n",
      "Calculating phi\n",
      "Calculating the mass\n",
      "Pre-shifting the phis\n",
      "Using pT as weight\n",
      "Preprocessing\n",
      "Crop constituents\n",
      "Calculating pT\n",
      "Calculating eta\n",
      "Calculating phi\n",
      "Calculating the mass\n",
      "Pre-shifting the phis\n",
      "Using pT as weight\n",
      "Preprocessing\n"
     ]
    }
   ],
   "source": [
    "z_train = constit_to_cloud( X_train, 50, True, True, True )\n",
    "z_val = constit_to_cloud( X_val, 50, True, True, True )\n",
    "z_test = constit_to_cloud( X_test, 50, True, True, True )"
   ]
  },
  {
   "cell_type": "code",
   "execution_count": 7,
   "metadata": {},
   "outputs": [
    {
     "name": "stdout",
     "output_type": "stream",
     "text": [
      "Train data shape: (30000, 50, 3)\n",
      "Val data shape: (30000, 50, 3)\n",
      "Test data shape: (30000, 50, 3)\n"
     ]
    }
   ],
   "source": [
    "print( \"Train data shape: \" + str(z_train.shape) )\n",
    "print( \"Val data shape: \" + str(z_val.shape) )\n",
    "print( \"Test data shape: \" + str(z_test.shape) )"
   ]
  },
  {
   "cell_type": "code",
   "execution_count": 8,
   "metadata": {},
   "outputs": [],
   "source": [
    "z_train_p = torch.Tensor( z_train )\n",
    "z_val_p = torch.Tensor( z_val )\n",
    "z_test_p = torch.Tensor( z_test )\n",
    "y_train_p = torch.Tensor( y_train )\n",
    "y_val_p = torch.Tensor( y_val )\n",
    "y_test_p = torch.Tensor( y_test )"
   ]
  },
  {
   "cell_type": "markdown",
   "metadata": {},
   "source": [
    "### Dataloaders"
   ]
  },
  {
   "cell_type": "code",
   "execution_count": 9,
   "metadata": {},
   "outputs": [],
   "source": [
    "class topcloud_dataset( Dataset ):\n",
    "    \n",
    "    def __init__( self, data, labels ):\n",
    "        self.data = data\n",
    "        self.labels = labels\n",
    "\n",
    "    def __len__(self):\n",
    "        return len(self.labels)\n",
    "\n",
    "    def __getitem__(self, idx):\n",
    "        return self.data[idx], self.labels[idx]"
   ]
  },
  {
   "cell_type": "code",
   "execution_count": 10,
   "metadata": {},
   "outputs": [],
   "source": [
    "trn_dataset = topcloud_dataset( z_train_p, y_train_p.unsqueeze(-1) )\n",
    "val_dataset = topcloud_dataset( z_val_p, y_val_p.unsqueeze(-1) )\n",
    "tst_dataset = topcloud_dataset( z_test_p, y_test_p.unsqueeze(-1) )"
   ]
  },
  {
   "cell_type": "code",
   "execution_count": 11,
   "metadata": {},
   "outputs": [],
   "source": [
    "trn_dataloader = DataLoader( trn_dataset, batch_size=64, shuffle=True )\n",
    "val_dataloader = DataLoader( val_dataset, batch_size=64, shuffle=True )\n",
    "tst_dataloader = DataLoader( tst_dataset, batch_size=64, shuffle=True )"
   ]
  },
  {
   "cell_type": "markdown",
   "metadata": {},
   "source": [
    "## The self-attention mechanism"
   ]
  },
  {
   "cell_type": "markdown",
   "metadata": {},
   "source": [
    "The self-attention mechanism takes $N$ input vectors and outputs $N$ vectors.  The output is permutation equivariant, i.e. there is a one-to-one map from each input vector to a single output vector, and if we were to change the ordering of the input vectors, the ordering of the output vectors would change in the same way.  The output vectors aim to provide a better representation of the input data by taking into account interactions between vectors in the input.  The dimension of the input and output vectors are in general different also."
   ]
  },
  {
   "cell_type": "markdown",
   "metadata": {},
   "source": [
    "In the 'Attention Is All You Need' paper they describe attention as:\n",
    "\n",
    "\"An attention function can be described as mapping a query and a set of key-value pairs to an output,\n",
    "where the query, keys, values, and output are all vectors. The output is computed as a weighted sum\n",
    "of the values, where the weight assigned to each value is computed by a compatibility function of the\n",
    "query with the corresponding key.\""
   ]
  },
  {
   "cell_type": "markdown",
   "metadata": {},
   "source": [
    "### Scaled dot-product attention"
   ]
  },
  {
   "cell_type": "markdown",
   "metadata": {},
   "source": [
    "There are many forms of attention, we use the scaled dot-product attention, defined as:\n",
    "\n",
    "$\n",
    "\\text{Attention}(Q,K,V) = \\text{softmax}\\left(\\frac{QK^T}{\\sqrt{d_k}}\\right)V\n",
    "$\n",
    "\n",
    "where $Q$, $K$, and $V$ are the query, key, and value vectors.\n",
    "The query and key vectors have dimension $d_k$ and the value vectors have dimension $d_v$."
   ]
  },
  {
   "cell_type": "markdown",
   "metadata": {},
   "source": [
    "The self-attention mechanism is built using three matrices:\n",
    "- Query matrix\n",
    "- Key matrix\n",
    "- Value matrix\n",
    "\n",
    "They all have dimension ``input_dim`` x ``embed_dim``.\n",
    "In the transformer the parameters of these matrices are learned through back-propagation."
   ]
  },
  {
   "cell_type": "markdown",
   "metadata": {},
   "source": [
    "### Multi-headed self-attention"
   ]
  },
  {
   "cell_type": "markdown",
   "metadata": {},
   "source": [
    "The self-attention mechanism we just described has a single head, i.e. one set of query/key/value matrices to project from the input to the output.  Multi-headed self-attention does the same projection but with multiple sets of query/key/value matrices.  Let's say the embedding dimension we want is 20, and we choose 4 heads.  This means we will have 4 attention-mechanisms, each projecting the input data to a 5 dimensional output.  These outputs are then appended together to produce the 20 dimensional embedding.  When using multi-headed self-attention we need to ensure that the embedding dimension is exactly divisible by the number of heads."
   ]
  },
  {
   "cell_type": "markdown",
   "metadata": {},
   "source": [
    "## Jets and self-attention"
   ]
  },
  {
   "cell_type": "markdown",
   "metadata": {},
   "source": [
    "Jets will have a data dimension of ``noc``x$3$, where ``noc`` is just the number of constituents.  So let's say $50$x$3$ if we restrict to the 50 hardest constituents.\n",
    "\n",
    "This means that the input dimension is $3$."
   ]
  },
  {
   "cell_type": "markdown",
   "metadata": {},
   "source": [
    "### An example"
   ]
  },
  {
   "cell_type": "markdown",
   "metadata": {},
   "source": [
    "Let's create a fake jet with 10 constituents."
   ]
  },
  {
   "cell_type": "code",
   "execution_count": 25,
   "metadata": {},
   "outputs": [],
   "source": [
    "jet = torch.rand( (10,3) )"
   ]
  },
  {
   "cell_type": "code",
   "execution_count": 336,
   "metadata": {},
   "outputs": [
    {
     "data": {
      "text/plain": [
       "tensor([[0.8299, 0.0349, 0.8124],\n",
       "        [0.9867, 0.4401, 0.8742],\n",
       "        [0.8911, 0.4684, 0.1993],\n",
       "        [0.2100, 0.1716, 0.0045],\n",
       "        [0.5461, 0.8853, 0.8914],\n",
       "        [0.3362, 0.2971, 0.1099],\n",
       "        [0.3754, 0.3450, 0.5542],\n",
       "        [0.5595, 0.5792, 0.0952],\n",
       "        [0.4977, 0.1773, 0.2465],\n",
       "        [0.5894, 0.4989, 0.0365]])"
      ]
     },
     "execution_count": 336,
     "metadata": {},
     "output_type": "execute_result"
    }
   ],
   "source": [
    "jet"
   ]
  },
  {
   "cell_type": "markdown",
   "metadata": {},
   "source": [
    "The input dim is obviously 3, and we can define the embed_dim to be whatever we like."
   ]
  },
  {
   "cell_type": "code",
   "execution_count": 337,
   "metadata": {},
   "outputs": [],
   "source": [
    "input_dim = 3\n",
    "embed_dim = 5"
   ]
  },
  {
   "cell_type": "markdown",
   "metadata": {},
   "source": [
    "In practice the query, key, and value matrices consist of learnable parameters that are optimised during training.  But to demonstrate the self-attention mechanism here we will just initialise them randomly."
   ]
  },
  {
   "cell_type": "code",
   "execution_count": 338,
   "metadata": {},
   "outputs": [],
   "source": [
    "w_query = torch.rand( ( input_dim, embed_dim ) )\n",
    "w_key = torch.rand( ( input_dim, embed_dim ) )\n",
    "w_value = torch.rand( ( input_dim, embed_dim ) )"
   ]
  },
  {
   "cell_type": "markdown",
   "metadata": {},
   "source": [
    "From these matrices we then contruct the queries, keys, and values."
   ]
  },
  {
   "cell_type": "code",
   "execution_count": 339,
   "metadata": {},
   "outputs": [],
   "source": [
    "queries = torch.matmul( jet, w_query )\n",
    "keys = torch.matmul( jet, w_key )\n",
    "values = torch.matmul( jet, w_value )"
   ]
  },
  {
   "cell_type": "markdown",
   "metadata": {},
   "source": [
    "And check it has the correct shape."
   ]
  },
  {
   "cell_type": "code",
   "execution_count": 340,
   "metadata": {},
   "outputs": [
    {
     "data": {
      "text/plain": [
       "torch.Size([10, 5])"
      ]
     },
     "execution_count": 340,
     "metadata": {},
     "output_type": "execute_result"
    }
   ],
   "source": [
    "queries.shape"
   ]
  },
  {
   "cell_type": "markdown",
   "metadata": {},
   "source": [
    "We need the length of the queries vector for the computation, so we save it below."
   ]
  },
  {
   "cell_type": "code",
   "execution_count": 341,
   "metadata": {},
   "outputs": [],
   "source": [
    "dk = torch.Tensor( [queries.shape[1]] )"
   ]
  },
  {
   "cell_type": "markdown",
   "metadata": {},
   "source": [
    "We then compute the query-key matrix multiplication."
   ]
  },
  {
   "cell_type": "code",
   "execution_count": 342,
   "metadata": {},
   "outputs": [],
   "source": [
    "qkt = torch.matmul( queries, keys.t() )"
   ]
  },
  {
   "cell_type": "code",
   "execution_count": 343,
   "metadata": {},
   "outputs": [
    {
     "data": {
      "text/plain": [
       "torch.Size([10, 10])"
      ]
     },
     "execution_count": 343,
     "metadata": {},
     "output_type": "execute_result"
    }
   ],
   "source": [
    "qkt.shape"
   ]
  },
  {
   "cell_type": "markdown",
   "metadata": {},
   "source": [
    "The attention weights are just the softmax over this matrix, divided by the square root of the query dimension."
   ]
  },
  {
   "cell_type": "code",
   "execution_count": 344,
   "metadata": {},
   "outputs": [],
   "source": [
    "attn = torch.softmax( torch.div( qkt, torch.sqrt(dk) ), dim=-1 )"
   ]
  },
  {
   "cell_type": "markdown",
   "metadata": {},
   "source": [
    "The shape here is 10 by 10, which makes sense because this matrix tells us how much attention each input pays to every other input.  Since we have 10 inputs this should make it 10 by 10."
   ]
  },
  {
   "cell_type": "code",
   "execution_count": 345,
   "metadata": {},
   "outputs": [
    {
     "data": {
      "text/plain": [
       "torch.Size([10, 10])"
      ]
     },
     "execution_count": 345,
     "metadata": {},
     "output_type": "execute_result"
    }
   ],
   "source": [
    "attn.shape"
   ]
  },
  {
   "cell_type": "markdown",
   "metadata": {},
   "source": [
    "The output of the self-attention mechanism is then just the attention matrix multiplied by the values."
   ]
  },
  {
   "cell_type": "code",
   "execution_count": 352,
   "metadata": {},
   "outputs": [],
   "source": [
    "out = torch.matmul( attn, values )"
   ]
  },
  {
   "cell_type": "code",
   "execution_count": 353,
   "metadata": {},
   "outputs": [
    {
     "data": {
      "text/plain": [
       "tensor([[1.0485, 0.7042, 0.8840, 0.8069, 1.0408],\n",
       "        [1.1261, 0.7454, 0.9307, 0.8729, 1.1141],\n",
       "        [1.0703, 0.7153, 0.8949, 0.8275, 1.0621],\n",
       "        [0.9341, 0.6419, 0.8117, 0.7115, 0.9328],\n",
       "        [1.1415, 0.7525, 0.9410, 0.8824, 1.1261],\n",
       "        [0.9758, 0.6643, 0.8379, 0.7459, 0.9718],\n",
       "        [1.0230, 0.6897, 0.8686, 0.7836, 1.0154],\n",
       "        [1.0417, 0.6994, 0.8779, 0.8017, 1.0340],\n",
       "        [0.9873, 0.6707, 0.8452, 0.7559, 0.9830],\n",
       "        [1.0287, 0.6925, 0.8697, 0.7912, 1.0220]])"
      ]
     },
     "execution_count": 353,
     "metadata": {},
     "output_type": "execute_result"
    }
   ],
   "source": [
    "out"
   ]
  },
  {
   "cell_type": "code",
   "execution_count": 354,
   "metadata": {},
   "outputs": [
    {
     "data": {
      "text/plain": [
       "torch.Size([10, 5])"
      ]
     },
     "execution_count": 354,
     "metadata": {},
     "output_type": "execute_result"
    }
   ],
   "source": [
    "out.shape"
   ]
  },
  {
   "cell_type": "markdown",
   "metadata": {},
   "source": [
    "This shape makes sense.  We started with a 10 by 3 input, projecting the input dimension to the embedding dimension."
   ]
  },
  {
   "cell_type": "markdown",
   "metadata": {},
   "source": [
    "This output is also permutation equivariant, i.e. if we change the ordering of the inputs (the constituents in the jet) then the same change will be reflected in the output.\n",
    "\n",
    "To obtain a permutation invariant output we would simply need to sum over dimension zero here."
   ]
  },
  {
   "cell_type": "code",
   "execution_count": 350,
   "metadata": {},
   "outputs": [],
   "source": [
    "inv_out = torch.sum( out, dim=0 )"
   ]
  },
  {
   "cell_type": "code",
   "execution_count": 351,
   "metadata": {},
   "outputs": [
    {
     "data": {
      "text/plain": [
       "torch.Size([5])"
      ]
     },
     "execution_count": 351,
     "metadata": {},
     "output_type": "execute_result"
    }
   ],
   "source": [
    "inv_out.shape"
   ]
  },
  {
   "cell_type": "markdown",
   "metadata": {},
   "source": [
    "## The transformer encoder"
   ]
  },
  {
   "cell_type": "markdown",
   "metadata": {},
   "source": [
    "The first layer of a transformer encoder is the embedding layer, it is simply a linear projection of each input to a vector of length ``d_model``.\n",
    "So if we have a jet with 50 constituents and $(p_t,\\eta,\\phi)$ values for each constituent, the embedding layer would project each constituent separately to a vector of length ``d_model``, so that the output of this layer has dimensions 50 by ``d_model``.\n",
    "Note that it is the same linear neural network applied to each constituent in the jet."
   ]
  },
  {
   "cell_type": "markdown",
   "metadata": {},
   "source": [
    "After the embedding the data is passed through a TransformerEncoderLayer, defined in the torch.nn module."
   ]
  },
  {
   "cell_type": "code",
   "execution_count": 355,
   "metadata": {},
   "outputs": [],
   "source": [
    "from torch.nn import TransformerEncoderLayer as TEL"
   ]
  },
  {
   "cell_type": "markdown",
   "metadata": {},
   "source": [
    "The documentation tells us:"
   ]
  },
  {
   "cell_type": "markdown",
   "metadata": {},
   "source": [
    "TransformerEncoderLayer is made up of self-attn and feedforward network. This standard encoder layer is based on the paper “Attention Is All You Need”. Ashish Vaswani, Noam Shazeer, Niki Parmar, Jakob Uszkoreit, Llion Jones, Aidan N Gomez, Lukasz Kaiser, and Illia Polosukhin. 2017. Attention is all you need. In Advances in Neural Information Processing Systems, pages 6000-6010. Users may modify or implement in a different way during application."
   ]
  },
  {
   "cell_type": "markdown",
   "metadata": {},
   "source": [
    "This is kind of vague, but after looking at the code we see that there is a multi-headed self-attention layer followed by a dense neural network.  \n",
    "The dense neural network acts individually on each constituent in the jet and has three layers with dimensions ``(d_model, dim_feedforward, d_model)``.\n",
    "Note also that the TransformerEncoder assumes that the input dimension is the same as the embedding dimension, we'll deal with this later using an embedding layer."
   ]
  },
  {
   "cell_type": "markdown",
   "metadata": {},
   "source": [
    "The parameters we need to initialise a layer are as follows:"
   ]
  },
  {
   "cell_type": "markdown",
   "metadata": {},
   "source": [
    "- d_model – the number of expected features in the input (required).\n",
    "\n",
    "- nhead – the number of heads in the multiheadattention models (required).\n",
    "\n",
    "- dim_feedforward – the dimension of the feedforward network model (default=2048).\n",
    "\n",
    "- dropout – the dropout value (default=0.1).\n",
    "\n",
    "- activation – the activation function of the intermediate layer, can be a string (“relu” or “gelu”) or a unary callable. Default: relu\n",
    "\n",
    "- layer_norm_eps – the eps value in layer normalization components (default=1e-5).\n",
    "\n",
    "- batch_first – If True, then the input and output tensors are provided as (batch, seq, feature). Default: False (seq, batch, feature).\n",
    "\n",
    "- norm_first – if True, layer norm is done prior to attention and feedforward operations, respectivaly. Otherwise it’s done after. Default: False (after)."
   ]
  },
  {
   "cell_type": "markdown",
   "metadata": {},
   "source": [
    "Let's test it:"
   ]
  },
  {
   "cell_type": "code",
   "execution_count": 482,
   "metadata": {},
   "outputs": [],
   "source": [
    "encoder_layer = TEL( d_model=120, nhead=4, batch_first=True, dropout=0.0 )\n",
    "src = torch.rand( 10, 50, 120 )\n",
    "out = encoder_layer( src )"
   ]
  },
  {
   "cell_type": "markdown",
   "metadata": {},
   "source": [
    "This means we have a batch of 10 jets with 50 constituents each and 120 features per jet."
   ]
  },
  {
   "cell_type": "code",
   "execution_count": 483,
   "metadata": {},
   "outputs": [
    {
     "data": {
      "text/plain": [
       "torch.Size([10, 50, 120])"
      ]
     },
     "execution_count": 483,
     "metadata": {},
     "output_type": "execute_result"
    }
   ],
   "source": [
    "out.shape"
   ]
  },
  {
   "cell_type": "markdown",
   "metadata": {},
   "source": [
    "We can check the permutation equivariance of the output by permuting the constituents in the input and checking the output."
   ]
  },
  {
   "cell_type": "markdown",
   "metadata": {},
   "source": [
    "Permuting the input:"
   ]
  },
  {
   "cell_type": "code",
   "execution_count": 499,
   "metadata": {},
   "outputs": [],
   "source": [
    "src1 = src.detach().clone()"
   ]
  },
  {
   "cell_type": "code",
   "execution_count": 485,
   "metadata": {},
   "outputs": [],
   "source": [
    "src1[:,0] = src[:,1].detach().clone()\n",
    "src1[:,1] = src[:,0].detach().clone()"
   ]
  },
  {
   "cell_type": "markdown",
   "metadata": {},
   "source": [
    "Getting the output and permuting it:"
   ]
  },
  {
   "cell_type": "code",
   "execution_count": 486,
   "metadata": {},
   "outputs": [],
   "source": [
    "out1 = encoder_layer( src1 )"
   ]
  },
  {
   "cell_type": "code",
   "execution_count": 487,
   "metadata": {},
   "outputs": [],
   "source": [
    "out1_perm = out1.detach().clone()\n",
    "\n",
    "out1_perm[:,0] = out1[:,1].detach().clone()\n",
    "out1_perm[:,1] = out1[:,0].detach().clone()"
   ]
  },
  {
   "cell_type": "markdown",
   "metadata": {},
   "source": [
    "There are tiny differences in precision which make a True/False comparison fail.  So instead I'll just check the sum over the absolute difference of the outputs vs the sum over the absolute values in the outputs."
   ]
  },
  {
   "cell_type": "code",
   "execution_count": 498,
   "metadata": {},
   "outputs": [
    {
     "name": "stdout",
     "output_type": "stream",
     "text": [
      "sum over abs output: 49561.445\n",
      "sum over abs permuted output: 49561.445\n",
      "sum over abs diffs: 0.002894374\n"
     ]
    }
   ],
   "source": [
    "print( \"sum over abs output: \" + str( ( out.abs() ).sum().detach().numpy() ) )\n",
    "print( \"sum over abs permuted output: \" + str( ( out1_perm.abs() ).sum().detach().numpy() ) )\n",
    "print( \"sum over abs diffs: \" + str( ( out1_perm  - out ).abs().sum().detach().numpy() ) )"
   ]
  },
  {
   "cell_type": "markdown",
   "metadata": {},
   "source": [
    "Clearly we have permutation equivariance."
   ]
  },
  {
   "cell_type": "markdown",
   "metadata": {},
   "source": [
    "## Building a transformer classifier"
   ]
  },
  {
   "cell_type": "code",
   "execution_count": 588,
   "metadata": {},
   "outputs": [],
   "source": [
    "class JetTransformer( torch.nn.Module ):\n",
    "    \n",
    "    def __init__( self, input_dim, embed_dim, num_heads ):\n",
    "        super( JetTransformer, self ).__init__()\n",
    "        \n",
    "        self.lin_embed = nn.Linear( input_dim, embed_dim )\n",
    "        \n",
    "        self.transformer_layer_1 = TEL( d_model=embed_dim, nhead=num_heads, \n",
    "                                     batch_first=True, dropout=0.0, dim_feedforward=embed_dim )\n",
    "        \n",
    "        self.transformer_layer_2 = TEL( d_model=embed_dim, nhead=num_heads, \n",
    "                                     batch_first=True, dropout=0.0, dim_feedforward=embed_dim )\n",
    "        \n",
    "        self.head_network = nn.Sequential( \n",
    "                                        nn.Linear( embed_dim, embed_dim ),\n",
    "                                        nn.ReLU(),\n",
    "                                        nn.Linear( embed_dim, 1 )\n",
    "                                        )\n",
    "        \n",
    "    def forward( self, batch ):\n",
    "\n",
    "        x = self.lin_embed( batch )\n",
    "        x = self.transformer_layer_1( x )\n",
    "        x = self.transformer_layer_2( x )\n",
    "        x = x.sum( dim=1 )\n",
    "        x = self.head_network( x )\n",
    "\n",
    "        return F.sigmoid( x )"
   ]
  },
  {
   "cell_type": "markdown",
   "metadata": {},
   "source": [
    "Let's test it:"
   ]
  },
  {
   "cell_type": "code",
   "execution_count": 528,
   "metadata": {},
   "outputs": [],
   "source": [
    "JT = JetTransformer( 3, 12, 3 )"
   ]
  },
  {
   "cell_type": "markdown",
   "metadata": {},
   "source": [
    "This means we embed each constituent to a vector of length 12, and pass this through a self-attention machanism with 3 heads."
   ]
  },
  {
   "cell_type": "markdown",
   "metadata": {},
   "source": [
    "Now we test it with a batch of 10 fake jets, each containing 50 constituents."
   ]
  },
  {
   "cell_type": "code",
   "execution_count": 529,
   "metadata": {},
   "outputs": [],
   "source": [
    "jets = torch.rand( ( 10, 50, 3 ) )"
   ]
  },
  {
   "cell_type": "markdown",
   "metadata": {},
   "source": [
    "And we forward pass as follows:"
   ]
  },
  {
   "cell_type": "code",
   "execution_count": 530,
   "metadata": {},
   "outputs": [
    {
     "data": {
      "text/plain": [
       "tensor([[0.5043],\n",
       "        [0.3438],\n",
       "        [0.7282],\n",
       "        [0.5423],\n",
       "        [0.6439],\n",
       "        [0.9587],\n",
       "        [0.2621],\n",
       "        [0.7867],\n",
       "        [0.4269],\n",
       "        [0.9476]], grad_fn=<SigmoidBackward0>)"
      ]
     },
     "execution_count": 530,
     "metadata": {},
     "output_type": "execute_result"
    }
   ],
   "source": [
    "JT( jets )"
   ]
  },
  {
   "cell_type": "markdown",
   "metadata": {},
   "source": [
    "This makes sense, since we get one classification score per jet."
   ]
  },
  {
   "cell_type": "markdown",
   "metadata": {},
   "source": [
    "## Optimising the transformer classifier"
   ]
  },
  {
   "cell_type": "markdown",
   "metadata": {},
   "source": [
    "Here we use the same functions we used before."
   ]
  },
  {
   "cell_type": "code",
   "execution_count": 531,
   "metadata": {},
   "outputs": [],
   "source": [
    "loss_fn = nn.BCELoss()"
   ]
  },
  {
   "cell_type": "code",
   "execution_count": 532,
   "metadata": {},
   "outputs": [],
   "source": [
    "def train_epoch( dataloader, model, loss_fn, optimizer ):\n",
    "    \n",
    "    size = len( dataloader.dataset )\n",
    "    \n",
    "    for batch, (X, y) in enumerate(dataloader):\n",
    "\n",
    "        # pass data through network\n",
    "        pred = model(X)\n",
    "        \n",
    "        # compute loss\n",
    "        loss = loss_fn( pred, y )\n",
    "\n",
    "        # reset gradients in optimizer\n",
    "        optimizer.zero_grad()\n",
    "        \n",
    "        # compute gradients\n",
    "        loss.backward()\n",
    "        \n",
    "        # update weights with optimizer\n",
    "        optimizer.step()\n",
    "        \n",
    "        # print the training loss every 100 updates\n",
    "        if batch % 100 == 0:\n",
    "            loss, current = loss.item(), batch * len(X)\n",
    "            print( f\"current batch loss: {loss:>7f}  [{current:>5d}/{size:>5d}]\" )"
   ]
  },
  {
   "cell_type": "code",
   "execution_count": 533,
   "metadata": {},
   "outputs": [],
   "source": [
    "def val_pass( dataloader, model, loss_fn ):\n",
    "    \n",
    "    size = len( dataloader.dataset )\n",
    "    num_batches = len( dataloader )\n",
    "    vl = 0.0\n",
    "\n",
    "    # we don't need gradients here since we only use the forward pass\n",
    "    with torch.no_grad():\n",
    "        for X, y in dataloader:\n",
    "            pred = model( X )\n",
    "            vl += loss_fn( pred, y ).item()\n",
    "\n",
    "    vl /= num_batches\n",
    "    print( f\"avg val loss per batch: {vl:>8f}\" )\n",
    "    \n",
    "    return vl\n",
    "\n",
    "def trn_pass( dataloader, model, loss_fn ):\n",
    "    \n",
    "    size = len( dataloader.dataset )\n",
    "    num_batches = len( dataloader )\n",
    "    tl = 0.0\n",
    "\n",
    "    # we don't need gradients here since we only use the forward pass\n",
    "    with torch.no_grad():\n",
    "        for X, y in dataloader:\n",
    "            pred = model( X )\n",
    "            tl += loss_fn( pred, y ).item()\n",
    "\n",
    "    tl /= num_batches\n",
    "    print( f\"avg trn loss per batch: {tl:>8f}\" )\n",
    "    \n",
    "    return tl"
   ]
  },
  {
   "cell_type": "code",
   "execution_count": 589,
   "metadata": {
    "scrolled": true
   },
   "outputs": [
    {
     "name": "stdout",
     "output_type": "stream",
     "text": [
      "-----------------------------------------------\n",
      "model architecture \n",
      "-----------------------------------------------\n",
      "JetTransformer(\n",
      "  (lin_embed): Linear(in_features=3, out_features=12, bias=True)\n",
      "  (transformer_layer_1): TransformerEncoderLayer(\n",
      "    (self_attn): MultiheadAttention(\n",
      "      (out_proj): NonDynamicallyQuantizableLinear(in_features=12, out_features=12, bias=True)\n",
      "    )\n",
      "    (linear1): Linear(in_features=12, out_features=12, bias=True)\n",
      "    (dropout): Dropout(p=0.0, inplace=False)\n",
      "    (linear2): Linear(in_features=12, out_features=12, bias=True)\n",
      "    (norm1): LayerNorm((12,), eps=1e-05, elementwise_affine=True)\n",
      "    (norm2): LayerNorm((12,), eps=1e-05, elementwise_affine=True)\n",
      "    (dropout1): Dropout(p=0.0, inplace=False)\n",
      "    (dropout2): Dropout(p=0.0, inplace=False)\n",
      "  )\n",
      "  (transformer_layer_2): TransformerEncoderLayer(\n",
      "    (self_attn): MultiheadAttention(\n",
      "      (out_proj): NonDynamicallyQuantizableLinear(in_features=12, out_features=12, bias=True)\n",
      "    )\n",
      "    (linear1): Linear(in_features=12, out_features=12, bias=True)\n",
      "    (dropout): Dropout(p=0.0, inplace=False)\n",
      "    (linear2): Linear(in_features=12, out_features=12, bias=True)\n",
      "    (norm1): LayerNorm((12,), eps=1e-05, elementwise_affine=True)\n",
      "    (norm2): LayerNorm((12,), eps=1e-05, elementwise_affine=True)\n",
      "    (dropout1): Dropout(p=0.0, inplace=False)\n",
      "    (dropout2): Dropout(p=0.0, inplace=False)\n",
      "  )\n",
      "  (head_network): Sequential(\n",
      "    (0): Linear(in_features=12, out_features=12, bias=True)\n",
      "    (1): ReLU()\n",
      "    (2): Linear(in_features=12, out_features=1, bias=True)\n",
      "  )\n",
      ")\n",
      "-----------------------------------------------\n",
      "Epoch 1\n",
      "-----------------------------------------------\n",
      "current batch loss: 2.038315  [    0/30000]\n",
      "current batch loss: 0.708841  [ 6400/30000]\n",
      "current batch loss: 0.652114  [12800/30000]\n",
      "current batch loss: 0.547807  [19200/30000]\n",
      "current batch loss: 0.601690  [25600/30000]\n",
      "-----------------------------------------------\n",
      "avg trn loss per batch: 0.574080\n",
      "-----------------------------------------------\n",
      "avg val loss per batch: 0.568269\n",
      "-----------------------------------------------\n",
      "|\n",
      "-----------------------------------------------\n",
      "Epoch 2\n",
      "-----------------------------------------------\n",
      "current batch loss: 0.504631  [    0/30000]\n",
      "current batch loss: 0.660607  [ 6400/30000]\n",
      "current batch loss: 0.580699  [12800/30000]\n",
      "current batch loss: 0.531166  [19200/30000]\n",
      "current batch loss: 0.499844  [25600/30000]\n",
      "-----------------------------------------------\n",
      "avg trn loss per batch: 0.551638\n",
      "-----------------------------------------------\n",
      "avg val loss per batch: 0.544431\n",
      "-----------------------------------------------\n",
      "|\n",
      "-----------------------------------------------\n",
      "Epoch 3\n",
      "-----------------------------------------------\n",
      "current batch loss: 0.542726  [    0/30000]\n",
      "current batch loss: 0.513780  [ 6400/30000]\n",
      "current batch loss: 0.596285  [12800/30000]\n",
      "current batch loss: 0.510194  [19200/30000]\n",
      "current batch loss: 0.584939  [25600/30000]\n",
      "-----------------------------------------------\n",
      "avg trn loss per batch: 0.415829\n",
      "-----------------------------------------------\n",
      "avg val loss per batch: 0.410737\n",
      "-----------------------------------------------\n",
      "|\n",
      "-----------------------------------------------\n",
      "Epoch 4\n",
      "-----------------------------------------------\n",
      "current batch loss: 0.463183  [    0/30000]\n",
      "current batch loss: 0.480011  [ 6400/30000]\n",
      "current batch loss: 0.329964  [12800/30000]\n",
      "current batch loss: 0.299465  [19200/30000]\n",
      "current batch loss: 0.382364  [25600/30000]\n",
      "-----------------------------------------------\n",
      "avg trn loss per batch: 0.359581\n",
      "-----------------------------------------------\n",
      "avg val loss per batch: 0.362123\n",
      "-----------------------------------------------\n",
      "|\n",
      "-----------------------------------------------\n",
      "Epoch 5\n",
      "-----------------------------------------------\n",
      "current batch loss: 0.347481  [    0/30000]\n",
      "current batch loss: 0.282840  [ 6400/30000]\n",
      "current batch loss: 0.341824  [12800/30000]\n",
      "current batch loss: 0.309620  [19200/30000]\n",
      "current batch loss: 0.397900  [25600/30000]\n",
      "-----------------------------------------------\n",
      "avg trn loss per batch: 0.317837\n",
      "-----------------------------------------------\n",
      "avg val loss per batch: 0.316359\n",
      "-----------------------------------------------\n",
      "|\n",
      "-----------------------------------------------\n",
      "Epoch 6\n",
      "-----------------------------------------------\n",
      "current batch loss: 0.236215  [    0/30000]\n",
      "current batch loss: 0.381067  [ 6400/30000]\n",
      "current batch loss: 0.403028  [12800/30000]\n",
      "current batch loss: 0.448708  [19200/30000]\n",
      "current batch loss: 0.264442  [25600/30000]\n",
      "-----------------------------------------------\n",
      "avg trn loss per batch: 0.295238\n",
      "-----------------------------------------------\n",
      "avg val loss per batch: 0.295681\n",
      "-----------------------------------------------\n",
      "|\n",
      "-----------------------------------------------\n",
      "Epoch 7\n",
      "-----------------------------------------------\n",
      "current batch loss: 0.330580  [    0/30000]\n",
      "current batch loss: 0.485348  [ 6400/30000]\n",
      "current batch loss: 0.360923  [12800/30000]\n",
      "current batch loss: 0.394259  [19200/30000]\n",
      "current batch loss: 0.199344  [25600/30000]\n",
      "-----------------------------------------------\n",
      "avg trn loss per batch: 0.290549\n",
      "-----------------------------------------------\n",
      "avg val loss per batch: 0.290348\n",
      "-----------------------------------------------\n",
      "|\n",
      "-----------------------------------------------\n",
      "Epoch 8\n",
      "-----------------------------------------------\n",
      "current batch loss: 0.199041  [    0/30000]\n",
      "current batch loss: 0.293849  [ 6400/30000]\n",
      "current batch loss: 0.589637  [12800/30000]\n",
      "current batch loss: 0.363157  [19200/30000]\n",
      "current batch loss: 0.233690  [25600/30000]\n",
      "-----------------------------------------------\n",
      "avg trn loss per batch: 0.293998\n",
      "-----------------------------------------------\n",
      "avg val loss per batch: 0.291037\n",
      "-----------------------------------------------\n",
      "|\n",
      "-----------------------------------------------\n",
      "Epoch 9\n",
      "-----------------------------------------------\n",
      "current batch loss: 0.368008  [    0/30000]\n",
      "current batch loss: 0.230289  [ 6400/30000]\n",
      "current batch loss: 0.272364  [12800/30000]\n",
      "current batch loss: 0.171782  [19200/30000]\n",
      "current batch loss: 0.262609  [25600/30000]\n",
      "-----------------------------------------------\n",
      "avg trn loss per batch: 0.267651\n",
      "-----------------------------------------------\n",
      "avg val loss per batch: 0.267520\n",
      "-----------------------------------------------\n",
      "|\n",
      "-----------------------------------------------\n",
      "Epoch 10\n",
      "-----------------------------------------------\n",
      "current batch loss: 0.357007  [    0/30000]\n",
      "current batch loss: 0.244798  [ 6400/30000]\n",
      "current batch loss: 0.331487  [12800/30000]\n",
      "current batch loss: 0.203830  [19200/30000]\n",
      "current batch loss: 0.153898  [25600/30000]\n",
      "-----------------------------------------------\n",
      "avg trn loss per batch: 0.267278\n",
      "-----------------------------------------------\n",
      "avg val loss per batch: 0.265954\n",
      "-----------------------------------------------\n",
      "|\n",
      "-----------------------------------------------\n",
      "Epoch 11\n",
      "-----------------------------------------------\n",
      "current batch loss: 0.161371  [    0/30000]\n",
      "current batch loss: 0.260693  [ 6400/30000]\n",
      "current batch loss: 0.362384  [12800/30000]\n",
      "current batch loss: 0.401770  [19200/30000]\n",
      "current batch loss: 0.150306  [25600/30000]\n",
      "-----------------------------------------------\n",
      "avg trn loss per batch: 0.264684\n",
      "-----------------------------------------------\n",
      "avg val loss per batch: 0.265494\n",
      "-----------------------------------------------\n",
      "|\n",
      "-----------------------------------------------\n",
      "Epoch 12\n",
      "-----------------------------------------------\n",
      "current batch loss: 0.168015  [    0/30000]\n",
      "current batch loss: 0.276201  [ 6400/30000]\n",
      "current batch loss: 0.259657  [12800/30000]\n",
      "current batch loss: 0.405994  [19200/30000]\n",
      "current batch loss: 0.327518  [25600/30000]\n",
      "-----------------------------------------------\n",
      "avg trn loss per batch: 0.252315\n",
      "-----------------------------------------------\n",
      "avg val loss per batch: 0.253376\n",
      "-----------------------------------------------\n",
      "|\n",
      "-----------------------------------------------\n",
      "Epoch 13\n",
      "-----------------------------------------------\n",
      "current batch loss: 0.287185  [    0/30000]\n",
      "current batch loss: 0.185820  [ 6400/30000]\n",
      "current batch loss: 0.237854  [12800/30000]\n"
     ]
    },
    {
     "name": "stdout",
     "output_type": "stream",
     "text": [
      "current batch loss: 0.352898  [19200/30000]\n",
      "current batch loss: 0.220859  [25600/30000]\n",
      "-----------------------------------------------\n",
      "avg trn loss per batch: 0.250246\n",
      "-----------------------------------------------\n",
      "avg val loss per batch: 0.251063\n",
      "-----------------------------------------------\n",
      "|\n",
      "-----------------------------------------------\n",
      "Epoch 14\n",
      "-----------------------------------------------\n",
      "current batch loss: 0.383535  [    0/30000]\n",
      "current batch loss: 0.193597  [ 6400/30000]\n",
      "current batch loss: 0.197166  [12800/30000]\n",
      "current batch loss: 0.295185  [19200/30000]\n",
      "current batch loss: 0.198898  [25600/30000]\n",
      "-----------------------------------------------\n",
      "avg trn loss per batch: 0.253703\n",
      "-----------------------------------------------\n",
      "avg val loss per batch: 0.251962\n",
      "-----------------------------------------------\n",
      "|\n",
      "-----------------------------------------------\n",
      "Epoch 15\n",
      "-----------------------------------------------\n",
      "current batch loss: 0.413200  [    0/30000]\n",
      "current batch loss: 0.403909  [ 6400/30000]\n",
      "current batch loss: 0.236304  [12800/30000]\n",
      "current batch loss: 0.231839  [19200/30000]\n",
      "current batch loss: 0.167374  [25600/30000]\n",
      "-----------------------------------------------\n",
      "avg trn loss per batch: 0.242859\n",
      "-----------------------------------------------\n",
      "avg val loss per batch: 0.244026\n",
      "-----------------------------------------------\n",
      "|\n",
      "-----------------------------------------------\n",
      "Epoch 16\n",
      "-----------------------------------------------\n",
      "current batch loss: 0.194350  [    0/30000]\n",
      "current batch loss: 0.268772  [ 6400/30000]\n",
      "current batch loss: 0.306465  [12800/30000]\n",
      "current batch loss: 0.300659  [19200/30000]\n",
      "current batch loss: 0.316408  [25600/30000]\n",
      "-----------------------------------------------\n",
      "avg trn loss per batch: 0.245196\n",
      "-----------------------------------------------\n",
      "avg val loss per batch: 0.245729\n",
      "-----------------------------------------------\n",
      "|\n",
      "-----------------------------------------------\n",
      "Epoch 17\n",
      "-----------------------------------------------\n",
      "current batch loss: 0.226193  [    0/30000]\n",
      "current batch loss: 0.292098  [ 6400/30000]\n",
      "current batch loss: 0.143267  [12800/30000]\n",
      "current batch loss: 0.230548  [19200/30000]\n",
      "current batch loss: 0.313477  [25600/30000]\n",
      "-----------------------------------------------\n",
      "avg trn loss per batch: 0.244292\n",
      "-----------------------------------------------\n",
      "avg val loss per batch: 0.244615\n",
      "-----------------------------------------------\n",
      "|\n",
      "-----------------------------------------------\n",
      "Epoch 18\n",
      "-----------------------------------------------\n",
      "current batch loss: 0.227489  [    0/30000]\n",
      "current batch loss: 0.295372  [ 6400/30000]\n",
      "current batch loss: 0.410481  [12800/30000]\n",
      "current batch loss: 0.287190  [19200/30000]\n",
      "current batch loss: 0.137441  [25600/30000]\n",
      "-----------------------------------------------\n",
      "avg trn loss per batch: 0.265166\n",
      "-----------------------------------------------\n",
      "avg val loss per batch: 0.271401\n",
      "-----------------------------------------------\n",
      "|\n",
      "-----------------------------------------------\n",
      "Epoch 19\n",
      "-----------------------------------------------\n",
      "current batch loss: 0.308269  [    0/30000]\n",
      "current batch loss: 0.212909  [ 6400/30000]\n",
      "current batch loss: 0.215405  [12800/30000]\n",
      "current batch loss: 0.191461  [19200/30000]\n",
      "current batch loss: 0.310516  [25600/30000]\n",
      "-----------------------------------------------\n",
      "avg trn loss per batch: 0.234066\n",
      "-----------------------------------------------\n",
      "avg val loss per batch: 0.235546\n",
      "-----------------------------------------------\n",
      "|\n",
      "-----------------------------------------------\n",
      "Epoch 20\n",
      "-----------------------------------------------\n",
      "current batch loss: 0.258796  [    0/30000]\n",
      "current batch loss: 0.313925  [ 6400/30000]\n",
      "current batch loss: 0.254224  [12800/30000]\n",
      "current batch loss: 0.196845  [19200/30000]\n",
      "current batch loss: 0.269220  [25600/30000]\n",
      "-----------------------------------------------\n",
      "avg trn loss per batch: 0.238414\n",
      "-----------------------------------------------\n",
      "avg val loss per batch: 0.238497\n",
      "-----------------------------------------------\n",
      "|\n",
      "-----------------------------------------------\n",
      "Epoch 21\n",
      "-----------------------------------------------\n",
      "current batch loss: 0.164536  [    0/30000]\n",
      "current batch loss: 0.185819  [ 6400/30000]\n",
      "current batch loss: 0.187065  [12800/30000]\n",
      "current batch loss: 0.255275  [19200/30000]\n",
      "current batch loss: 0.245775  [25600/30000]\n",
      "-----------------------------------------------\n",
      "avg trn loss per batch: 0.233103\n",
      "-----------------------------------------------\n",
      "avg val loss per batch: 0.233617\n",
      "-----------------------------------------------\n",
      "|\n",
      "-----------------------------------------------\n",
      "Epoch 22\n",
      "-----------------------------------------------\n",
      "current batch loss: 0.197300  [    0/30000]\n",
      "current batch loss: 0.248677  [ 6400/30000]\n",
      "current batch loss: 0.261169  [12800/30000]\n",
      "current batch loss: 0.220212  [19200/30000]\n",
      "current batch loss: 0.278395  [25600/30000]\n",
      "-----------------------------------------------\n",
      "avg trn loss per batch: 0.231002\n",
      "-----------------------------------------------\n",
      "avg val loss per batch: 0.236000\n",
      "-----------------------------------------------\n",
      "|\n",
      "-----------------------------------------------\n",
      "Epoch 23\n",
      "-----------------------------------------------\n",
      "current batch loss: 0.180125  [    0/30000]\n",
      "current batch loss: 0.246739  [ 6400/30000]\n",
      "current batch loss: 0.203509  [12800/30000]\n",
      "current batch loss: 0.345873  [19200/30000]\n",
      "current batch loss: 0.147106  [25600/30000]\n",
      "-----------------------------------------------\n",
      "avg trn loss per batch: 0.233104\n",
      "-----------------------------------------------\n",
      "avg val loss per batch: 0.237693\n",
      "-----------------------------------------------\n",
      "|\n",
      "-----------------------------------------------\n",
      "Epoch 24\n",
      "-----------------------------------------------\n",
      "current batch loss: 0.214916  [    0/30000]\n",
      "current batch loss: 0.286524  [ 6400/30000]\n",
      "current batch loss: 0.216638  [12800/30000]\n",
      "current batch loss: 0.214303  [19200/30000]\n",
      "current batch loss: 0.343433  [25600/30000]\n",
      "-----------------------------------------------\n",
      "avg trn loss per batch: 0.221596\n",
      "-----------------------------------------------\n",
      "avg val loss per batch: 0.226273\n",
      "-----------------------------------------------\n",
      "|\n",
      "-----------------------------------------------\n",
      "Epoch 25\n",
      "-----------------------------------------------\n",
      "current batch loss: 0.252582  [    0/30000]\n",
      "current batch loss: 0.191991  [ 6400/30000]\n",
      "current batch loss: 0.212613  [12800/30000]\n",
      "current batch loss: 0.185758  [19200/30000]\n",
      "current batch loss: 0.405205  [25600/30000]\n",
      "-----------------------------------------------\n",
      "avg trn loss per batch: 0.222373\n",
      "-----------------------------------------------\n",
      "avg val loss per batch: 0.229033\n",
      "-----------------------------------------------\n",
      "|\n",
      "Done!\n"
     ]
    }
   ],
   "source": [
    "# a useful function to present things clearer\n",
    "def separator():\n",
    "    print( \"-----------------------------------------------\" )\n",
    "\n",
    "epochs = 25\n",
    "\n",
    "# re-initialise the model and the optimizer\n",
    "model = JetTransformer( 3, 12, 3 )\n",
    "learning_rate = 0.0005\n",
    "optimizer = torch.optim.Adam( model.parameters(), lr=learning_rate )\n",
    "separator()\n",
    "print( \"model architecture \")\n",
    "separator()\n",
    "print( model )\n",
    "\n",
    "# track train and val losses\n",
    "trn_losses = []\n",
    "val_losses = []\n",
    "\n",
    "for t in range(epochs):\n",
    "    separator()\n",
    "    print( f\"Epoch {t+1}\" )\n",
    "    separator()\n",
    "    train_epoch( trn_dataloader, model, loss_fn, optimizer )\n",
    "    separator()\n",
    "    trn_loss = trn_pass( trn_dataloader, model, loss_fn )\n",
    "    trn_losses.append( trn_loss )\n",
    "    separator()\n",
    "    val_loss = val_pass( val_dataloader, model, loss_fn )\n",
    "    val_losses.append( val_loss )\n",
    "    separator()\n",
    "    print( \"|\" )\n",
    "    \n",
    "print(\"Done!\")"
   ]
  },
  {
   "cell_type": "markdown",
   "metadata": {},
   "source": [
    "## Study the results"
   ]
  },
  {
   "cell_type": "markdown",
   "metadata": {},
   "source": [
    "To study the results let's start by looking at the loss functions."
   ]
  },
  {
   "cell_type": "code",
   "execution_count": 590,
   "metadata": {},
   "outputs": [
    {
     "data": {
      "image/png": "[encoded data removed]",
      "text/plain": [
       "<Figure size 504x360 with 1 Axes>"
      ]
     },
     "metadata": {
      "needs_background": "light"
     },
     "output_type": "display_data"
    }
   ],
   "source": [
    "fig, axs = plt.subplots( 1, 1, figsize=(7,5) )\n",
    "\n",
    "c1 = 'tab:red'\n",
    "c2 = 'tab:green'\n",
    "\n",
    "axs.plot( trn_losses, label=\"train loss\", color=c1 )\n",
    "axs.plot( val_losses, label=\"val   loss\", color=c2 )\n",
    "\n",
    "axs.set_yscale('log')\n",
    "\n",
    "axs.set_xlabel( \"epoch\", fontproperties=axislabelfont )\n",
    "axs.set_ylabel( \"Binary CE\", fontproperties=axislabelfont )\n",
    "\n",
    "xticks = [ int(x) for x in axs.get_xticks() ]\n",
    "axs.set_xticklabels( xticks, fontproperties=tickfont )\n",
    "\n",
    "yticks = axs.get_yticks()\n",
    "axs.set_yticklabels( yticks, fontproperties=tickfont )\n",
    "\n",
    "axs.legend( loc='best', prop=tickfont )\n",
    "\n",
    "fig.tight_layout()"
   ]
  },
  {
   "cell_type": "code",
   "execution_count": 591,
   "metadata": {},
   "outputs": [],
   "source": [
    "samp_size = 10000\n",
    "\n",
    "train_pred = model( torch.Tensor( z_train[:samp_size] ) ).detach()\n",
    "test_pred = model( torch.Tensor( z_test[:samp_size] ) ).detach()\n",
    "val_pred = model( torch.Tensor( z_val[:samp_size] ) ).detach()\n",
    "\n",
    "train_pred_lab = torch.round( train_pred[:samp_size] )\n",
    "test_pred_lab = torch.round( test_pred[:samp_size] )\n",
    "val_pred_lab = torch.round( val_pred[:samp_size] )\n",
    "\n",
    "train_correct = ( np.array( train_pred_lab.squeeze(-1) ) == y_train[:samp_size] ).sum()\n",
    "test_correct = ( np.array( test_pred_lab.squeeze(-1) ) == y_test[:samp_size] ).sum()\n",
    "val_correct = ( np.array( val_pred_lab.squeeze(-1) ) == y_val[:samp_size] ).sum()"
   ]
  },
  {
   "cell_type": "code",
   "execution_count": 592,
   "metadata": {
    "scrolled": true
   },
   "outputs": [
    {
     "name": "stdout",
     "output_type": "stream",
     "text": [
      "-----------------------------------------------\n",
      "Evaluation of accuracy: \n",
      "Accuracy on training dataset: 90.6 %\n",
      "Accuracy on validation dataset: 90.5 %\n",
      "Accuracy on test dataset: 90.5 %\n",
      "-----------------------------------------------\n"
     ]
    }
   ],
   "source": [
    "separator()\n",
    "print('Evaluation of accuracy: ')\n",
    "print('Accuracy on training dataset: {:.1f} %'.format(train_correct*100/len(train_pred)))\n",
    "print('Accuracy on validation dataset: {:.1f} %'.format(val_correct*100/len(val_pred)))\n",
    "print('Accuracy on test dataset: {:.1f} %'.format(test_correct*100/len(test_pred)))\n",
    "separator()"
   ]
  },
  {
   "cell_type": "code",
   "execution_count": 593,
   "metadata": {},
   "outputs": [],
   "source": [
    "from sklearn.metrics import roc_curve, roc_auc_score\n",
    "\n",
    "def closest_point(array, tpr_p=0.3):\n",
    "    dist = ((array-tpr_p)**2)\n",
    "    return np.argmin(dist)"
   ]
  },
  {
   "cell_type": "code",
   "execution_count": 594,
   "metadata": {},
   "outputs": [
    {
     "data": {
      "image/png": "[encoded data removed]",
      "text/plain": [
       "<Figure size 1008x360 with 2 Axes>"
      ]
     },
     "metadata": {
      "needs_background": "light"
     },
     "output_type": "display_data"
    }
   ],
   "source": [
    "fig, ax = plt.subplots(1, 2, figsize=(14,5))\n",
    "\n",
    "fpr, tpr, th = roc_curve(y_test[0:samp_size], test_pred)\n",
    "auc_score = roc_auc_score(y_test[0:samp_size], test_pred)\n",
    "rnd_class = np.linspace(0, 1, 100)\n",
    "\n",
    "ax[0].plot(fpr, tpr, label='AUC = {:.2f}'.format(auc_score) )\n",
    "ax[0].plot(rnd_class, rnd_class, '--', label='Rnd classifier')\n",
    "ax[1].plot(tpr, 1/fpr, label='AUC = {:.2f}\\n $1/\\epsilon_{{bkg}}$(0.3) = {:.0f}'.format(auc_score, 1/fpr[closest_point(tpr, tpr_p=0.3)]))\n",
    "ax[1].plot(rnd_class, 1/rnd_class, '--', label='Rnd classifier')\n",
    "ax[1].set_yscale('log')\n",
    "\n",
    "ax[0].set_xlabel('$\\epsilon_{bkg}$ - FPR', fontproperties=axislabelfont)\n",
    "ax[0].set_ylabel('$\\epsilon_{s}$ - TPR', fontproperties=axislabelfont)\n",
    "\n",
    "ax[1].set_xlabel('$\\epsilon_{s}$ - TPR', fontproperties=axislabelfont)\n",
    "ax[1].set_ylabel('1/$\\epsilon_{bkg}$ - Inverse FPR', fontproperties=axislabelfont)\n",
    "for i in range(len(ax)):\n",
    "    ax[i].legend(prop=axislabelfont)\n",
    "    ax[i].tick_params(labelsize=axisfontsize)\n",
    "    ax[i].grid('on')"
   ]
  },
  {
   "cell_type": "markdown",
   "metadata": {},
   "source": [
    "Looks good!"
   ]
  },
  {
   "cell_type": "code",
   "execution_count": null,
   "metadata": {},
   "outputs": [],
   "source": []
  }
 ],
 "metadata": {
  "kernelspec": {
   "display_name": "Python 3",
   "language": "python",
   "name": "python3"
  },
  "language_info": {
   "codemirror_mode": {
    "name": "ipython",
    "version": 3
   },
   "file_extension": ".py",
   "mimetype": "text/x-python",
   "name": "python",
   "nbconvert_exporter": "python",
   "pygments_lexer": "ipython3",
   "version": "3.8.10"
  }
 },
 "nbformat": 4,
 "nbformat_minor": 4
}
